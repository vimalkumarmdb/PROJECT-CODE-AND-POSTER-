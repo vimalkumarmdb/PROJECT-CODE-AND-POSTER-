{
 "cells": [
  {
   "cell_type": "markdown",
   "metadata": {
    "_cell_guid": "b84ebaa7-5b4a-4735-ac03-343a6cc5a1ea",
    "_uuid": "fff956d585839103c50d9f51271c847f82996c15"
   },
   "source": [
    "# Importing  libaries"
   ]
  },
  {
   "cell_type": "code",
   "execution_count": 1,
   "metadata": {
    "_cell_guid": "eed81550-0f76-4f53-bca7-81f81fb1e815",
    "_execution_state": "idle",
    "_uuid": "a62146aa79239c742ebbb31f6dc6fc7f2c97f42c",
    "collapsed": true
   },
   "outputs": [],
   "source": [
    "import pandas as pd\n",
    "import numpy as np\n",
    "import seaborn as sns\n",
    "%matplotlib inline\n",
    "import matplotlib as mpl\n",
    "import matplotlib.pyplot as plt\n",
    "from scipy.stats import skew"
   ]
  },
  {
   "cell_type": "markdown",
   "metadata": {},
   "source": [
    "# Load the dataset"
   ]
  },
  {
   "cell_type": "code",
   "execution_count": 2,
   "metadata": {},
   "outputs": [
    {
     "data": {
      "text/html": [
       "<div>\n",
       "<style scoped>\n",
       "    .dataframe tbody tr th:only-of-type {\n",
       "        vertical-align: middle;\n",
       "    }\n",
       "\n",
       "    .dataframe tbody tr th {\n",
       "        vertical-align: top;\n",
       "    }\n",
       "\n",
       "    .dataframe thead th {\n",
       "        text-align: right;\n",
       "    }\n",
       "</style>\n",
       "<table border=\"1\" class=\"dataframe\">\n",
       "  <thead>\n",
       "    <tr style=\"text-align: right;\">\n",
       "      <th></th>\n",
       "      <th>id</th>\n",
       "      <th>date</th>\n",
       "      <th>SalePrice</th>\n",
       "      <th>bedrooms</th>\n",
       "      <th>bathrooms</th>\n",
       "      <th>sqft_living</th>\n",
       "      <th>sqft_lot</th>\n",
       "      <th>floors</th>\n",
       "      <th>waterfront</th>\n",
       "      <th>view</th>\n",
       "      <th>...</th>\n",
       "      <th>grade</th>\n",
       "      <th>sqft_above</th>\n",
       "      <th>sqft_basement</th>\n",
       "      <th>yr_built</th>\n",
       "      <th>yr_renovated</th>\n",
       "      <th>zipcode</th>\n",
       "      <th>lat</th>\n",
       "      <th>long</th>\n",
       "      <th>sqft_living15</th>\n",
       "      <th>sqft_lot15</th>\n",
       "    </tr>\n",
       "  </thead>\n",
       "  <tbody>\n",
       "    <tr>\n",
       "      <th>0</th>\n",
       "      <td>7129300520</td>\n",
       "      <td>20141013T000000</td>\n",
       "      <td>221900.0</td>\n",
       "      <td>3</td>\n",
       "      <td>1.0</td>\n",
       "      <td>1180</td>\n",
       "      <td>5650</td>\n",
       "      <td>1.0</td>\n",
       "      <td>0</td>\n",
       "      <td>0</td>\n",
       "      <td>...</td>\n",
       "      <td>7</td>\n",
       "      <td>1180</td>\n",
       "      <td>0</td>\n",
       "      <td>1955</td>\n",
       "      <td>0</td>\n",
       "      <td>98178</td>\n",
       "      <td>48.0</td>\n",
       "      <td>-122.0</td>\n",
       "      <td>1340</td>\n",
       "      <td>5650</td>\n",
       "    </tr>\n",
       "    <tr>\n",
       "      <th>1</th>\n",
       "      <td>6414100192</td>\n",
       "      <td>20141209T000000</td>\n",
       "      <td>538000.0</td>\n",
       "      <td>3</td>\n",
       "      <td>2.0</td>\n",
       "      <td>2570</td>\n",
       "      <td>7242</td>\n",
       "      <td>2.0</td>\n",
       "      <td>0</td>\n",
       "      <td>0</td>\n",
       "      <td>...</td>\n",
       "      <td>7</td>\n",
       "      <td>2170</td>\n",
       "      <td>400</td>\n",
       "      <td>1951</td>\n",
       "      <td>1991</td>\n",
       "      <td>98125</td>\n",
       "      <td>48.0</td>\n",
       "      <td>-122.0</td>\n",
       "      <td>1690</td>\n",
       "      <td>7639</td>\n",
       "    </tr>\n",
       "    <tr>\n",
       "      <th>2</th>\n",
       "      <td>5631500400</td>\n",
       "      <td>20150225T000000</td>\n",
       "      <td>180000.0</td>\n",
       "      <td>2</td>\n",
       "      <td>1.0</td>\n",
       "      <td>770</td>\n",
       "      <td>10000</td>\n",
       "      <td>1.0</td>\n",
       "      <td>0</td>\n",
       "      <td>0</td>\n",
       "      <td>...</td>\n",
       "      <td>6</td>\n",
       "      <td>770</td>\n",
       "      <td>0</td>\n",
       "      <td>1933</td>\n",
       "      <td>0</td>\n",
       "      <td>98028</td>\n",
       "      <td>48.0</td>\n",
       "      <td>-122.0</td>\n",
       "      <td>2720</td>\n",
       "      <td>8062</td>\n",
       "    </tr>\n",
       "    <tr>\n",
       "      <th>3</th>\n",
       "      <td>2487200875</td>\n",
       "      <td>20141209T000000</td>\n",
       "      <td>604000.0</td>\n",
       "      <td>4</td>\n",
       "      <td>3.0</td>\n",
       "      <td>1960</td>\n",
       "      <td>5000</td>\n",
       "      <td>1.0</td>\n",
       "      <td>0</td>\n",
       "      <td>0</td>\n",
       "      <td>...</td>\n",
       "      <td>7</td>\n",
       "      <td>1050</td>\n",
       "      <td>910</td>\n",
       "      <td>1965</td>\n",
       "      <td>0</td>\n",
       "      <td>98136</td>\n",
       "      <td>48.0</td>\n",
       "      <td>-122.0</td>\n",
       "      <td>1360</td>\n",
       "      <td>5000</td>\n",
       "    </tr>\n",
       "    <tr>\n",
       "      <th>4</th>\n",
       "      <td>1954400510</td>\n",
       "      <td>20150218T000000</td>\n",
       "      <td>510000.0</td>\n",
       "      <td>3</td>\n",
       "      <td>2.0</td>\n",
       "      <td>1680</td>\n",
       "      <td>8080</td>\n",
       "      <td>1.0</td>\n",
       "      <td>0</td>\n",
       "      <td>0</td>\n",
       "      <td>...</td>\n",
       "      <td>8</td>\n",
       "      <td>1680</td>\n",
       "      <td>0</td>\n",
       "      <td>1987</td>\n",
       "      <td>0</td>\n",
       "      <td>98074</td>\n",
       "      <td>48.0</td>\n",
       "      <td>-122.0</td>\n",
       "      <td>1800</td>\n",
       "      <td>7503</td>\n",
       "    </tr>\n",
       "  </tbody>\n",
       "</table>\n",
       "<p>5 rows × 21 columns</p>\n",
       "</div>"
      ],
      "text/plain": [
       "           id             date  SalePrice  bedrooms  bathrooms  sqft_living  \\\n",
       "0  7129300520  20141013T000000   221900.0         3        1.0         1180   \n",
       "1  6414100192  20141209T000000   538000.0         3        2.0         2570   \n",
       "2  5631500400  20150225T000000   180000.0         2        1.0          770   \n",
       "3  2487200875  20141209T000000   604000.0         4        3.0         1960   \n",
       "4  1954400510  20150218T000000   510000.0         3        2.0         1680   \n",
       "\n",
       "   sqft_lot  floors  waterfront  view  ...  grade  sqft_above  sqft_basement  \\\n",
       "0      5650     1.0           0     0  ...      7        1180              0   \n",
       "1      7242     2.0           0     0  ...      7        2170            400   \n",
       "2     10000     1.0           0     0  ...      6         770              0   \n",
       "3      5000     1.0           0     0  ...      7        1050            910   \n",
       "4      8080     1.0           0     0  ...      8        1680              0   \n",
       "\n",
       "   yr_built  yr_renovated  zipcode   lat   long  sqft_living15  sqft_lot15  \n",
       "0      1955             0    98178  48.0 -122.0           1340        5650  \n",
       "1      1951          1991    98125  48.0 -122.0           1690        7639  \n",
       "2      1933             0    98028  48.0 -122.0           2720        8062  \n",
       "3      1965             0    98136  48.0 -122.0           1360        5000  \n",
       "4      1987             0    98074  48.0 -122.0           1800        7503  \n",
       "\n",
       "[5 rows x 21 columns]"
      ]
     },
     "execution_count": 2,
     "metadata": {},
     "output_type": "execute_result"
    }
   ],
   "source": [
    "df = pd.DataFrame(np.round(pd.read_csv(\"our project data.csv\")))\n",
    "l=df\n",
    "df.rename(columns ={'price': 'SalePrice'}, inplace =True)\n",
    "df.head()"
   ]
  },
  {
   "cell_type": "markdown",
   "metadata": {},
   "source": [
    "# Checking the columns in the dataset"
   ]
  },
  {
   "cell_type": "code",
   "execution_count": 3,
   "metadata": {
    "_cell_guid": "bda9670c-c484-4e80-81fd-a50637441371",
    "_execution_state": "idle",
    "_uuid": "f3a0becb9ce7bbd5413f104d57cd89c0794284be",
    "collapsed": true
   },
   "outputs": [
    {
     "data": {
      "text/plain": [
       "Index(['id', 'date', 'SalePrice', 'bedrooms', 'bathrooms', 'sqft_living',\n",
       "       'sqft_lot', 'floors', 'waterfront', 'view', 'condition', 'grade',\n",
       "       'sqft_above', 'sqft_basement', 'yr_built', 'yr_renovated', 'zipcode',\n",
       "       'lat', 'long', 'sqft_living15', 'sqft_lot15'],\n",
       "      dtype='object')"
      ]
     },
     "execution_count": 3,
     "metadata": {},
     "output_type": "execute_result"
    }
   ],
   "source": [
    "df.columns"
   ]
  },
  {
   "cell_type": "code",
   "execution_count": 4,
   "metadata": {},
   "outputs": [],
   "source": [
    "y=pd.DataFrame(df[\"SalePrice\"])"
   ]
  },
  {
   "cell_type": "markdown",
   "metadata": {},
   "source": [
    "y.shape"
   ]
  },
  {
   "cell_type": "code",
   "execution_count": 5,
   "metadata": {},
   "outputs": [],
   "source": [
    "df=df.drop(['id', 'date', 'SalePrice'],axis=1)"
   ]
  },
  {
   "cell_type": "code",
   "execution_count": 6,
   "metadata": {},
   "outputs": [
    {
     "data": {
      "text/html": [
       "<div>\n",
       "<style scoped>\n",
       "    .dataframe tbody tr th:only-of-type {\n",
       "        vertical-align: middle;\n",
       "    }\n",
       "\n",
       "    .dataframe tbody tr th {\n",
       "        vertical-align: top;\n",
       "    }\n",
       "\n",
       "    .dataframe thead th {\n",
       "        text-align: right;\n",
       "    }\n",
       "</style>\n",
       "<table border=\"1\" class=\"dataframe\">\n",
       "  <thead>\n",
       "    <tr style=\"text-align: right;\">\n",
       "      <th></th>\n",
       "      <th>bedrooms</th>\n",
       "      <th>bathrooms</th>\n",
       "      <th>sqft_living</th>\n",
       "      <th>sqft_lot</th>\n",
       "      <th>floors</th>\n",
       "      <th>waterfront</th>\n",
       "      <th>view</th>\n",
       "      <th>condition</th>\n",
       "      <th>grade</th>\n",
       "      <th>sqft_above</th>\n",
       "      <th>sqft_basement</th>\n",
       "      <th>yr_built</th>\n",
       "      <th>yr_renovated</th>\n",
       "      <th>zipcode</th>\n",
       "      <th>lat</th>\n",
       "      <th>long</th>\n",
       "      <th>sqft_living15</th>\n",
       "      <th>sqft_lot15</th>\n",
       "    </tr>\n",
       "  </thead>\n",
       "  <tbody>\n",
       "    <tr>\n",
       "      <th>0</th>\n",
       "      <td>3</td>\n",
       "      <td>1.0</td>\n",
       "      <td>1180</td>\n",
       "      <td>5650</td>\n",
       "      <td>1.0</td>\n",
       "      <td>0</td>\n",
       "      <td>0</td>\n",
       "      <td>3</td>\n",
       "      <td>7</td>\n",
       "      <td>1180</td>\n",
       "      <td>0</td>\n",
       "      <td>1955</td>\n",
       "      <td>0</td>\n",
       "      <td>98178</td>\n",
       "      <td>48.0</td>\n",
       "      <td>-122.0</td>\n",
       "      <td>1340</td>\n",
       "      <td>5650</td>\n",
       "    </tr>\n",
       "    <tr>\n",
       "      <th>1</th>\n",
       "      <td>3</td>\n",
       "      <td>2.0</td>\n",
       "      <td>2570</td>\n",
       "      <td>7242</td>\n",
       "      <td>2.0</td>\n",
       "      <td>0</td>\n",
       "      <td>0</td>\n",
       "      <td>3</td>\n",
       "      <td>7</td>\n",
       "      <td>2170</td>\n",
       "      <td>400</td>\n",
       "      <td>1951</td>\n",
       "      <td>1991</td>\n",
       "      <td>98125</td>\n",
       "      <td>48.0</td>\n",
       "      <td>-122.0</td>\n",
       "      <td>1690</td>\n",
       "      <td>7639</td>\n",
       "    </tr>\n",
       "    <tr>\n",
       "      <th>2</th>\n",
       "      <td>2</td>\n",
       "      <td>1.0</td>\n",
       "      <td>770</td>\n",
       "      <td>10000</td>\n",
       "      <td>1.0</td>\n",
       "      <td>0</td>\n",
       "      <td>0</td>\n",
       "      <td>3</td>\n",
       "      <td>6</td>\n",
       "      <td>770</td>\n",
       "      <td>0</td>\n",
       "      <td>1933</td>\n",
       "      <td>0</td>\n",
       "      <td>98028</td>\n",
       "      <td>48.0</td>\n",
       "      <td>-122.0</td>\n",
       "      <td>2720</td>\n",
       "      <td>8062</td>\n",
       "    </tr>\n",
       "    <tr>\n",
       "      <th>3</th>\n",
       "      <td>4</td>\n",
       "      <td>3.0</td>\n",
       "      <td>1960</td>\n",
       "      <td>5000</td>\n",
       "      <td>1.0</td>\n",
       "      <td>0</td>\n",
       "      <td>0</td>\n",
       "      <td>5</td>\n",
       "      <td>7</td>\n",
       "      <td>1050</td>\n",
       "      <td>910</td>\n",
       "      <td>1965</td>\n",
       "      <td>0</td>\n",
       "      <td>98136</td>\n",
       "      <td>48.0</td>\n",
       "      <td>-122.0</td>\n",
       "      <td>1360</td>\n",
       "      <td>5000</td>\n",
       "    </tr>\n",
       "    <tr>\n",
       "      <th>4</th>\n",
       "      <td>3</td>\n",
       "      <td>2.0</td>\n",
       "      <td>1680</td>\n",
       "      <td>8080</td>\n",
       "      <td>1.0</td>\n",
       "      <td>0</td>\n",
       "      <td>0</td>\n",
       "      <td>3</td>\n",
       "      <td>8</td>\n",
       "      <td>1680</td>\n",
       "      <td>0</td>\n",
       "      <td>1987</td>\n",
       "      <td>0</td>\n",
       "      <td>98074</td>\n",
       "      <td>48.0</td>\n",
       "      <td>-122.0</td>\n",
       "      <td>1800</td>\n",
       "      <td>7503</td>\n",
       "    </tr>\n",
       "  </tbody>\n",
       "</table>\n",
       "</div>"
      ],
      "text/plain": [
       "   bedrooms  bathrooms  sqft_living  sqft_lot  floors  waterfront  view  \\\n",
       "0         3        1.0         1180      5650     1.0           0     0   \n",
       "1         3        2.0         2570      7242     2.0           0     0   \n",
       "2         2        1.0          770     10000     1.0           0     0   \n",
       "3         4        3.0         1960      5000     1.0           0     0   \n",
       "4         3        2.0         1680      8080     1.0           0     0   \n",
       "\n",
       "   condition  grade  sqft_above  sqft_basement  yr_built  yr_renovated  \\\n",
       "0          3      7        1180              0      1955             0   \n",
       "1          3      7        2170            400      1951          1991   \n",
       "2          3      6         770              0      1933             0   \n",
       "3          5      7        1050            910      1965             0   \n",
       "4          3      8        1680              0      1987             0   \n",
       "\n",
       "   zipcode   lat   long  sqft_living15  sqft_lot15  \n",
       "0    98178  48.0 -122.0           1340        5650  \n",
       "1    98125  48.0 -122.0           1690        7639  \n",
       "2    98028  48.0 -122.0           2720        8062  \n",
       "3    98136  48.0 -122.0           1360        5000  \n",
       "4    98074  48.0 -122.0           1800        7503  "
      ]
     },
     "execution_count": 6,
     "metadata": {},
     "output_type": "execute_result"
    }
   ],
   "source": [
    "df.head()"
   ]
  },
  {
   "cell_type": "markdown",
   "metadata": {
    "_cell_guid": "aa9d109b-64ce-40c9-ae5f-ecd3b8a719b8",
    "_execution_state": "idle",
    "_uuid": "21ff7fd7077067208537f717a062a5da374101f6"
   },
   "source": [
    "# Univariate Analysis "
   ]
  },
  {
   "cell_type": "markdown",
   "metadata": {
    "_cell_guid": "a89932d1-a344-4249-af4d-702b77ff8747",
    "_uuid": "09f4f1c0ce5a94fe3f77521276ce93a854fd7aab"
   },
   "source": [
    "Histogram: The saleprice has appreciable positive skewness,\n",
    "deviates from the normal distribution and\n",
    "shows peakedness.\n",
    "Let's take a look at the skewness and kurtosis in numbers:"
   ]
  },
  {
   "cell_type": "markdown",
   "metadata": {
    "_cell_guid": "5d21a465-912a-4cbf-a6a7-074dbcf7c8b3",
    "_uuid": "3e962893faf8a69e74dbc7376a7de350d1fe8823"
   },
   "source": [
    "This is quite significant. At the data standardisation section, we will fix this. "
   ]
  },
  {
   "cell_type": "markdown",
   "metadata": {
    "_cell_guid": "4456da0b-598d-46a2-9338-653e23960acf",
    "_uuid": "3b6fd366702d3fdec7cc59907498598013796b8c"
   },
   "source": [
    "# 2. Feature exploration "
   ]
  },
  {
   "cell_type": "code",
   "execution_count": 7,
   "metadata": {
    "_cell_guid": "22ded60a-255f-444d-bc05-e70acbbcafcd",
    "_execution_state": "idle",
    "_uuid": "6ce8c98065287d625c47e46ddf709463c360910f",
    "collapsed": true
   },
   "outputs": [
    {
     "data": {
      "image/png": "[encoded data removed]",
      "text/plain": [
       "<Figure size 432x288 with 1 Axes>"
      ]
     },
     "metadata": {
      "needs_background": "light"
     },
     "output_type": "display_data"
    }
   ],
   "source": [
    "var = 'sqft_living15'\n",
    "data = pd.concat([y['SalePrice'], df[var]], axis=1)\n",
    "data.plot.scatter(x=var, y='SalePrice', ylim=(3,8000000))\n",
    "plt.savefig('sqft_living15 vs SalePrice .png')"
   ]
  },
  {
   "cell_type": "markdown",
   "metadata": {
    "_cell_guid": "642acb2f-75c1-41d8-858e-8f785c64ddee",
    "_uuid": "bd06114efb018cc05e86e8d054bd23cebde7bcd6"
   },
   "source": [
    "There's clearly a linear relationship with a significant portion of outliers. "
   ]
  },
  {
   "cell_type": "code",
   "execution_count": 8,
   "metadata": {},
   "outputs": [
    {
     "data": {
      "image/png": "[encoded data removed]",
      "text/plain": [
       "<Figure size 720x360 with 1 Axes>"
      ]
     },
     "metadata": {
      "needs_background": "light"
     },
     "output_type": "display_data"
    },
    {
     "data": {
      "text/plain": [
       "<Figure size 432x288 with 0 Axes>"
      ]
     },
     "metadata": {},
     "output_type": "display_data"
    }
   ],
   "source": [
    "plt.figure(figsize=(10,5))\n",
    "sns.countplot( df['bedrooms'])\n",
    "plt.show()\n",
    "plt.savefig(\"bedroom.png\")"
   ]
  },
  {
   "cell_type": "code",
   "execution_count": 9,
   "metadata": {},
   "outputs": [
    {
     "data": {
      "image/png": "[encoded data removed]",
      "text/plain": [
       "<Figure size 720x360 with 1 Axes>"
      ]
     },
     "metadata": {
      "needs_background": "light"
     },
     "output_type": "display_data"
    }
   ],
   "source": [
    "plt.figure(figsize=(10,5))\n",
    "sns.countplot(df['bathrooms'])\n",
    "plt.show()"
   ]
  },
  {
   "cell_type": "code",
   "execution_count": 10,
   "metadata": {},
   "outputs": [
    {
     "data": {
      "image/png": "[encoded data removed]",
      "text/plain": [
       "<Figure size 720x360 with 1 Axes>"
      ]
     },
     "metadata": {
      "needs_background": "light"
     },
     "output_type": "display_data"
    }
   ],
   "source": [
    "plt.figure(figsize=(10,5))\n",
    "sns.countplot(df['floors'])\n",
    "plt.show()"
   ]
  },
  {
   "cell_type": "markdown",
   "metadata": {},
   "source": [
    "# Bivariate Analysis"
   ]
  },
  {
   "cell_type": "code",
   "execution_count": 11,
   "metadata": {},
   "outputs": [
    {
     "data": {
      "image/png": "[encoded data removed]",
      "text/plain": [
       "<Figure size 648x648 with 1 Axes>"
      ]
     },
     "metadata": {
      "needs_background": "light"
     },
     "output_type": "display_data"
    }
   ],
   "source": [
    "var = 'bedrooms'\n",
    "data = pd.concat([y, df[var]], axis=1)\n",
    "f, ax = plt.subplots(figsize=(9, 9))\n",
    "fig = sns.boxplot(x=var, y=\"SalePrice\", data=data)\n",
    "plt.title(\"Impact of bedrooms on SalePrice\")\n",
    "fig.axis(ymin=0, ymax=3500000);"
   ]
  },
  {
   "cell_type": "code",
   "execution_count": 12,
   "metadata": {
    "_cell_guid": "c2eb4877-6232-43e5-ada2-7d4ce5b6eb55",
    "_execution_state": "idle",
    "_uuid": "e3072f20295b099ca05ce05f2f14a9c03bfbf9c7"
   },
   "outputs": [
    {
     "data": {
      "image/png": "[encoded data removed]",
      "text/plain": [
       "<Figure size 576x576 with 1 Axes>"
      ]
     },
     "metadata": {
      "needs_background": "light"
     },
     "output_type": "display_data"
    }
   ],
   "source": [
    "var = 'grade'\n",
    "data = pd.concat([y, df[var]], axis=1)\n",
    "f, ax = plt.subplots(figsize=(8, 8))\n",
    "fig = sns.boxplot(x=var, y=\"SalePrice\", data=data)\n",
    "plt.title('Impact of grade on SalePrice')\n",
    "fig.axis(ymin=0, ymax=3500000);"
   ]
  },
  {
   "cell_type": "code",
   "execution_count": 13,
   "metadata": {
    "_cell_guid": "572bd301-12e2-4456-9100-8da35c82bd9d",
    "_execution_state": "idle",
    "_uuid": "aec17e9aa744a02cfa943cbd9dd9441b6e7724c1",
    "collapsed": true
   },
   "outputs": [
    {
     "data": {
      "image/png": "[encoded data removed]",
      "text/plain": [
       "<Figure size 648x648 with 1 Axes>"
      ]
     },
     "metadata": {
      "needs_background": "light"
     },
     "output_type": "display_data"
    }
   ],
   "source": [
    "var = 'bathrooms'\n",
    "data = pd.concat([y['SalePrice'], df[var]], axis=1)\n",
    "f, ax = plt.subplots(figsize=(9, 9))\n",
    "fig = sns.boxplot(x=var, y=\"SalePrice\", data=data)\n",
    "plt.title('Impact of bathrooms on SalePrice', color = 'red')\n",
    "fig.axis(ymin=0, ymax=3500000);"
   ]
  },
  {
   "cell_type": "code",
   "execution_count": 14,
   "metadata": {
    "_cell_guid": "8e8c1ac2-1bb0-43fa-a453-7bca993eda11",
    "_execution_state": "idle",
    "_uuid": "cb4ea82dc1c12cf97f08f97d0b0fee69520a3251",
    "collapsed": true
   },
   "outputs": [
    {
     "data": {
      "image/png": "[encoded data removed]",
      "text/plain": [
       "<Figure size 1440x1440 with 1 Axes>"
      ]
     },
     "metadata": {
      "needs_background": "light"
     },
     "output_type": "display_data"
    }
   ],
   "source": [
    "var = 'yr_built'\n",
    "data = pd.concat([y['SalePrice'], df[var]], axis=1)\n",
    "f, ax = plt.subplots(figsize=(20, 20))\n",
    "fig = sns.boxplot(x=var, y=\"SalePrice\", data=data)\n",
    "plt.title('Impact of yr_built on SalePrice', color = 'red')\n",
    "fig.axis(ymin=0, ymax=800000);\n",
    "plt.xticks(rotation=90);\n",
    "plt.show()"
   ]
  },
  {
   "cell_type": "markdown",
   "metadata": {},
   "source": [
    "# Time series Analysis"
   ]
  },
  {
   "cell_type": "code",
   "execution_count": 15,
   "metadata": {},
   "outputs": [
    {
     "data": {
      "image/png": "[encoded data removed]",
      "text/plain": [
       "<Figure size 1296x576 with 1 Axes>"
      ]
     },
     "metadata": {
      "needs_background": "light"
     },
     "output_type": "display_data"
    }
   ],
   "source": [
    "data = l['yr_built'].value_counts().reset_index(name='yrbuilt')\n",
    "data.columns = ['yr_built', 'Count']\n",
    "plt.figure(figsize=(18,8))\n",
    "c = plt.bar(data[\"yr_built\"], data[\"Count\"],align='center')\n",
    "plt.title('House Built per year')\n",
    "plt.xlabel('Year_Built')\n",
    "plt.ylabel('No of House')\n",
    "plt.show()"
   ]
  },
  {
   "cell_type": "code",
   "execution_count": 16,
   "metadata": {},
   "outputs": [
    {
     "data": {
      "image/png": "[encoded data removed]",
      "text/plain": [
       "<Figure size 2160x576 with 1 Axes>"
      ]
     },
     "metadata": {
      "needs_background": "light"
     },
     "output_type": "display_data"
    }
   ],
   "source": [
    "data1 = l[['yr_built', 'SalePrice']].groupby(['yr_built'], as_index=True).mean().plot(figsize=(30,8),color = 'blue')\n",
    "plt.title('Sale Price decrease and increase per Year')\n",
    "plt.show()\n",
    "time =data1.get_figure()\n",
    "time.savefig('Time.png')"
   ]
  },
  {
   "cell_type": "code",
   "execution_count": 17,
   "metadata": {},
   "outputs": [
    {
     "data": {
      "text/html": [
       "<div>\n",
       "<style scoped>\n",
       "    .dataframe tbody tr th:only-of-type {\n",
       "        vertical-align: middle;\n",
       "    }\n",
       "\n",
       "    .dataframe tbody tr th {\n",
       "        vertical-align: top;\n",
       "    }\n",
       "\n",
       "    .dataframe thead th {\n",
       "        text-align: right;\n",
       "    }\n",
       "</style>\n",
       "<table border=\"1\" class=\"dataframe\">\n",
       "  <thead>\n",
       "    <tr style=\"text-align: right;\">\n",
       "      <th></th>\n",
       "      <th>bedrooms</th>\n",
       "      <th>bathrooms</th>\n",
       "      <th>sqft_living</th>\n",
       "      <th>sqft_lot</th>\n",
       "      <th>floors</th>\n",
       "      <th>waterfront</th>\n",
       "      <th>view</th>\n",
       "      <th>condition</th>\n",
       "      <th>grade</th>\n",
       "      <th>sqft_above</th>\n",
       "      <th>sqft_basement</th>\n",
       "      <th>yr_built</th>\n",
       "      <th>yr_renovated</th>\n",
       "      <th>zipcode</th>\n",
       "      <th>lat</th>\n",
       "      <th>long</th>\n",
       "      <th>sqft_living15</th>\n",
       "      <th>sqft_lot15</th>\n",
       "    </tr>\n",
       "  </thead>\n",
       "  <tbody>\n",
       "    <tr>\n",
       "      <th>0</th>\n",
       "      <td>3</td>\n",
       "      <td>1.0</td>\n",
       "      <td>1180</td>\n",
       "      <td>5650</td>\n",
       "      <td>1.0</td>\n",
       "      <td>0</td>\n",
       "      <td>0</td>\n",
       "      <td>3</td>\n",
       "      <td>7</td>\n",
       "      <td>1180</td>\n",
       "      <td>0</td>\n",
       "      <td>1955</td>\n",
       "      <td>0</td>\n",
       "      <td>98178</td>\n",
       "      <td>48.0</td>\n",
       "      <td>-122.0</td>\n",
       "      <td>1340</td>\n",
       "      <td>5650</td>\n",
       "    </tr>\n",
       "    <tr>\n",
       "      <th>1</th>\n",
       "      <td>3</td>\n",
       "      <td>2.0</td>\n",
       "      <td>2570</td>\n",
       "      <td>7242</td>\n",
       "      <td>2.0</td>\n",
       "      <td>0</td>\n",
       "      <td>0</td>\n",
       "      <td>3</td>\n",
       "      <td>7</td>\n",
       "      <td>2170</td>\n",
       "      <td>400</td>\n",
       "      <td>1951</td>\n",
       "      <td>1991</td>\n",
       "      <td>98125</td>\n",
       "      <td>48.0</td>\n",
       "      <td>-122.0</td>\n",
       "      <td>1690</td>\n",
       "      <td>7639</td>\n",
       "    </tr>\n",
       "    <tr>\n",
       "      <th>2</th>\n",
       "      <td>2</td>\n",
       "      <td>1.0</td>\n",
       "      <td>770</td>\n",
       "      <td>10000</td>\n",
       "      <td>1.0</td>\n",
       "      <td>0</td>\n",
       "      <td>0</td>\n",
       "      <td>3</td>\n",
       "      <td>6</td>\n",
       "      <td>770</td>\n",
       "      <td>0</td>\n",
       "      <td>1933</td>\n",
       "      <td>0</td>\n",
       "      <td>98028</td>\n",
       "      <td>48.0</td>\n",
       "      <td>-122.0</td>\n",
       "      <td>2720</td>\n",
       "      <td>8062</td>\n",
       "    </tr>\n",
       "    <tr>\n",
       "      <th>3</th>\n",
       "      <td>4</td>\n",
       "      <td>3.0</td>\n",
       "      <td>1960</td>\n",
       "      <td>5000</td>\n",
       "      <td>1.0</td>\n",
       "      <td>0</td>\n",
       "      <td>0</td>\n",
       "      <td>5</td>\n",
       "      <td>7</td>\n",
       "      <td>1050</td>\n",
       "      <td>910</td>\n",
       "      <td>1965</td>\n",
       "      <td>0</td>\n",
       "      <td>98136</td>\n",
       "      <td>48.0</td>\n",
       "      <td>-122.0</td>\n",
       "      <td>1360</td>\n",
       "      <td>5000</td>\n",
       "    </tr>\n",
       "    <tr>\n",
       "      <th>4</th>\n",
       "      <td>3</td>\n",
       "      <td>2.0</td>\n",
       "      <td>1680</td>\n",
       "      <td>8080</td>\n",
       "      <td>1.0</td>\n",
       "      <td>0</td>\n",
       "      <td>0</td>\n",
       "      <td>3</td>\n",
       "      <td>8</td>\n",
       "      <td>1680</td>\n",
       "      <td>0</td>\n",
       "      <td>1987</td>\n",
       "      <td>0</td>\n",
       "      <td>98074</td>\n",
       "      <td>48.0</td>\n",
       "      <td>-122.0</td>\n",
       "      <td>1800</td>\n",
       "      <td>7503</td>\n",
       "    </tr>\n",
       "  </tbody>\n",
       "</table>\n",
       "</div>"
      ],
      "text/plain": [
       "   bedrooms  bathrooms  sqft_living  sqft_lot  floors  waterfront  view  \\\n",
       "0         3        1.0         1180      5650     1.0           0     0   \n",
       "1         3        2.0         2570      7242     2.0           0     0   \n",
       "2         2        1.0          770     10000     1.0           0     0   \n",
       "3         4        3.0         1960      5000     1.0           0     0   \n",
       "4         3        2.0         1680      8080     1.0           0     0   \n",
       "\n",
       "   condition  grade  sqft_above  sqft_basement  yr_built  yr_renovated  \\\n",
       "0          3      7        1180              0      1955             0   \n",
       "1          3      7        2170            400      1951          1991   \n",
       "2          3      6         770              0      1933             0   \n",
       "3          5      7        1050            910      1965             0   \n",
       "4          3      8        1680              0      1987             0   \n",
       "\n",
       "   zipcode   lat   long  sqft_living15  sqft_lot15  \n",
       "0    98178  48.0 -122.0           1340        5650  \n",
       "1    98125  48.0 -122.0           1690        7639  \n",
       "2    98028  48.0 -122.0           2720        8062  \n",
       "3    98136  48.0 -122.0           1360        5000  \n",
       "4    98074  48.0 -122.0           1800        7503  "
      ]
     },
     "execution_count": 17,
     "metadata": {},
     "output_type": "execute_result"
    }
   ],
   "source": [
    "df.head()"
   ]
  },
  {
   "cell_type": "code",
   "execution_count": 18,
   "metadata": {},
   "outputs": [
    {
     "data": {
      "text/html": [
       "<style  type=\"text/css\" >\n",
       "    #T_72f37280_607f_11e9_b9f2_a0481c1189b1row0_col0 {\n",
       "            background-color:  #b40426;\n",
       "            color:  #f1f1f1;\n",
       "        }    #T_72f37280_607f_11e9_b9f2_a0481c1189b1row0_col1 {\n",
       "            background-color:  #ead5c9;\n",
       "            color:  #000000;\n",
       "        }    #T_72f37280_607f_11e9_b9f2_a0481c1189b1row0_col2 {\n",
       "            background-color:  #f6bea4;\n",
       "            color:  #000000;\n",
       "        }    #T_72f37280_607f_11e9_b9f2_a0481c1189b1row0_col3 {\n",
       "            background-color:  #6788ee;\n",
       "            color:  #000000;\n",
       "        }    #T_72f37280_607f_11e9_b9f2_a0481c1189b1row0_col4 {\n",
       "            background-color:  #adc9fd;\n",
       "            color:  #000000;\n",
       "        }    #T_72f37280_607f_11e9_b9f2_a0481c1189b1row0_col5 {\n",
       "            background-color:  #4f69d9;\n",
       "            color:  #000000;\n",
       "        }    #T_72f37280_607f_11e9_b9f2_a0481c1189b1row0_col6 {\n",
       "            background-color:  #6282ea;\n",
       "            color:  #000000;\n",
       "        }    #T_72f37280_607f_11e9_b9f2_a0481c1189b1row0_col7 {\n",
       "            background-color:  #9abbff;\n",
       "            color:  #000000;\n",
       "        }    #T_72f37280_607f_11e9_b9f2_a0481c1189b1row0_col8 {\n",
       "            background-color:  #d2dbe8;\n",
       "            color:  #000000;\n",
       "        }    #T_72f37280_607f_11e9_b9f2_a0481c1189b1row0_col9 {\n",
       "            background-color:  #efcebd;\n",
       "            color:  #000000;\n",
       "        }    #T_72f37280_607f_11e9_b9f2_a0481c1189b1row0_col10 {\n",
       "            background-color:  #ccd9ed;\n",
       "            color:  #000000;\n",
       "        }    #T_72f37280_607f_11e9_b9f2_a0481c1189b1row0_col11 {\n",
       "            background-color:  #b9d0f9;\n",
       "            color:  #000000;\n",
       "        }    #T_72f37280_607f_11e9_b9f2_a0481c1189b1row0_col12 {\n",
       "            background-color:  #7a9df8;\n",
       "            color:  #000000;\n",
       "        }    #T_72f37280_607f_11e9_b9f2_a0481c1189b1row0_col13 {\n",
       "            background-color:  #6788ee;\n",
       "            color:  #000000;\n",
       "        }    #T_72f37280_607f_11e9_b9f2_a0481c1189b1row0_col14 {\n",
       "            background-color:  #6282ea;\n",
       "            color:  #000000;\n",
       "        }    #T_72f37280_607f_11e9_b9f2_a0481c1189b1row0_col15 {\n",
       "            background-color:  #516ddb;\n",
       "            color:  #000000;\n",
       "        }    #T_72f37280_607f_11e9_b9f2_a0481c1189b1row0_col16 {\n",
       "            background-color:  #e3d9d3;\n",
       "            color:  #000000;\n",
       "        }    #T_72f37280_607f_11e9_b9f2_a0481c1189b1row0_col17 {\n",
       "            background-color:  #6b8df0;\n",
       "            color:  #000000;\n",
       "        }    #T_72f37280_607f_11e9_b9f2_a0481c1189b1row1_col0 {\n",
       "            background-color:  #ead4c8;\n",
       "            color:  #000000;\n",
       "        }    #T_72f37280_607f_11e9_b9f2_a0481c1189b1row1_col1 {\n",
       "            background-color:  #b40426;\n",
       "            color:  #f1f1f1;\n",
       "        }    #T_72f37280_607f_11e9_b9f2_a0481c1189b1row1_col2 {\n",
       "            background-color:  #f4987a;\n",
       "            color:  #000000;\n",
       "        }    #T_72f37280_607f_11e9_b9f2_a0481c1189b1row1_col3 {\n",
       "            background-color:  #799cf8;\n",
       "            color:  #000000;\n",
       "        }    #T_72f37280_607f_11e9_b9f2_a0481c1189b1row1_col4 {\n",
       "            background-color:  #d2dbe8;\n",
       "            color:  #000000;\n",
       "        }    #T_72f37280_607f_11e9_b9f2_a0481c1189b1row1_col5 {\n",
       "            background-color:  #6485ec;\n",
       "            color:  #000000;\n",
       "        }    #T_72f37280_607f_11e9_b9f2_a0481c1189b1row1_col6 {\n",
       "            background-color:  #8badfd;\n",
       "            color:  #000000;\n",
       "        }    #T_72f37280_607f_11e9_b9f2_a0481c1189b1row1_col7 {\n",
       "            background-color:  #81a4fb;\n",
       "            color:  #000000;\n",
       "        }    #T_72f37280_607f_11e9_b9f2_a0481c1189b1row1_col8 {\n",
       "            background-color:  #f7bca1;\n",
       "            color:  #000000;\n",
       "        }    #T_72f37280_607f_11e9_b9f2_a0481c1189b1row1_col9 {\n",
       "            background-color:  #f7b396;\n",
       "            color:  #000000;\n",
       "        }    #T_72f37280_607f_11e9_b9f2_a0481c1189b1row1_col10 {\n",
       "            background-color:  #d4dbe6;\n",
       "            color:  #000000;\n",
       "        }    #T_72f37280_607f_11e9_b9f2_a0481c1189b1row1_col11 {\n",
       "            background-color:  #e7d7ce;\n",
       "            color:  #000000;\n",
       "        }    #T_72f37280_607f_11e9_b9f2_a0481c1189b1row1_col12 {\n",
       "            background-color:  #89acfd;\n",
       "            color:  #000000;\n",
       "        }    #T_72f37280_607f_11e9_b9f2_a0481c1189b1row1_col13 {\n",
       "            background-color:  #6a8bef;\n",
       "            color:  #000000;\n",
       "        }    #T_72f37280_607f_11e9_b9f2_a0481c1189b1row1_col14 {\n",
       "            background-color:  #7da0f9;\n",
       "            color:  #000000;\n",
       "        }    #T_72f37280_607f_11e9_b9f2_a0481c1189b1row1_col15 {\n",
       "            background-color:  #536edd;\n",
       "            color:  #000000;\n",
       "        }    #T_72f37280_607f_11e9_b9f2_a0481c1189b1row1_col16 {\n",
       "            background-color:  #f2c9b4;\n",
       "            color:  #000000;\n",
       "        }    #T_72f37280_607f_11e9_b9f2_a0481c1189b1row1_col17 {\n",
       "            background-color:  #7da0f9;\n",
       "            color:  #000000;\n",
       "        }    #T_72f37280_607f_11e9_b9f2_a0481c1189b1row2_col0 {\n",
       "            background-color:  #f5c2aa;\n",
       "            color:  #000000;\n",
       "        }    #T_72f37280_607f_11e9_b9f2_a0481c1189b1row2_col1 {\n",
       "            background-color:  #f59d7e;\n",
       "            color:  #000000;\n",
       "        }    #T_72f37280_607f_11e9_b9f2_a0481c1189b1row2_col2 {\n",
       "            background-color:  #b40426;\n",
       "            color:  #f1f1f1;\n",
       "        }    #T_72f37280_607f_11e9_b9f2_a0481c1189b1row2_col3 {\n",
       "            background-color:  #93b5fe;\n",
       "            color:  #000000;\n",
       "        }    #T_72f37280_607f_11e9_b9f2_a0481c1189b1row2_col4 {\n",
       "            background-color:  #d1dae9;\n",
       "            color:  #000000;\n",
       "        }    #T_72f37280_607f_11e9_b9f2_a0481c1189b1row2_col5 {\n",
       "            background-color:  #7093f3;\n",
       "            color:  #000000;\n",
       "        }    #T_72f37280_607f_11e9_b9f2_a0481c1189b1row2_col6 {\n",
       "            background-color:  #a6c4fe;\n",
       "            color:  #000000;\n",
       "        }    #T_72f37280_607f_11e9_b9f2_a0481c1189b1row2_col7 {\n",
       "            background-color:  #82a6fb;\n",
       "            color:  #000000;\n",
       "        }    #T_72f37280_607f_11e9_b9f2_a0481c1189b1row2_col8 {\n",
       "            background-color:  #ee8468;\n",
       "            color:  #000000;\n",
       "        }    #T_72f37280_607f_11e9_b9f2_a0481c1189b1row2_col9 {\n",
       "            background-color:  #d65244;\n",
       "            color:  #000000;\n",
       "        }    #T_72f37280_607f_11e9_b9f2_a0481c1189b1row2_col10 {\n",
       "            background-color:  #e8d6cc;\n",
       "            color:  #000000;\n",
       "        }    #T_72f37280_607f_11e9_b9f2_a0481c1189b1row2_col11 {\n",
       "            background-color:  #dcdddd;\n",
       "            color:  #000000;\n",
       "        }    #T_72f37280_607f_11e9_b9f2_a0481c1189b1row2_col12 {\n",
       "            background-color:  #85a8fc;\n",
       "            color:  #000000;\n",
       "        }    #T_72f37280_607f_11e9_b9f2_a0481c1189b1row2_col13 {\n",
       "            background-color:  #5d7ce6;\n",
       "            color:  #000000;\n",
       "        }    #T_72f37280_607f_11e9_b9f2_a0481c1189b1row2_col14 {\n",
       "            background-color:  #7ea1fa;\n",
       "            color:  #000000;\n",
       "        }    #T_72f37280_607f_11e9_b9f2_a0481c1189b1row2_col15 {\n",
       "            background-color:  #516ddb;\n",
       "            color:  #000000;\n",
       "        }    #T_72f37280_607f_11e9_b9f2_a0481c1189b1row2_col16 {\n",
       "            background-color:  #ec7f63;\n",
       "            color:  #000000;\n",
       "        }    #T_72f37280_607f_11e9_b9f2_a0481c1189b1row2_col17 {\n",
       "            background-color:  #9abbff;\n",
       "            color:  #000000;\n",
       "        }    #T_72f37280_607f_11e9_b9f2_a0481c1189b1row3_col0 {\n",
       "            background-color:  #6c8ff1;\n",
       "            color:  #000000;\n",
       "        }    #T_72f37280_607f_11e9_b9f2_a0481c1189b1row3_col1 {\n",
       "            background-color:  #7da0f9;\n",
       "            color:  #000000;\n",
       "        }    #T_72f37280_607f_11e9_b9f2_a0481c1189b1row3_col2 {\n",
       "            background-color:  #a2c1ff;\n",
       "            color:  #000000;\n",
       "        }    #T_72f37280_607f_11e9_b9f2_a0481c1189b1row3_col3 {\n",
       "            background-color:  #b40426;\n",
       "            color:  #f1f1f1;\n",
       "        }    #T_72f37280_607f_11e9_b9f2_a0481c1189b1row3_col4 {\n",
       "            background-color:  #7a9df8;\n",
       "            color:  #000000;\n",
       "        }    #T_72f37280_607f_11e9_b9f2_a0481c1189b1row3_col5 {\n",
       "            background-color:  #5875e1;\n",
       "            color:  #000000;\n",
       "        }    #T_72f37280_607f_11e9_b9f2_a0481c1189b1row3_col6 {\n",
       "            background-color:  #6180e9;\n",
       "            color:  #000000;\n",
       "        }    #T_72f37280_607f_11e9_b9f2_a0481c1189b1row3_col7 {\n",
       "            background-color:  #90b2fe;\n",
       "            color:  #000000;\n",
       "        }    #T_72f37280_607f_11e9_b9f2_a0481c1189b1row3_col8 {\n",
       "            background-color:  #8db0fe;\n",
       "            color:  #000000;\n",
       "        }    #T_72f37280_607f_11e9_b9f2_a0481c1189b1row3_col9 {\n",
       "            background-color:  #b1cbfc;\n",
       "            color:  #000000;\n",
       "        }    #T_72f37280_607f_11e9_b9f2_a0481c1189b1row3_col10 {\n",
       "            background-color:  #7ea1fa;\n",
       "            color:  #000000;\n",
       "        }    #T_72f37280_607f_11e9_b9f2_a0481c1189b1row3_col11 {\n",
       "            background-color:  #9fbfff;\n",
       "            color:  #000000;\n",
       "        }    #T_72f37280_607f_11e9_b9f2_a0481c1189b1row3_col12 {\n",
       "            background-color:  #779af7;\n",
       "            color:  #000000;\n",
       "        }    #T_72f37280_607f_11e9_b9f2_a0481c1189b1row3_col13 {\n",
       "            background-color:  #6e90f2;\n",
       "            color:  #000000;\n",
       "        }    #T_72f37280_607f_11e9_b9f2_a0481c1189b1row3_col14 {\n",
       "            background-color:  #455cce;\n",
       "            color:  #f1f1f1;\n",
       "        }    #T_72f37280_607f_11e9_b9f2_a0481c1189b1row3_col15 {\n",
       "            background-color:  #445acc;\n",
       "            color:  #f1f1f1;\n",
       "        }    #T_72f37280_607f_11e9_b9f2_a0481c1189b1row3_col16 {\n",
       "            background-color:  #a9c6fd;\n",
       "            color:  #000000;\n",
       "        }    #T_72f37280_607f_11e9_b9f2_a0481c1189b1row3_col17 {\n",
       "            background-color:  #f39778;\n",
       "            color:  #000000;\n",
       "        }    #T_72f37280_607f_11e9_b9f2_a0481c1189b1row4_col0 {\n",
       "            background-color:  #9abbff;\n",
       "            color:  #000000;\n",
       "        }    #T_72f37280_607f_11e9_b9f2_a0481c1189b1row4_col1 {\n",
       "            background-color:  #c4d5f3;\n",
       "            color:  #000000;\n",
       "        }    #T_72f37280_607f_11e9_b9f2_a0481c1189b1row4_col2 {\n",
       "            background-color:  #cbd8ee;\n",
       "            color:  #000000;\n",
       "        }    #T_72f37280_607f_11e9_b9f2_a0481c1189b1row4_col3 {\n",
       "            background-color:  #5d7ce6;\n",
       "            color:  #000000;\n",
       "        }    #T_72f37280_607f_11e9_b9f2_a0481c1189b1row4_col4 {\n",
       "            background-color:  #b40426;\n",
       "            color:  #f1f1f1;\n",
       "        }    #T_72f37280_607f_11e9_b9f2_a0481c1189b1row4_col5 {\n",
       "            background-color:  #5977e3;\n",
       "            color:  #000000;\n",
       "        }    #T_72f37280_607f_11e9_b9f2_a0481c1189b1row4_col6 {\n",
       "            background-color:  #516ddb;\n",
       "            color:  #000000;\n",
       "        }    #T_72f37280_607f_11e9_b9f2_a0481c1189b1row4_col7 {\n",
       "            background-color:  #5977e3;\n",
       "            color:  #000000;\n",
       "        }    #T_72f37280_607f_11e9_b9f2_a0481c1189b1row4_col8 {\n",
       "            background-color:  #dddcdc;\n",
       "            color:  #000000;\n",
       "        }    #T_72f37280_607f_11e9_b9f2_a0481c1189b1row4_col9 {\n",
       "            background-color:  #f1ccb8;\n",
       "            color:  #000000;\n",
       "        }    #T_72f37280_607f_11e9_b9f2_a0481c1189b1row4_col10 {\n",
       "            background-color:  #3b4cc0;\n",
       "            color:  #f1f1f1;\n",
       "        }    #T_72f37280_607f_11e9_b9f2_a0481c1189b1row4_col11 {\n",
       "            background-color:  #e8d6cc;\n",
       "            color:  #000000;\n",
       "        }    #T_72f37280_607f_11e9_b9f2_a0481c1189b1row4_col12 {\n",
       "            background-color:  #7a9df8;\n",
       "            color:  #000000;\n",
       "        }    #T_72f37280_607f_11e9_b9f2_a0481c1189b1row4_col13 {\n",
       "            background-color:  #89acfd;\n",
       "            color:  #000000;\n",
       "        }    #T_72f37280_607f_11e9_b9f2_a0481c1189b1row4_col14 {\n",
       "            background-color:  #84a7fc;\n",
       "            color:  #000000;\n",
       "        }    #T_72f37280_607f_11e9_b9f2_a0481c1189b1row4_col15 {\n",
       "            background-color:  #5977e3;\n",
       "            color:  #000000;\n",
       "        }    #T_72f37280_607f_11e9_b9f2_a0481c1189b1row4_col16 {\n",
       "            background-color:  #c3d5f4;\n",
       "            color:  #000000;\n",
       "        }    #T_72f37280_607f_11e9_b9f2_a0481c1189b1row4_col17 {\n",
       "            background-color:  #5f7fe8;\n",
       "            color:  #000000;\n",
       "        }    #T_72f37280_607f_11e9_b9f2_a0481c1189b1row5_col0 {\n",
       "            background-color:  #6282ea;\n",
       "            color:  #000000;\n",
       "        }    #T_72f37280_607f_11e9_b9f2_a0481c1189b1row5_col1 {\n",
       "            background-color:  #7597f6;\n",
       "            color:  #000000;\n",
       "        }    #T_72f37280_607f_11e9_b9f2_a0481c1189b1row5_col2 {\n",
       "            background-color:  #8db0fe;\n",
       "            color:  #000000;\n",
       "        }    #T_72f37280_607f_11e9_b9f2_a0481c1189b1row5_col3 {\n",
       "            background-color:  #6485ec;\n",
       "            color:  #000000;\n",
       "        }    #T_72f37280_607f_11e9_b9f2_a0481c1189b1row5_col4 {\n",
       "            background-color:  #81a4fb;\n",
       "            color:  #000000;\n",
       "        }    #T_72f37280_607f_11e9_b9f2_a0481c1189b1row5_col5 {\n",
       "            background-color:  #b40426;\n",
       "            color:  #f1f1f1;\n",
       "        }    #T_72f37280_607f_11e9_b9f2_a0481c1189b1row5_col6 {\n",
       "            background-color:  #cad8ef;\n",
       "            color:  #000000;\n",
       "        }    #T_72f37280_607f_11e9_b9f2_a0481c1189b1row5_col7 {\n",
       "            background-color:  #97b8ff;\n",
       "            color:  #000000;\n",
       "        }    #T_72f37280_607f_11e9_b9f2_a0481c1189b1row5_col8 {\n",
       "            background-color:  #84a7fc;\n",
       "            color:  #000000;\n",
       "        }    #T_72f37280_607f_11e9_b9f2_a0481c1189b1row5_col9 {\n",
       "            background-color:  #92b4fe;\n",
       "            color:  #000000;\n",
       "        }    #T_72f37280_607f_11e9_b9f2_a0481c1189b1row5_col10 {\n",
       "            background-color:  #92b4fe;\n",
       "            color:  #000000;\n",
       "        }    #T_72f37280_607f_11e9_b9f2_a0481c1189b1row5_col11 {\n",
       "            background-color:  #8caffe;\n",
       "            color:  #000000;\n",
       "        }    #T_72f37280_607f_11e9_b9f2_a0481c1189b1row5_col12 {\n",
       "            background-color:  #90b2fe;\n",
       "            color:  #000000;\n",
       "        }    #T_72f37280_607f_11e9_b9f2_a0481c1189b1row5_col13 {\n",
       "            background-color:  #97b8ff;\n",
       "            color:  #000000;\n",
       "        }    #T_72f37280_607f_11e9_b9f2_a0481c1189b1row5_col14 {\n",
       "            background-color:  #6180e9;\n",
       "            color:  #000000;\n",
       "        }    #T_72f37280_607f_11e9_b9f2_a0481c1189b1row5_col15 {\n",
       "            background-color:  #3e51c5;\n",
       "            color:  #f1f1f1;\n",
       "        }    #T_72f37280_607f_11e9_b9f2_a0481c1189b1row5_col16 {\n",
       "            background-color:  #9abbff;\n",
       "            color:  #000000;\n",
       "        }    #T_72f37280_607f_11e9_b9f2_a0481c1189b1row5_col17 {\n",
       "            background-color:  #6b8df0;\n",
       "            color:  #000000;\n",
       "        }    #T_72f37280_607f_11e9_b9f2_a0481c1189b1row6_col0 {\n",
       "            background-color:  #7b9ff9;\n",
       "            color:  #000000;\n",
       "        }    #T_72f37280_607f_11e9_b9f2_a0481c1189b1row6_col1 {\n",
       "            background-color:  #9fbfff;\n",
       "            color:  #000000;\n",
       "        }    #T_72f37280_607f_11e9_b9f2_a0481c1189b1row6_col2 {\n",
       "            background-color:  #c1d4f4;\n",
       "            color:  #000000;\n",
       "        }    #T_72f37280_607f_11e9_b9f2_a0481c1189b1row6_col3 {\n",
       "            background-color:  #7597f6;\n",
       "            color:  #000000;\n",
       "        }    #T_72f37280_607f_11e9_b9f2_a0481c1189b1row6_col4 {\n",
       "            background-color:  #82a6fb;\n",
       "            color:  #000000;\n",
       "        }    #T_72f37280_607f_11e9_b9f2_a0481c1189b1row6_col5 {\n",
       "            background-color:  #cedaeb;\n",
       "            color:  #000000;\n",
       "        }    #T_72f37280_607f_11e9_b9f2_a0481c1189b1row6_col6 {\n",
       "            background-color:  #b40426;\n",
       "            color:  #f1f1f1;\n",
       "        }    #T_72f37280_607f_11e9_b9f2_a0481c1189b1row6_col7 {\n",
       "            background-color:  #9ebeff;\n",
       "            color:  #000000;\n",
       "        }    #T_72f37280_607f_11e9_b9f2_a0481c1189b1row6_col8 {\n",
       "            background-color:  #b6cefa;\n",
       "            color:  #000000;\n",
       "        }    #T_72f37280_607f_11e9_b9f2_a0481c1189b1row6_col9 {\n",
       "            background-color:  #adc9fd;\n",
       "            color:  #000000;\n",
       "        }    #T_72f37280_607f_11e9_b9f2_a0481c1189b1row6_col10 {\n",
       "            background-color:  #c6d6f1;\n",
       "            color:  #000000;\n",
       "        }    #T_72f37280_607f_11e9_b9f2_a0481c1189b1row6_col11 {\n",
       "            background-color:  #84a7fc;\n",
       "            color:  #000000;\n",
       "        }    #T_72f37280_607f_11e9_b9f2_a0481c1189b1row6_col12 {\n",
       "            background-color:  #93b5fe;\n",
       "            color:  #000000;\n",
       "        }    #T_72f37280_607f_11e9_b9f2_a0481c1189b1row6_col13 {\n",
       "            background-color:  #a6c4fe;\n",
       "            color:  #000000;\n",
       "        }    #T_72f37280_607f_11e9_b9f2_a0481c1189b1row6_col14 {\n",
       "            background-color:  #7597f6;\n",
       "            color:  #000000;\n",
       "        }    #T_72f37280_607f_11e9_b9f2_a0481c1189b1row6_col15 {\n",
       "            background-color:  #4e68d8;\n",
       "            color:  #000000;\n",
       "        }    #T_72f37280_607f_11e9_b9f2_a0481c1189b1row6_col16 {\n",
       "            background-color:  #cbd8ee;\n",
       "            color:  #000000;\n",
       "        }    #T_72f37280_607f_11e9_b9f2_a0481c1189b1row6_col17 {\n",
       "            background-color:  #799cf8;\n",
       "            color:  #000000;\n",
       "        }    #T_72f37280_607f_11e9_b9f2_a0481c1189b1row7_col0 {\n",
       "            background-color:  #6c8ff1;\n",
       "            color:  #000000;\n",
       "        }    #T_72f37280_607f_11e9_b9f2_a0481c1189b1row7_col1 {\n",
       "            background-color:  #4f69d9;\n",
       "            color:  #000000;\n",
       "        }    #T_72f37280_607f_11e9_b9f2_a0481c1189b1row7_col2 {\n",
       "            background-color:  #5f7fe8;\n",
       "            color:  #000000;\n",
       "        }    #T_72f37280_607f_11e9_b9f2_a0481c1189b1row7_col3 {\n",
       "            background-color:  #5b7ae5;\n",
       "            color:  #000000;\n",
       "        }    #T_72f37280_607f_11e9_b9f2_a0481c1189b1row7_col4 {\n",
       "            background-color:  #3f53c6;\n",
       "            color:  #f1f1f1;\n",
       "        }    #T_72f37280_607f_11e9_b9f2_a0481c1189b1row7_col5 {\n",
       "            background-color:  #5572df;\n",
       "            color:  #000000;\n",
       "        }    #T_72f37280_607f_11e9_b9f2_a0481c1189b1row7_col6 {\n",
       "            background-color:  #5875e1;\n",
       "            color:  #000000;\n",
       "        }    #T_72f37280_607f_11e9_b9f2_a0481c1189b1row7_col7 {\n",
       "            background-color:  #b40426;\n",
       "            color:  #f1f1f1;\n",
       "        }    #T_72f37280_607f_11e9_b9f2_a0481c1189b1row7_col8 {\n",
       "            background-color:  #445acc;\n",
       "            color:  #f1f1f1;\n",
       "        }    #T_72f37280_607f_11e9_b9f2_a0481c1189b1row7_col9 {\n",
       "            background-color:  #536edd;\n",
       "            color:  #000000;\n",
       "        }    #T_72f37280_607f_11e9_b9f2_a0481c1189b1row7_col10 {\n",
       "            background-color:  #abc8fd;\n",
       "            color:  #000000;\n",
       "        }    #T_72f37280_607f_11e9_b9f2_a0481c1189b1row7_col11 {\n",
       "            background-color:  #3b4cc0;\n",
       "            color:  #f1f1f1;\n",
       "        }    #T_72f37280_607f_11e9_b9f2_a0481c1189b1row7_col12 {\n",
       "            background-color:  #6485ec;\n",
       "            color:  #000000;\n",
       "        }    #T_72f37280_607f_11e9_b9f2_a0481c1189b1row7_col13 {\n",
       "            background-color:  #90b2fe;\n",
       "            color:  #000000;\n",
       "        }    #T_72f37280_607f_11e9_b9f2_a0481c1189b1row7_col14 {\n",
       "            background-color:  #6180e9;\n",
       "            color:  #000000;\n",
       "        }    #T_72f37280_607f_11e9_b9f2_a0481c1189b1row7_col15 {\n",
       "            background-color:  #506bda;\n",
       "            color:  #000000;\n",
       "        }    #T_72f37280_607f_11e9_b9f2_a0481c1189b1row7_col16 {\n",
       "            background-color:  #688aef;\n",
       "            color:  #000000;\n",
       "        }    #T_72f37280_607f_11e9_b9f2_a0481c1189b1row7_col17 {\n",
       "            background-color:  #6282ea;\n",
       "            color:  #000000;\n",
       "        }    #T_72f37280_607f_11e9_b9f2_a0481c1189b1row8_col0 {\n",
       "            background-color:  #cdd9ec;\n",
       "            color:  #000000;\n",
       "        }    #T_72f37280_607f_11e9_b9f2_a0481c1189b1row8_col1 {\n",
       "            background-color:  #f6bfa6;\n",
       "            color:  #000000;\n",
       "        }    #T_72f37280_607f_11e9_b9f2_a0481c1189b1row8_col2 {\n",
       "            background-color:  #ed8366;\n",
       "            color:  #000000;\n",
       "        }    #T_72f37280_607f_11e9_b9f2_a0481c1189b1row8_col3 {\n",
       "            background-color:  #81a4fb;\n",
       "            color:  #000000;\n",
       "        }    #T_72f37280_607f_11e9_b9f2_a0481c1189b1row8_col4 {\n",
       "            background-color:  #e3d9d3;\n",
       "            color:  #000000;\n",
       "        }    #T_72f37280_607f_11e9_b9f2_a0481c1189b1row8_col5 {\n",
       "            background-color:  #6a8bef;\n",
       "            color:  #000000;\n",
       "        }    #T_72f37280_607f_11e9_b9f2_a0481c1189b1row8_col6 {\n",
       "            background-color:  #9bbcff;\n",
       "            color:  #000000;\n",
       "        }    #T_72f37280_607f_11e9_b9f2_a0481c1189b1row8_col7 {\n",
       "            background-color:  #6c8ff1;\n",
       "            color:  #000000;\n",
       "        }    #T_72f37280_607f_11e9_b9f2_a0481c1189b1row8_col8 {\n",
       "            background-color:  #b40426;\n",
       "            color:  #f1f1f1;\n",
       "        }    #T_72f37280_607f_11e9_b9f2_a0481c1189b1row8_col9 {\n",
       "            background-color:  #ec8165;\n",
       "            color:  #000000;\n",
       "        }    #T_72f37280_607f_11e9_b9f2_a0481c1189b1row8_col10 {\n",
       "            background-color:  #aac7fd;\n",
       "            color:  #000000;\n",
       "        }    #T_72f37280_607f_11e9_b9f2_a0481c1189b1row8_col11 {\n",
       "            background-color:  #f1ccb8;\n",
       "            color:  #000000;\n",
       "        }    #T_72f37280_607f_11e9_b9f2_a0481c1189b1row8_col12 {\n",
       "            background-color:  #7a9df8;\n",
       "            color:  #000000;\n",
       "        }    #T_72f37280_607f_11e9_b9f2_a0481c1189b1row8_col13 {\n",
       "            background-color:  #5f7fe8;\n",
       "            color:  #000000;\n",
       "        }    #T_72f37280_607f_11e9_b9f2_a0481c1189b1row8_col14 {\n",
       "            background-color:  #97b8ff;\n",
       "            color:  #000000;\n",
       "        }    #T_72f37280_607f_11e9_b9f2_a0481c1189b1row8_col15 {\n",
       "            background-color:  #516ddb;\n",
       "            color:  #000000;\n",
       "        }    #T_72f37280_607f_11e9_b9f2_a0481c1189b1row8_col16 {\n",
       "            background-color:  #f18f71;\n",
       "            color:  #000000;\n",
       "        }    #T_72f37280_607f_11e9_b9f2_a0481c1189b1row8_col17 {\n",
       "            background-color:  #86a9fc;\n",
       "            color:  #000000;\n",
       "        }    #T_72f37280_607f_11e9_b9f2_a0481c1189b1row9_col0 {\n",
       "            background-color:  #e8d6cc;\n",
       "            color:  #000000;\n",
       "        }    #T_72f37280_607f_11e9_b9f2_a0481c1189b1row9_col1 {\n",
       "            background-color:  #f6bda2;\n",
       "            color:  #000000;\n",
       "        }    #T_72f37280_607f_11e9_b9f2_a0481c1189b1row9_col2 {\n",
       "            background-color:  #d75445;\n",
       "            color:  #000000;\n",
       "        }    #T_72f37280_607f_11e9_b9f2_a0481c1189b1row9_col3 {\n",
       "            background-color:  #96b7ff;\n",
       "            color:  #000000;\n",
       "        }    #T_72f37280_607f_11e9_b9f2_a0481c1189b1row9_col4 {\n",
       "            background-color:  #f0cdbb;\n",
       "            color:  #000000;\n",
       "        }    #T_72f37280_607f_11e9_b9f2_a0481c1189b1row9_col5 {\n",
       "            background-color:  #6687ed;\n",
       "            color:  #000000;\n",
       "        }    #T_72f37280_607f_11e9_b9f2_a0481c1189b1row9_col6 {\n",
       "            background-color:  #7ea1fa;\n",
       "            color:  #000000;\n",
       "        }    #T_72f37280_607f_11e9_b9f2_a0481c1189b1row9_col7 {\n",
       "            background-color:  #6a8bef;\n",
       "            color:  #000000;\n",
       "        }    #T_72f37280_607f_11e9_b9f2_a0481c1189b1row9_col8 {\n",
       "            background-color:  #ee8669;\n",
       "            color:  #000000;\n",
       "        }    #T_72f37280_607f_11e9_b9f2_a0481c1189b1row9_col9 {\n",
       "            background-color:  #b40426;\n",
       "            color:  #f1f1f1;\n",
       "        }    #T_72f37280_607f_11e9_b9f2_a0481c1189b1row9_col10 {\n",
       "            background-color:  #6b8df0;\n",
       "            color:  #000000;\n",
       "        }    #T_72f37280_607f_11e9_b9f2_a0481c1189b1row9_col11 {\n",
       "            background-color:  #eed0c0;\n",
       "            color:  #000000;\n",
       "        }    #T_72f37280_607f_11e9_b9f2_a0481c1189b1row9_col12 {\n",
       "            background-color:  #7b9ff9;\n",
       "            color:  #000000;\n",
       "        }    #T_72f37280_607f_11e9_b9f2_a0481c1189b1row9_col13 {\n",
       "            background-color:  #4e68d8;\n",
       "            color:  #000000;\n",
       "        }    #T_72f37280_607f_11e9_b9f2_a0481c1189b1row9_col14 {\n",
       "            background-color:  #6b8df0;\n",
       "            color:  #000000;\n",
       "        }    #T_72f37280_607f_11e9_b9f2_a0481c1189b1row9_col15 {\n",
       "            background-color:  #536edd;\n",
       "            color:  #000000;\n",
       "        }    #T_72f37280_607f_11e9_b9f2_a0481c1189b1row9_col16 {\n",
       "            background-color:  #ef886b;\n",
       "            color:  #000000;\n",
       "        }    #T_72f37280_607f_11e9_b9f2_a0481c1189b1row9_col17 {\n",
       "            background-color:  #9ebeff;\n",
       "            color:  #000000;\n",
       "        }    #T_72f37280_607f_11e9_b9f2_a0481c1189b1row10_col0 {\n",
       "            background-color:  #bfd3f6;\n",
       "            color:  #000000;\n",
       "        }    #T_72f37280_607f_11e9_b9f2_a0481c1189b1row10_col1 {\n",
       "            background-color:  #c6d6f1;\n",
       "            color:  #000000;\n",
       "        }    #T_72f37280_607f_11e9_b9f2_a0481c1189b1row10_col2 {\n",
       "            background-color:  #e4d9d2;\n",
       "            color:  #000000;\n",
       "        }    #T_72f37280_607f_11e9_b9f2_a0481c1189b1row10_col3 {\n",
       "            background-color:  #6282ea;\n",
       "            color:  #000000;\n",
       "        }    #T_72f37280_607f_11e9_b9f2_a0481c1189b1row10_col4 {\n",
       "            background-color:  #3b4cc0;\n",
       "            color:  #f1f1f1;\n",
       "        }    #T_72f37280_607f_11e9_b9f2_a0481c1189b1row10_col5 {\n",
       "            background-color:  #688aef;\n",
       "            color:  #000000;\n",
       "        }    #T_72f37280_607f_11e9_b9f2_a0481c1189b1row10_col6 {\n",
       "            background-color:  #a3c2fe;\n",
       "            color:  #000000;\n",
       "        }    #T_72f37280_607f_11e9_b9f2_a0481c1189b1row10_col7 {\n",
       "            background-color:  #bed2f6;\n",
       "            color:  #000000;\n",
       "        }    #T_72f37280_607f_11e9_b9f2_a0481c1189b1row10_col8 {\n",
       "            background-color:  #9ebeff;\n",
       "            color:  #000000;\n",
       "        }    #T_72f37280_607f_11e9_b9f2_a0481c1189b1row10_col9 {\n",
       "            background-color:  #6f92f3;\n",
       "            color:  #000000;\n",
       "        }    #T_72f37280_607f_11e9_b9f2_a0481c1189b1row10_col10 {\n",
       "            background-color:  #b40426;\n",
       "            color:  #f1f1f1;\n",
       "        }    #T_72f37280_607f_11e9_b9f2_a0481c1189b1row10_col11 {\n",
       "            background-color:  #6f92f3;\n",
       "            color:  #000000;\n",
       "        }    #T_72f37280_607f_11e9_b9f2_a0481c1189b1row10_col12 {\n",
       "            background-color:  #89acfd;\n",
       "            color:  #000000;\n",
       "        }    #T_72f37280_607f_11e9_b9f2_a0481c1189b1row10_col13 {\n",
       "            background-color:  #a3c2fe;\n",
       "            color:  #000000;\n",
       "        }    #T_72f37280_607f_11e9_b9f2_a0481c1189b1row10_col14 {\n",
       "            background-color:  #8caffe;\n",
       "            color:  #000000;\n",
       "        }    #T_72f37280_607f_11e9_b9f2_a0481c1189b1row10_col15 {\n",
       "            background-color:  #536edd;\n",
       "            color:  #000000;\n",
       "        }    #T_72f37280_607f_11e9_b9f2_a0481c1189b1row10_col16 {\n",
       "            background-color:  #b7cff9;\n",
       "            color:  #000000;\n",
       "        }    #T_72f37280_607f_11e9_b9f2_a0481c1189b1row10_col17 {\n",
       "            background-color:  #6788ee;\n",
       "            color:  #000000;\n",
       "        }    #T_72f37280_607f_11e9_b9f2_a0481c1189b1row11_col0 {\n",
       "            background-color:  #93b5fe;\n",
       "            color:  #000000;\n",
       "        }    #T_72f37280_607f_11e9_b9f2_a0481c1189b1row11_col1 {\n",
       "            background-color:  #d1dae9;\n",
       "            color:  #000000;\n",
       "        }    #T_72f37280_607f_11e9_b9f2_a0481c1189b1row11_col2 {\n",
       "            background-color:  #cad8ef;\n",
       "            color:  #000000;\n",
       "        }    #T_72f37280_607f_11e9_b9f2_a0481c1189b1row11_col3 {\n",
       "            background-color:  #6e90f2;\n",
       "            color:  #000000;\n",
       "        }    #T_72f37280_607f_11e9_b9f2_a0481c1189b1row11_col4 {\n",
       "            background-color:  #dddcdc;\n",
       "            color:  #000000;\n",
       "        }    #T_72f37280_607f_11e9_b9f2_a0481c1189b1row11_col5 {\n",
       "            background-color:  #4961d2;\n",
       "            color:  #f1f1f1;\n",
       "        }    #T_72f37280_607f_11e9_b9f2_a0481c1189b1row11_col6 {\n",
       "            background-color:  #3b4cc0;\n",
       "            color:  #f1f1f1;\n",
       "        }    #T_72f37280_607f_11e9_b9f2_a0481c1189b1row11_col7 {\n",
       "            background-color:  #3b4cc0;\n",
       "            color:  #f1f1f1;\n",
       "        }    #T_72f37280_607f_11e9_b9f2_a0481c1189b1row11_col8 {\n",
       "            background-color:  #e5d8d1;\n",
       "            color:  #000000;\n",
       "        }    #T_72f37280_607f_11e9_b9f2_a0481c1189b1row11_col9 {\n",
       "            background-color:  #e8d6cc;\n",
       "            color:  #000000;\n",
       "        }    #T_72f37280_607f_11e9_b9f2_a0481c1189b1row11_col10 {\n",
       "            background-color:  #5673e0;\n",
       "            color:  #000000;\n",
       "        }    #T_72f37280_607f_11e9_b9f2_a0481c1189b1row11_col11 {\n",
       "            background-color:  #b40426;\n",
       "            color:  #f1f1f1;\n",
       "        }    #T_72f37280_607f_11e9_b9f2_a0481c1189b1row11_col12 {\n",
       "            background-color:  #3b4cc0;\n",
       "            color:  #f1f1f1;\n",
       "        }    #T_72f37280_607f_11e9_b9f2_a0481c1189b1row11_col13 {\n",
       "            background-color:  #3b4cc0;\n",
       "            color:  #f1f1f1;\n",
       "        }    #T_72f37280_607f_11e9_b9f2_a0481c1189b1row11_col14 {\n",
       "            background-color:  #3b4cc0;\n",
       "            color:  #f1f1f1;\n",
       "        }    #T_72f37280_607f_11e9_b9f2_a0481c1189b1row11_col15 {\n",
       "            background-color:  #5673e0;\n",
       "            color:  #000000;\n",
       "        }    #T_72f37280_607f_11e9_b9f2_a0481c1189b1row11_col16 {\n",
       "            background-color:  #d6dce4;\n",
       "            color:  #000000;\n",
       "        }    #T_72f37280_607f_11e9_b9f2_a0481c1189b1row11_col17 {\n",
       "            background-color:  #779af7;\n",
       "            color:  #000000;\n",
       "        }    #T_72f37280_607f_11e9_b9f2_a0481c1189b1row12_col0 {\n",
       "            background-color:  #6a8bef;\n",
       "            color:  #000000;\n",
       "        }    #T_72f37280_607f_11e9_b9f2_a0481c1189b1row12_col1 {\n",
       "            background-color:  #7699f6;\n",
       "            color:  #000000;\n",
       "        }    #T_72f37280_607f_11e9_b9f2_a0481c1189b1row12_col2 {\n",
       "            background-color:  #80a3fa;\n",
       "            color:  #000000;\n",
       "        }    #T_72f37280_607f_11e9_b9f2_a0481c1189b1row12_col3 {\n",
       "            background-color:  #6180e9;\n",
       "            color:  #000000;\n",
       "        }    #T_72f37280_607f_11e9_b9f2_a0481c1189b1row12_col4 {\n",
       "            background-color:  #7ea1fa;\n",
       "            color:  #000000;\n",
       "        }    #T_72f37280_607f_11e9_b9f2_a0481c1189b1row12_col5 {\n",
       "            background-color:  #6c8ff1;\n",
       "            color:  #000000;\n",
       "        }    #T_72f37280_607f_11e9_b9f2_a0481c1189b1row12_col6 {\n",
       "            background-color:  #6a8bef;\n",
       "            color:  #000000;\n",
       "        }    #T_72f37280_607f_11e9_b9f2_a0481c1189b1row12_col7 {\n",
       "            background-color:  #82a6fb;\n",
       "            color:  #000000;\n",
       "        }    #T_72f37280_607f_11e9_b9f2_a0481c1189b1row12_col8 {\n",
       "            background-color:  #7093f3;\n",
       "            color:  #000000;\n",
       "        }    #T_72f37280_607f_11e9_b9f2_a0481c1189b1row12_col9 {\n",
       "            background-color:  #84a7fc;\n",
       "            color:  #000000;\n",
       "        }    #T_72f37280_607f_11e9_b9f2_a0481c1189b1row12_col10 {\n",
       "            background-color:  #8fb1fe;\n",
       "            color:  #000000;\n",
       "        }    #T_72f37280_607f_11e9_b9f2_a0481c1189b1row12_col11 {\n",
       "            background-color:  #5977e3;\n",
       "            color:  #000000;\n",
       "        }    #T_72f37280_607f_11e9_b9f2_a0481c1189b1row12_col12 {\n",
       "            background-color:  #b40426;\n",
       "            color:  #f1f1f1;\n",
       "        }    #T_72f37280_607f_11e9_b9f2_a0481c1189b1row12_col13 {\n",
       "            background-color:  #a1c0ff;\n",
       "            color:  #000000;\n",
       "        }    #T_72f37280_607f_11e9_b9f2_a0481c1189b1row12_col14 {\n",
       "            background-color:  #6f92f3;\n",
       "            color:  #000000;\n",
       "        }    #T_72f37280_607f_11e9_b9f2_a0481c1189b1row12_col15 {\n",
       "            background-color:  #5673e0;\n",
       "            color:  #000000;\n",
       "        }    #T_72f37280_607f_11e9_b9f2_a0481c1189b1row12_col16 {\n",
       "            background-color:  #81a4fb;\n",
       "            color:  #000000;\n",
       "        }    #T_72f37280_607f_11e9_b9f2_a0481c1189b1row12_col17 {\n",
       "            background-color:  #6485ec;\n",
       "            color:  #000000;\n",
       "        }    #T_72f37280_607f_11e9_b9f2_a0481c1189b1row13_col0 {\n",
       "            background-color:  #3b4cc0;\n",
       "            color:  #f1f1f1;\n",
       "        }    #T_72f37280_607f_11e9_b9f2_a0481c1189b1row13_col1 {\n",
       "            background-color:  #3b4cc0;\n",
       "            color:  #f1f1f1;\n",
       "        }    #T_72f37280_607f_11e9_b9f2_a0481c1189b1row13_col2 {\n",
       "            background-color:  #3b4cc0;\n",
       "            color:  #f1f1f1;\n",
       "        }    #T_72f37280_607f_11e9_b9f2_a0481c1189b1row13_col3 {\n",
       "            background-color:  #3b4cc0;\n",
       "            color:  #f1f1f1;\n",
       "        }    #T_72f37280_607f_11e9_b9f2_a0481c1189b1row13_col4 {\n",
       "            background-color:  #7396f5;\n",
       "            color:  #000000;\n",
       "        }    #T_72f37280_607f_11e9_b9f2_a0481c1189b1row13_col5 {\n",
       "            background-color:  #5a78e4;\n",
       "            color:  #000000;\n",
       "        }    #T_72f37280_607f_11e9_b9f2_a0481c1189b1row13_col6 {\n",
       "            background-color:  #6384eb;\n",
       "            color:  #000000;\n",
       "        }    #T_72f37280_607f_11e9_b9f2_a0481c1189b1row13_col7 {\n",
       "            background-color:  #93b5fe;\n",
       "            color:  #000000;\n",
       "        }    #T_72f37280_607f_11e9_b9f2_a0481c1189b1row13_col8 {\n",
       "            background-color:  #3b4cc0;\n",
       "            color:  #f1f1f1;\n",
       "        }    #T_72f37280_607f_11e9_b9f2_a0481c1189b1row13_col9 {\n",
       "            background-color:  #3b4cc0;\n",
       "            color:  #f1f1f1;\n",
       "        }    #T_72f37280_607f_11e9_b9f2_a0481c1189b1row13_col10 {\n",
       "            background-color:  #8fb1fe;\n",
       "            color:  #000000;\n",
       "        }    #T_72f37280_607f_11e9_b9f2_a0481c1189b1row13_col11 {\n",
       "            background-color:  #3d50c3;\n",
       "            color:  #f1f1f1;\n",
       "        }    #T_72f37280_607f_11e9_b9f2_a0481c1189b1row13_col12 {\n",
       "            background-color:  #88abfd;\n",
       "            color:  #000000;\n",
       "        }    #T_72f37280_607f_11e9_b9f2_a0481c1189b1row13_col13 {\n",
       "            background-color:  #b40426;\n",
       "            color:  #f1f1f1;\n",
       "        }    #T_72f37280_607f_11e9_b9f2_a0481c1189b1row13_col14 {\n",
       "            background-color:  #9ebeff;\n",
       "            color:  #000000;\n",
       "        }    #T_72f37280_607f_11e9_b9f2_a0481c1189b1row13_col15 {\n",
       "            background-color:  #4f69d9;\n",
       "            color:  #000000;\n",
       "        }    #T_72f37280_607f_11e9_b9f2_a0481c1189b1row13_col16 {\n",
       "            background-color:  #3b4cc0;\n",
       "            color:  #f1f1f1;\n",
       "        }    #T_72f37280_607f_11e9_b9f2_a0481c1189b1row13_col17 {\n",
       "            background-color:  #3b4cc0;\n",
       "            color:  #f1f1f1;\n",
       "        }    #T_72f37280_607f_11e9_b9f2_a0481c1189b1row14_col0 {\n",
       "            background-color:  #6384eb;\n",
       "            color:  #000000;\n",
       "        }    #T_72f37280_607f_11e9_b9f2_a0481c1189b1row14_col1 {\n",
       "            background-color:  #7da0f9;\n",
       "            color:  #000000;\n",
       "        }    #T_72f37280_607f_11e9_b9f2_a0481c1189b1row14_col2 {\n",
       "            background-color:  #89acfd;\n",
       "            color:  #000000;\n",
       "        }    #T_72f37280_607f_11e9_b9f2_a0481c1189b1row14_col3 {\n",
       "            background-color:  #4055c8;\n",
       "            color:  #f1f1f1;\n",
       "        }    #T_72f37280_607f_11e9_b9f2_a0481c1189b1row14_col4 {\n",
       "            background-color:  #9abbff;\n",
       "            color:  #000000;\n",
       "        }    #T_72f37280_607f_11e9_b9f2_a0481c1189b1row14_col5 {\n",
       "            background-color:  #4e68d8;\n",
       "            color:  #000000;\n",
       "        }    #T_72f37280_607f_11e9_b9f2_a0481c1189b1row14_col6 {\n",
       "            background-color:  #5b7ae5;\n",
       "            color:  #000000;\n",
       "        }    #T_72f37280_607f_11e9_b9f2_a0481c1189b1row14_col7 {\n",
       "            background-color:  #90b2fe;\n",
       "            color:  #000000;\n",
       "        }    #T_72f37280_607f_11e9_b9f2_a0481c1189b1row14_col8 {\n",
       "            background-color:  #9ebeff;\n",
       "            color:  #000000;\n",
       "        }    #T_72f37280_607f_11e9_b9f2_a0481c1189b1row14_col9 {\n",
       "            background-color:  #85a8fc;\n",
       "            color:  #000000;\n",
       "        }    #T_72f37280_607f_11e9_b9f2_a0481c1189b1row14_col10 {\n",
       "            background-color:  #a1c0ff;\n",
       "            color:  #000000;\n",
       "        }    #T_72f37280_607f_11e9_b9f2_a0481c1189b1row14_col11 {\n",
       "            background-color:  #6c8ff1;\n",
       "            color:  #000000;\n",
       "        }    #T_72f37280_607f_11e9_b9f2_a0481c1189b1row14_col12 {\n",
       "            background-color:  #81a4fb;\n",
       "            color:  #000000;\n",
       "        }    #T_72f37280_607f_11e9_b9f2_a0481c1189b1row14_col13 {\n",
       "            background-color:  #c0d4f5;\n",
       "            color:  #000000;\n",
       "        }    #T_72f37280_607f_11e9_b9f2_a0481c1189b1row14_col14 {\n",
       "            background-color:  #b40426;\n",
       "            color:  #f1f1f1;\n",
       "        }    #T_72f37280_607f_11e9_b9f2_a0481c1189b1row14_col15 {\n",
       "            background-color:  #6180e9;\n",
       "            color:  #000000;\n",
       "        }    #T_72f37280_607f_11e9_b9f2_a0481c1189b1row14_col16 {\n",
       "            background-color:  #9bbcff;\n",
       "            color:  #000000;\n",
       "        }    #T_72f37280_607f_11e9_b9f2_a0481c1189b1row14_col17 {\n",
       "            background-color:  #445acc;\n",
       "            color:  #f1f1f1;\n",
       "        }    #T_72f37280_607f_11e9_b9f2_a0481c1189b1row15_col0 {\n",
       "            background-color:  #6282ea;\n",
       "            color:  #000000;\n",
       "        }    #T_72f37280_607f_11e9_b9f2_a0481c1189b1row15_col1 {\n",
       "            background-color:  #5f7fe8;\n",
       "            color:  #000000;\n",
       "        }    #T_72f37280_607f_11e9_b9f2_a0481c1189b1row15_col2 {\n",
       "            background-color:  #6c8ff1;\n",
       "            color:  #000000;\n",
       "        }    #T_72f37280_607f_11e9_b9f2_a0481c1189b1row15_col3 {\n",
       "            background-color:  #4e68d8;\n",
       "            color:  #000000;\n",
       "        }    #T_72f37280_607f_11e9_b9f2_a0481c1189b1row15_col4 {\n",
       "            background-color:  #80a3fa;\n",
       "            color:  #000000;\n",
       "        }    #T_72f37280_607f_11e9_b9f2_a0481c1189b1row15_col5 {\n",
       "            background-color:  #3b4cc0;\n",
       "            color:  #f1f1f1;\n",
       "        }    #T_72f37280_607f_11e9_b9f2_a0481c1189b1row15_col6 {\n",
       "            background-color:  #4358cb;\n",
       "            color:  #f1f1f1;\n",
       "        }    #T_72f37280_607f_11e9_b9f2_a0481c1189b1row15_col7 {\n",
       "            background-color:  #8fb1fe;\n",
       "            color:  #000000;\n",
       "        }    #T_72f37280_607f_11e9_b9f2_a0481c1189b1row15_col8 {\n",
       "            background-color:  #6a8bef;\n",
       "            color:  #000000;\n",
       "        }    #T_72f37280_607f_11e9_b9f2_a0481c1189b1row15_col9 {\n",
       "            background-color:  #7b9ff9;\n",
       "            color:  #000000;\n",
       "        }    #T_72f37280_607f_11e9_b9f2_a0481c1189b1row15_col10 {\n",
       "            background-color:  #799cf8;\n",
       "            color:  #000000;\n",
       "        }    #T_72f37280_607f_11e9_b9f2_a0481c1189b1row15_col11 {\n",
       "            background-color:  #94b6ff;\n",
       "            color:  #000000;\n",
       "        }    #T_72f37280_607f_11e9_b9f2_a0481c1189b1row15_col12 {\n",
       "            background-color:  #779af7;\n",
       "            color:  #000000;\n",
       "        }    #T_72f37280_607f_11e9_b9f2_a0481c1189b1row15_col13 {\n",
       "            background-color:  #8badfd;\n",
       "            color:  #000000;\n",
       "        }    #T_72f37280_607f_11e9_b9f2_a0481c1189b1row15_col14 {\n",
       "            background-color:  #6f92f3;\n",
       "            color:  #000000;\n",
       "        }    #T_72f37280_607f_11e9_b9f2_a0481c1189b1row15_col15 {\n",
       "            background-color:  #b40426;\n",
       "            color:  #f1f1f1;\n",
       "        }    #T_72f37280_607f_11e9_b9f2_a0481c1189b1row15_col16 {\n",
       "            background-color:  #7da0f9;\n",
       "            color:  #000000;\n",
       "        }    #T_72f37280_607f_11e9_b9f2_a0481c1189b1row15_col17 {\n",
       "            background-color:  #4961d2;\n",
       "            color:  #f1f1f1;\n",
       "        }    #T_72f37280_607f_11e9_b9f2_a0481c1189b1row16_col0 {\n",
       "            background-color:  #d5dbe5;\n",
       "            color:  #000000;\n",
       "        }    #T_72f37280_607f_11e9_b9f2_a0481c1189b1row16_col1 {\n",
       "            background-color:  #ebd3c6;\n",
       "            color:  #000000;\n",
       "        }    #T_72f37280_607f_11e9_b9f2_a0481c1189b1row16_col2 {\n",
       "            background-color:  #ee8468;\n",
       "            color:  #000000;\n",
       "        }    #T_72f37280_607f_11e9_b9f2_a0481c1189b1row16_col3 {\n",
       "            background-color:  #8badfd;\n",
       "            color:  #000000;\n",
       "        }    #T_72f37280_607f_11e9_b9f2_a0481c1189b1row16_col4 {\n",
       "            background-color:  #bed2f6;\n",
       "            color:  #000000;\n",
       "        }    #T_72f37280_607f_11e9_b9f2_a0481c1189b1row16_col5 {\n",
       "            background-color:  #6b8df0;\n",
       "            color:  #000000;\n",
       "        }    #T_72f37280_607f_11e9_b9f2_a0481c1189b1row16_col6 {\n",
       "            background-color:  #a5c3fe;\n",
       "            color:  #000000;\n",
       "        }    #T_72f37280_607f_11e9_b9f2_a0481c1189b1row16_col7 {\n",
       "            background-color:  #7a9df8;\n",
       "            color:  #000000;\n",
       "        }    #T_72f37280_607f_11e9_b9f2_a0481c1189b1row16_col8 {\n",
       "            background-color:  #f39577;\n",
       "            color:  #000000;\n",
       "        }    #T_72f37280_607f_11e9_b9f2_a0481c1189b1row16_col9 {\n",
       "            background-color:  #f08a6c;\n",
       "            color:  #000000;\n",
       "        }    #T_72f37280_607f_11e9_b9f2_a0481c1189b1row16_col10 {\n",
       "            background-color:  #b2ccfb;\n",
       "            color:  #000000;\n",
       "        }    #T_72f37280_607f_11e9_b9f2_a0481c1189b1row16_col11 {\n",
       "            background-color:  #dedcdb;\n",
       "            color:  #000000;\n",
       "        }    #T_72f37280_607f_11e9_b9f2_a0481c1189b1row16_col12 {\n",
       "            background-color:  #7597f6;\n",
       "            color:  #000000;\n",
       "        }    #T_72f37280_607f_11e9_b9f2_a0481c1189b1row16_col13 {\n",
       "            background-color:  #4961d2;\n",
       "            color:  #f1f1f1;\n",
       "        }    #T_72f37280_607f_11e9_b9f2_a0481c1189b1row16_col14 {\n",
       "            background-color:  #7ea1fa;\n",
       "            color:  #000000;\n",
       "        }    #T_72f37280_607f_11e9_b9f2_a0481c1189b1row16_col15 {\n",
       "            background-color:  #506bda;\n",
       "            color:  #000000;\n",
       "        }    #T_72f37280_607f_11e9_b9f2_a0481c1189b1row16_col16 {\n",
       "            background-color:  #b40426;\n",
       "            color:  #f1f1f1;\n",
       "        }    #T_72f37280_607f_11e9_b9f2_a0481c1189b1row16_col17 {\n",
       "            background-color:  #9abbff;\n",
       "            color:  #000000;\n",
       "        }    #T_72f37280_607f_11e9_b9f2_a0481c1189b1row17_col0 {\n",
       "            background-color:  #6c8ff1;\n",
       "            color:  #000000;\n",
       "        }    #T_72f37280_607f_11e9_b9f2_a0481c1189b1row17_col1 {\n",
       "            background-color:  #7b9ff9;\n",
       "            color:  #000000;\n",
       "        }    #T_72f37280_607f_11e9_b9f2_a0481c1189b1row17_col2 {\n",
       "            background-color:  #a5c3fe;\n",
       "            color:  #000000;\n",
       "        }    #T_72f37280_607f_11e9_b9f2_a0481c1189b1row17_col3 {\n",
       "            background-color:  #f4987a;\n",
       "            color:  #000000;\n",
       "        }    #T_72f37280_607f_11e9_b9f2_a0481c1189b1row17_col4 {\n",
       "            background-color:  #779af7;\n",
       "            color:  #000000;\n",
       "        }    #T_72f37280_607f_11e9_b9f2_a0481c1189b1row17_col5 {\n",
       "            background-color:  #5a78e4;\n",
       "            color:  #000000;\n",
       "        }    #T_72f37280_607f_11e9_b9f2_a0481c1189b1row17_col6 {\n",
       "            background-color:  #5f7fe8;\n",
       "            color:  #000000;\n",
       "        }    #T_72f37280_607f_11e9_b9f2_a0481c1189b1row17_col7 {\n",
       "            background-color:  #92b4fe;\n",
       "            color:  #000000;\n",
       "        }    #T_72f37280_607f_11e9_b9f2_a0481c1189b1row17_col8 {\n",
       "            background-color:  #8fb1fe;\n",
       "            color:  #000000;\n",
       "        }    #T_72f37280_607f_11e9_b9f2_a0481c1189b1row17_col9 {\n",
       "            background-color:  #b3cdfb;\n",
       "            color:  #000000;\n",
       "        }    #T_72f37280_607f_11e9_b9f2_a0481c1189b1row17_col10 {\n",
       "            background-color:  #80a3fa;\n",
       "            color:  #000000;\n",
       "        }    #T_72f37280_607f_11e9_b9f2_a0481c1189b1row17_col11 {\n",
       "            background-color:  #a5c3fe;\n",
       "            color:  #000000;\n",
       "        }    #T_72f37280_607f_11e9_b9f2_a0481c1189b1row17_col12 {\n",
       "            background-color:  #779af7;\n",
       "            color:  #000000;\n",
       "        }    #T_72f37280_607f_11e9_b9f2_a0481c1189b1row17_col13 {\n",
       "            background-color:  #688aef;\n",
       "            color:  #000000;\n",
       "        }    #T_72f37280_607f_11e9_b9f2_a0481c1189b1row17_col14 {\n",
       "            background-color:  #455cce;\n",
       "            color:  #f1f1f1;\n",
       "        }    #T_72f37280_607f_11e9_b9f2_a0481c1189b1row17_col15 {\n",
       "            background-color:  #3b4cc0;\n",
       "            color:  #f1f1f1;\n",
       "        }    #T_72f37280_607f_11e9_b9f2_a0481c1189b1row17_col16 {\n",
       "            background-color:  #b3cdfb;\n",
       "            color:  #000000;\n",
       "        }    #T_72f37280_607f_11e9_b9f2_a0481c1189b1row17_col17 {\n",
       "            background-color:  #b40426;\n",
       "            color:  #f1f1f1;\n",
       "        }</style><table id=\"T_72f37280_607f_11e9_b9f2_a0481c1189b1\" ><thead>    <tr>        <th class=\"blank level0\" ></th>        <th class=\"col_heading level0 col0\" >bedrooms</th>        <th class=\"col_heading level0 col1\" >bathrooms</th>        <th class=\"col_heading level0 col2\" >sqft_living</th>        <th class=\"col_heading level0 col3\" >sqft_lot</th>        <th class=\"col_heading level0 col4\" >floors</th>        <th class=\"col_heading level0 col5\" >waterfront</th>        <th class=\"col_heading level0 col6\" >view</th>        <th class=\"col_heading level0 col7\" >condition</th>        <th class=\"col_heading level0 col8\" >grade</th>        <th class=\"col_heading level0 col9\" >sqft_above</th>        <th class=\"col_heading level0 col10\" >sqft_basement</th>        <th class=\"col_heading level0 col11\" >yr_built</th>        <th class=\"col_heading level0 col12\" >yr_renovated</th>        <th class=\"col_heading level0 col13\" >zipcode</th>        <th class=\"col_heading level0 col14\" >lat</th>        <th class=\"col_heading level0 col15\" >long</th>        <th class=\"col_heading level0 col16\" >sqft_living15</th>        <th class=\"col_heading level0 col17\" >sqft_lot15</th>    </tr></thead><tbody>\n",
       "                <tr>\n",
       "                        <th id=\"T_72f37280_607f_11e9_b9f2_a0481c1189b1level0_row0\" class=\"row_heading level0 row0\" >bedrooms</th>\n",
       "                        <td id=\"T_72f37280_607f_11e9_b9f2_a0481c1189b1row0_col0\" class=\"data row0 col0\" >1</td>\n",
       "                        <td id=\"T_72f37280_607f_11e9_b9f2_a0481c1189b1row0_col1\" class=\"data row0 col1\" >0.49</td>\n",
       "                        <td id=\"T_72f37280_607f_11e9_b9f2_a0481c1189b1row0_col2\" class=\"data row0 col2\" >0.58</td>\n",
       "                        <td id=\"T_72f37280_607f_11e9_b9f2_a0481c1189b1row0_col3\" class=\"data row0 col3\" >0.032</td>\n",
       "                        <td id=\"T_72f37280_607f_11e9_b9f2_a0481c1189b1row0_col4\" class=\"data row0 col4\" >0.18</td>\n",
       "                        <td id=\"T_72f37280_607f_11e9_b9f2_a0481c1189b1row0_col5\" class=\"data row0 col5\" >-0.0066</td>\n",
       "                        <td id=\"T_72f37280_607f_11e9_b9f2_a0481c1189b1row0_col6\" class=\"data row0 col6\" >0.08</td>\n",
       "                        <td id=\"T_72f37280_607f_11e9_b9f2_a0481c1189b1row0_col7\" class=\"data row0 col7\" >0.028</td>\n",
       "                        <td id=\"T_72f37280_607f_11e9_b9f2_a0481c1189b1row0_col8\" class=\"data row0 col8\" >0.36</td>\n",
       "                        <td id=\"T_72f37280_607f_11e9_b9f2_a0481c1189b1row0_col9\" class=\"data row0 col9\" >0.48</td>\n",
       "                        <td id=\"T_72f37280_607f_11e9_b9f2_a0481c1189b1row0_col10\" class=\"data row0 col10\" >0.3</td>\n",
       "                        <td id=\"T_72f37280_607f_11e9_b9f2_a0481c1189b1row0_col11\" class=\"data row0 col11\" >0.15</td>\n",
       "                        <td id=\"T_72f37280_607f_11e9_b9f2_a0481c1189b1row0_col12\" class=\"data row0 col12\" >0.019</td>\n",
       "                        <td id=\"T_72f37280_607f_11e9_b9f2_a0481c1189b1row0_col13\" class=\"data row0 col13\" >-0.15</td>\n",
       "                        <td id=\"T_72f37280_607f_11e9_b9f2_a0481c1189b1row0_col14\" class=\"data row0 col14\" >-0.00074</td>\n",
       "                        <td id=\"T_72f37280_607f_11e9_b9f2_a0481c1189b1row0_col15\" class=\"data row0 col15\" >-0.0082</td>\n",
       "                        <td id=\"T_72f37280_607f_11e9_b9f2_a0481c1189b1row0_col16\" class=\"data row0 col16\" >0.39</td>\n",
       "                        <td id=\"T_72f37280_607f_11e9_b9f2_a0481c1189b1row0_col17\" class=\"data row0 col17\" >0.029</td>\n",
       "            </tr>\n",
       "            <tr>\n",
       "                        <th id=\"T_72f37280_607f_11e9_b9f2_a0481c1189b1level0_row1\" class=\"row_heading level0 row1\" >bathrooms</th>\n",
       "                        <td id=\"T_72f37280_607f_11e9_b9f2_a0481c1189b1row1_col0\" class=\"data row1 col0\" >0.49</td>\n",
       "                        <td id=\"T_72f37280_607f_11e9_b9f2_a0481c1189b1row1_col1\" class=\"data row1 col1\" >1</td>\n",
       "                        <td id=\"T_72f37280_607f_11e9_b9f2_a0481c1189b1row1_col2\" class=\"data row1 col2\" >0.7</td>\n",
       "                        <td id=\"T_72f37280_607f_11e9_b9f2_a0481c1189b1row1_col3\" class=\"data row1 col3\" >0.09</td>\n",
       "                        <td id=\"T_72f37280_607f_11e9_b9f2_a0481c1189b1row1_col4\" class=\"data row1 col4\" >0.33</td>\n",
       "                        <td id=\"T_72f37280_607f_11e9_b9f2_a0481c1189b1row1_col5\" class=\"data row1 col5\" >0.065</td>\n",
       "                        <td id=\"T_72f37280_607f_11e9_b9f2_a0481c1189b1row1_col6\" class=\"data row1 col6\" >0.2</td>\n",
       "                        <td id=\"T_72f37280_607f_11e9_b9f2_a0481c1189b1row1_col7\" class=\"data row1 col7\" >-0.067</td>\n",
       "                        <td id=\"T_72f37280_607f_11e9_b9f2_a0481c1189b1row1_col8\" class=\"data row1 col8\" >0.59</td>\n",
       "                        <td id=\"T_72f37280_607f_11e9_b9f2_a0481c1189b1row1_col9\" class=\"data row1 col9\" >0.6</td>\n",
       "                        <td id=\"T_72f37280_607f_11e9_b9f2_a0481c1189b1row1_col10\" class=\"data row1 col10\" >0.33</td>\n",
       "                        <td id=\"T_72f37280_607f_11e9_b9f2_a0481c1189b1row1_col11\" class=\"data row1 col11\" >0.38</td>\n",
       "                        <td id=\"T_72f37280_607f_11e9_b9f2_a0481c1189b1row1_col12\" class=\"data row1 col12\" >0.069</td>\n",
       "                        <td id=\"T_72f37280_607f_11e9_b9f2_a0481c1189b1row1_col13\" class=\"data row1 col13\" >-0.14</td>\n",
       "                        <td id=\"T_72f37280_607f_11e9_b9f2_a0481c1189b1row1_col14\" class=\"data row1 col14\" >0.088</td>\n",
       "                        <td id=\"T_72f37280_607f_11e9_b9f2_a0481c1189b1row1_col15\" class=\"data row1 col15\" >-0.006</td>\n",
       "                        <td id=\"T_72f37280_607f_11e9_b9f2_a0481c1189b1row1_col16\" class=\"data row1 col16\" >0.5</td>\n",
       "                        <td id=\"T_72f37280_607f_11e9_b9f2_a0481c1189b1row1_col17\" class=\"data row1 col17\" >0.087</td>\n",
       "            </tr>\n",
       "            <tr>\n",
       "                        <th id=\"T_72f37280_607f_11e9_b9f2_a0481c1189b1level0_row2\" class=\"row_heading level0 row2\" >sqft_living</th>\n",
       "                        <td id=\"T_72f37280_607f_11e9_b9f2_a0481c1189b1row2_col0\" class=\"data row2 col0\" >0.58</td>\n",
       "                        <td id=\"T_72f37280_607f_11e9_b9f2_a0481c1189b1row2_col1\" class=\"data row2 col1\" >0.7</td>\n",
       "                        <td id=\"T_72f37280_607f_11e9_b9f2_a0481c1189b1row2_col2\" class=\"data row2 col2\" >1</td>\n",
       "                        <td id=\"T_72f37280_607f_11e9_b9f2_a0481c1189b1row2_col3\" class=\"data row2 col3\" >0.17</td>\n",
       "                        <td id=\"T_72f37280_607f_11e9_b9f2_a0481c1189b1row2_col4\" class=\"data row2 col4\" >0.32</td>\n",
       "                        <td id=\"T_72f37280_607f_11e9_b9f2_a0481c1189b1row2_col5\" class=\"data row2 col5\" >0.1</td>\n",
       "                        <td id=\"T_72f37280_607f_11e9_b9f2_a0481c1189b1row2_col6\" class=\"data row2 col6\" >0.28</td>\n",
       "                        <td id=\"T_72f37280_607f_11e9_b9f2_a0481c1189b1row2_col7\" class=\"data row2 col7\" >-0.059</td>\n",
       "                        <td id=\"T_72f37280_607f_11e9_b9f2_a0481c1189b1row2_col8\" class=\"data row2 col8\" >0.76</td>\n",
       "                        <td id=\"T_72f37280_607f_11e9_b9f2_a0481c1189b1row2_col9\" class=\"data row2 col9\" >0.88</td>\n",
       "                        <td id=\"T_72f37280_607f_11e9_b9f2_a0481c1189b1row2_col10\" class=\"data row2 col10\" >0.44</td>\n",
       "                        <td id=\"T_72f37280_607f_11e9_b9f2_a0481c1189b1row2_col11\" class=\"data row2 col11\" >0.32</td>\n",
       "                        <td id=\"T_72f37280_607f_11e9_b9f2_a0481c1189b1row2_col12\" class=\"data row2 col12\" >0.055</td>\n",
       "                        <td id=\"T_72f37280_607f_11e9_b9f2_a0481c1189b1row2_col13\" class=\"data row2 col13\" >-0.2</td>\n",
       "                        <td id=\"T_72f37280_607f_11e9_b9f2_a0481c1189b1row2_col14\" class=\"data row2 col14\" >0.09</td>\n",
       "                        <td id=\"T_72f37280_607f_11e9_b9f2_a0481c1189b1row2_col15\" class=\"data row2 col15\" >-0.0093</td>\n",
       "                        <td id=\"T_72f37280_607f_11e9_b9f2_a0481c1189b1row2_col16\" class=\"data row2 col16\" >0.76</td>\n",
       "                        <td id=\"T_72f37280_607f_11e9_b9f2_a0481c1189b1row2_col17\" class=\"data row2 col17\" >0.18</td>\n",
       "            </tr>\n",
       "            <tr>\n",
       "                        <th id=\"T_72f37280_607f_11e9_b9f2_a0481c1189b1level0_row3\" class=\"row_heading level0 row3\" >sqft_lot</th>\n",
       "                        <td id=\"T_72f37280_607f_11e9_b9f2_a0481c1189b1row3_col0\" class=\"data row3 col0\" >0.032</td>\n",
       "                        <td id=\"T_72f37280_607f_11e9_b9f2_a0481c1189b1row3_col1\" class=\"data row3 col1\" >0.09</td>\n",
       "                        <td id=\"T_72f37280_607f_11e9_b9f2_a0481c1189b1row3_col2\" class=\"data row3 col2\" >0.17</td>\n",
       "                        <td id=\"T_72f37280_607f_11e9_b9f2_a0481c1189b1row3_col3\" class=\"data row3 col3\" >1</td>\n",
       "                        <td id=\"T_72f37280_607f_11e9_b9f2_a0481c1189b1row3_col4\" class=\"data row3 col4\" >-0.0019</td>\n",
       "                        <td id=\"T_72f37280_607f_11e9_b9f2_a0481c1189b1row3_col5\" class=\"data row3 col5\" >0.022</td>\n",
       "                        <td id=\"T_72f37280_607f_11e9_b9f2_a0481c1189b1row3_col6\" class=\"data row3 col6\" >0.075</td>\n",
       "                        <td id=\"T_72f37280_607f_11e9_b9f2_a0481c1189b1row3_col7\" class=\"data row3 col7\" >-0.009</td>\n",
       "                        <td id=\"T_72f37280_607f_11e9_b9f2_a0481c1189b1row3_col8\" class=\"data row3 col8\" >0.11</td>\n",
       "                        <td id=\"T_72f37280_607f_11e9_b9f2_a0481c1189b1row3_col9\" class=\"data row3 col9\" >0.18</td>\n",
       "                        <td id=\"T_72f37280_607f_11e9_b9f2_a0481c1189b1row3_col10\" class=\"data row3 col10\" >0.015</td>\n",
       "                        <td id=\"T_72f37280_607f_11e9_b9f2_a0481c1189b1row3_col11\" class=\"data row3 col11\" >0.053</td>\n",
       "                        <td id=\"T_72f37280_607f_11e9_b9f2_a0481c1189b1row3_col12\" class=\"data row3 col12\" >0.0076</td>\n",
       "                        <td id=\"T_72f37280_607f_11e9_b9f2_a0481c1189b1row3_col13\" class=\"data row3 col13\" >-0.13</td>\n",
       "                        <td id=\"T_72f37280_607f_11e9_b9f2_a0481c1189b1row3_col14\" class=\"data row3 col14\" >-0.1</td>\n",
       "                        <td id=\"T_72f37280_607f_11e9_b9f2_a0481c1189b1row3_col15\" class=\"data row3 col15\" >-0.057</td>\n",
       "                        <td id=\"T_72f37280_607f_11e9_b9f2_a0481c1189b1row3_col16\" class=\"data row3 col16\" >0.14</td>\n",
       "                        <td id=\"T_72f37280_607f_11e9_b9f2_a0481c1189b1row3_col17\" class=\"data row3 col17\" >0.72</td>\n",
       "            </tr>\n",
       "            <tr>\n",
       "                        <th id=\"T_72f37280_607f_11e9_b9f2_a0481c1189b1level0_row4\" class=\"row_heading level0 row4\" >floors</th>\n",
       "                        <td id=\"T_72f37280_607f_11e9_b9f2_a0481c1189b1row4_col0\" class=\"data row4 col0\" >0.18</td>\n",
       "                        <td id=\"T_72f37280_607f_11e9_b9f2_a0481c1189b1row4_col1\" class=\"data row4 col1\" >0.33</td>\n",
       "                        <td id=\"T_72f37280_607f_11e9_b9f2_a0481c1189b1row4_col2\" class=\"data row4 col2\" >0.32</td>\n",
       "                        <td id=\"T_72f37280_607f_11e9_b9f2_a0481c1189b1row4_col3\" class=\"data row4 col3\" >-0.0019</td>\n",
       "                        <td id=\"T_72f37280_607f_11e9_b9f2_a0481c1189b1row4_col4\" class=\"data row4 col4\" >1</td>\n",
       "                        <td id=\"T_72f37280_607f_11e9_b9f2_a0481c1189b1row4_col5\" class=\"data row4 col5\" >0.026</td>\n",
       "                        <td id=\"T_72f37280_607f_11e9_b9f2_a0481c1189b1row4_col6\" class=\"data row4 col6\" >0.028</td>\n",
       "                        <td id=\"T_72f37280_607f_11e9_b9f2_a0481c1189b1row4_col7\" class=\"data row4 col7\" >-0.22</td>\n",
       "                        <td id=\"T_72f37280_607f_11e9_b9f2_a0481c1189b1row4_col8\" class=\"data row4 col8\" >0.41</td>\n",
       "                        <td id=\"T_72f37280_607f_11e9_b9f2_a0481c1189b1row4_col9\" class=\"data row4 col9\" >0.49</td>\n",
       "                        <td id=\"T_72f37280_607f_11e9_b9f2_a0481c1189b1row4_col10\" class=\"data row4 col10\" >-0.25</td>\n",
       "                        <td id=\"T_72f37280_607f_11e9_b9f2_a0481c1189b1row4_col11\" class=\"data row4 col11\" >0.38</td>\n",
       "                        <td id=\"T_72f37280_607f_11e9_b9f2_a0481c1189b1row4_col12\" class=\"data row4 col12\" >0.015</td>\n",
       "                        <td id=\"T_72f37280_607f_11e9_b9f2_a0481c1189b1row4_col13\" class=\"data row4 col13\" >-0.023</td>\n",
       "                        <td id=\"T_72f37280_607f_11e9_b9f2_a0481c1189b1row4_col14\" class=\"data row4 col14\" >0.11</td>\n",
       "                        <td id=\"T_72f37280_607f_11e9_b9f2_a0481c1189b1row4_col15\" class=\"data row4 col15\" >0.018</td>\n",
       "                        <td id=\"T_72f37280_607f_11e9_b9f2_a0481c1189b1row4_col16\" class=\"data row4 col16\" >0.24</td>\n",
       "                        <td id=\"T_72f37280_607f_11e9_b9f2_a0481c1189b1row4_col17\" class=\"data row4 col17\" >-0.011</td>\n",
       "            </tr>\n",
       "            <tr>\n",
       "                        <th id=\"T_72f37280_607f_11e9_b9f2_a0481c1189b1level0_row5\" class=\"row_heading level0 row5\" >waterfront</th>\n",
       "                        <td id=\"T_72f37280_607f_11e9_b9f2_a0481c1189b1row5_col0\" class=\"data row5 col0\" >-0.0066</td>\n",
       "                        <td id=\"T_72f37280_607f_11e9_b9f2_a0481c1189b1row5_col1\" class=\"data row5 col1\" >0.065</td>\n",
       "                        <td id=\"T_72f37280_607f_11e9_b9f2_a0481c1189b1row5_col2\" class=\"data row5 col2\" >0.1</td>\n",
       "                        <td id=\"T_72f37280_607f_11e9_b9f2_a0481c1189b1row5_col3\" class=\"data row5 col3\" >0.022</td>\n",
       "                        <td id=\"T_72f37280_607f_11e9_b9f2_a0481c1189b1row5_col4\" class=\"data row5 col4\" >0.026</td>\n",
       "                        <td id=\"T_72f37280_607f_11e9_b9f2_a0481c1189b1row5_col5\" class=\"data row5 col5\" >1</td>\n",
       "                        <td id=\"T_72f37280_607f_11e9_b9f2_a0481c1189b1row5_col6\" class=\"data row5 col6\" >0.4</td>\n",
       "                        <td id=\"T_72f37280_607f_11e9_b9f2_a0481c1189b1row5_col7\" class=\"data row5 col7\" >0.017</td>\n",
       "                        <td id=\"T_72f37280_607f_11e9_b9f2_a0481c1189b1row5_col8\" class=\"data row5 col8\" >0.083</td>\n",
       "                        <td id=\"T_72f37280_607f_11e9_b9f2_a0481c1189b1row5_col9\" class=\"data row5 col9\" >0.072</td>\n",
       "                        <td id=\"T_72f37280_607f_11e9_b9f2_a0481c1189b1row5_col10\" class=\"data row5 col10\" >0.081</td>\n",
       "                        <td id=\"T_72f37280_607f_11e9_b9f2_a0481c1189b1row5_col11\" class=\"data row5 col11\" >-0.026</td>\n",
       "                        <td id=\"T_72f37280_607f_11e9_b9f2_a0481c1189b1row5_col12\" class=\"data row5 col12\" >0.093</td>\n",
       "                        <td id=\"T_72f37280_607f_11e9_b9f2_a0481c1189b1row5_col13\" class=\"data row5 col13\" >0.03</td>\n",
       "                        <td id=\"T_72f37280_607f_11e9_b9f2_a0481c1189b1row5_col14\" class=\"data row5 col14\" >-0.0095</td>\n",
       "                        <td id=\"T_72f37280_607f_11e9_b9f2_a0481c1189b1row5_col15\" class=\"data row5 col15\" >-0.08</td>\n",
       "                        <td id=\"T_72f37280_607f_11e9_b9f2_a0481c1189b1row5_col16\" class=\"data row5 col16\" >0.086</td>\n",
       "                        <td id=\"T_72f37280_607f_11e9_b9f2_a0481c1189b1row5_col17\" class=\"data row5 col17\" >0.031</td>\n",
       "            </tr>\n",
       "            <tr>\n",
       "                        <th id=\"T_72f37280_607f_11e9_b9f2_a0481c1189b1level0_row6\" class=\"row_heading level0 row6\" >view</th>\n",
       "                        <td id=\"T_72f37280_607f_11e9_b9f2_a0481c1189b1row6_col0\" class=\"data row6 col0\" >0.08</td>\n",
       "                        <td id=\"T_72f37280_607f_11e9_b9f2_a0481c1189b1row6_col1\" class=\"data row6 col1\" >0.2</td>\n",
       "                        <td id=\"T_72f37280_607f_11e9_b9f2_a0481c1189b1row6_col2\" class=\"data row6 col2\" >0.28</td>\n",
       "                        <td id=\"T_72f37280_607f_11e9_b9f2_a0481c1189b1row6_col3\" class=\"data row6 col3\" >0.075</td>\n",
       "                        <td id=\"T_72f37280_607f_11e9_b9f2_a0481c1189b1row6_col4\" class=\"data row6 col4\" >0.028</td>\n",
       "                        <td id=\"T_72f37280_607f_11e9_b9f2_a0481c1189b1row6_col5\" class=\"data row6 col5\" >0.4</td>\n",
       "                        <td id=\"T_72f37280_607f_11e9_b9f2_a0481c1189b1row6_col6\" class=\"data row6 col6\" >1</td>\n",
       "                        <td id=\"T_72f37280_607f_11e9_b9f2_a0481c1189b1row6_col7\" class=\"data row6 col7\" >0.046</td>\n",
       "                        <td id=\"T_72f37280_607f_11e9_b9f2_a0481c1189b1row6_col8\" class=\"data row6 col8\" >0.25</td>\n",
       "                        <td id=\"T_72f37280_607f_11e9_b9f2_a0481c1189b1row6_col9\" class=\"data row6 col9\" >0.17</td>\n",
       "                        <td id=\"T_72f37280_607f_11e9_b9f2_a0481c1189b1row6_col10\" class=\"data row6 col10\" >0.28</td>\n",
       "                        <td id=\"T_72f37280_607f_11e9_b9f2_a0481c1189b1row6_col11\" class=\"data row6 col11\" >-0.053</td>\n",
       "                        <td id=\"T_72f37280_607f_11e9_b9f2_a0481c1189b1row6_col12\" class=\"data row6 col12\" >0.1</td>\n",
       "                        <td id=\"T_72f37280_607f_11e9_b9f2_a0481c1189b1row6_col13\" class=\"data row6 col13\" >0.085</td>\n",
       "                        <td id=\"T_72f37280_607f_11e9_b9f2_a0481c1189b1row6_col14\" class=\"data row6 col14\" >0.059</td>\n",
       "                        <td id=\"T_72f37280_607f_11e9_b9f2_a0481c1189b1row6_col15\" class=\"data row6 col15\" >-0.022</td>\n",
       "                        <td id=\"T_72f37280_607f_11e9_b9f2_a0481c1189b1row6_col16\" class=\"data row6 col16\" >0.28</td>\n",
       "                        <td id=\"T_72f37280_607f_11e9_b9f2_a0481c1189b1row6_col17\" class=\"data row6 col17\" >0.073</td>\n",
       "            </tr>\n",
       "            <tr>\n",
       "                        <th id=\"T_72f37280_607f_11e9_b9f2_a0481c1189b1level0_row7\" class=\"row_heading level0 row7\" >condition</th>\n",
       "                        <td id=\"T_72f37280_607f_11e9_b9f2_a0481c1189b1row7_col0\" class=\"data row7 col0\" >0.028</td>\n",
       "                        <td id=\"T_72f37280_607f_11e9_b9f2_a0481c1189b1row7_col1\" class=\"data row7 col1\" >-0.067</td>\n",
       "                        <td id=\"T_72f37280_607f_11e9_b9f2_a0481c1189b1row7_col2\" class=\"data row7 col2\" >-0.059</td>\n",
       "                        <td id=\"T_72f37280_607f_11e9_b9f2_a0481c1189b1row7_col3\" class=\"data row7 col3\" >-0.009</td>\n",
       "                        <td id=\"T_72f37280_607f_11e9_b9f2_a0481c1189b1row7_col4\" class=\"data row7 col4\" >-0.22</td>\n",
       "                        <td id=\"T_72f37280_607f_11e9_b9f2_a0481c1189b1row7_col5\" class=\"data row7 col5\" >0.017</td>\n",
       "                        <td id=\"T_72f37280_607f_11e9_b9f2_a0481c1189b1row7_col6\" class=\"data row7 col6\" >0.046</td>\n",
       "                        <td id=\"T_72f37280_607f_11e9_b9f2_a0481c1189b1row7_col7\" class=\"data row7 col7\" >1</td>\n",
       "                        <td id=\"T_72f37280_607f_11e9_b9f2_a0481c1189b1row7_col8\" class=\"data row7 col8\" >-0.14</td>\n",
       "                        <td id=\"T_72f37280_607f_11e9_b9f2_a0481c1189b1row7_col9\" class=\"data row7 col9\" >-0.16</td>\n",
       "                        <td id=\"T_72f37280_607f_11e9_b9f2_a0481c1189b1row7_col10\" class=\"data row7 col10\" >0.17</td>\n",
       "                        <td id=\"T_72f37280_607f_11e9_b9f2_a0481c1189b1row7_col11\" class=\"data row7 col11\" >-0.36</td>\n",
       "                        <td id=\"T_72f37280_607f_11e9_b9f2_a0481c1189b1row7_col12\" class=\"data row7 col12\" >-0.061</td>\n",
       "                        <td id=\"T_72f37280_607f_11e9_b9f2_a0481c1189b1row7_col13\" class=\"data row7 col13\" >0.003</td>\n",
       "                        <td id=\"T_72f37280_607f_11e9_b9f2_a0481c1189b1row7_col14\" class=\"data row7 col14\" >-0.0091</td>\n",
       "                        <td id=\"T_72f37280_607f_11e9_b9f2_a0481c1189b1row7_col15\" class=\"data row7 col15\" >-0.013</td>\n",
       "                        <td id=\"T_72f37280_607f_11e9_b9f2_a0481c1189b1row7_col16\" class=\"data row7 col16\" >-0.093</td>\n",
       "                        <td id=\"T_72f37280_607f_11e9_b9f2_a0481c1189b1row7_col17\" class=\"data row7 col17\" >-0.0034</td>\n",
       "            </tr>\n",
       "            <tr>\n",
       "                        <th id=\"T_72f37280_607f_11e9_b9f2_a0481c1189b1level0_row8\" class=\"row_heading level0 row8\" >grade</th>\n",
       "                        <td id=\"T_72f37280_607f_11e9_b9f2_a0481c1189b1row8_col0\" class=\"data row8 col0\" >0.36</td>\n",
       "                        <td id=\"T_72f37280_607f_11e9_b9f2_a0481c1189b1row8_col1\" class=\"data row8 col1\" >0.59</td>\n",
       "                        <td id=\"T_72f37280_607f_11e9_b9f2_a0481c1189b1row8_col2\" class=\"data row8 col2\" >0.76</td>\n",
       "                        <td id=\"T_72f37280_607f_11e9_b9f2_a0481c1189b1row8_col3\" class=\"data row8 col3\" >0.11</td>\n",
       "                        <td id=\"T_72f37280_607f_11e9_b9f2_a0481c1189b1row8_col4\" class=\"data row8 col4\" >0.41</td>\n",
       "                        <td id=\"T_72f37280_607f_11e9_b9f2_a0481c1189b1row8_col5\" class=\"data row8 col5\" >0.083</td>\n",
       "                        <td id=\"T_72f37280_607f_11e9_b9f2_a0481c1189b1row8_col6\" class=\"data row8 col6\" >0.25</td>\n",
       "                        <td id=\"T_72f37280_607f_11e9_b9f2_a0481c1189b1row8_col7\" class=\"data row8 col7\" >-0.14</td>\n",
       "                        <td id=\"T_72f37280_607f_11e9_b9f2_a0481c1189b1row8_col8\" class=\"data row8 col8\" >1</td>\n",
       "                        <td id=\"T_72f37280_607f_11e9_b9f2_a0481c1189b1row8_col9\" class=\"data row8 col9\" >0.76</td>\n",
       "                        <td id=\"T_72f37280_607f_11e9_b9f2_a0481c1189b1row8_col10\" class=\"data row8 col10\" >0.17</td>\n",
       "                        <td id=\"T_72f37280_607f_11e9_b9f2_a0481c1189b1row8_col11\" class=\"data row8 col11\" >0.45</td>\n",
       "                        <td id=\"T_72f37280_607f_11e9_b9f2_a0481c1189b1row8_col12\" class=\"data row8 col12\" >0.014</td>\n",
       "                        <td id=\"T_72f37280_607f_11e9_b9f2_a0481c1189b1row8_col13\" class=\"data row8 col13\" >-0.18</td>\n",
       "                        <td id=\"T_72f37280_607f_11e9_b9f2_a0481c1189b1row8_col14\" class=\"data row8 col14\" >0.17</td>\n",
       "                        <td id=\"T_72f37280_607f_11e9_b9f2_a0481c1189b1row8_col15\" class=\"data row8 col15\" >-0.0082</td>\n",
       "                        <td id=\"T_72f37280_607f_11e9_b9f2_a0481c1189b1row8_col16\" class=\"data row8 col16\" >0.71</td>\n",
       "                        <td id=\"T_72f37280_607f_11e9_b9f2_a0481c1189b1row8_col17\" class=\"data row8 col17\" >0.12</td>\n",
       "            </tr>\n",
       "            <tr>\n",
       "                        <th id=\"T_72f37280_607f_11e9_b9f2_a0481c1189b1level0_row9\" class=\"row_heading level0 row9\" >sqft_above</th>\n",
       "                        <td id=\"T_72f37280_607f_11e9_b9f2_a0481c1189b1row9_col0\" class=\"data row9 col0\" >0.48</td>\n",
       "                        <td id=\"T_72f37280_607f_11e9_b9f2_a0481c1189b1row9_col1\" class=\"data row9 col1\" >0.6</td>\n",
       "                        <td id=\"T_72f37280_607f_11e9_b9f2_a0481c1189b1row9_col2\" class=\"data row9 col2\" >0.88</td>\n",
       "                        <td id=\"T_72f37280_607f_11e9_b9f2_a0481c1189b1row9_col3\" class=\"data row9 col3\" >0.18</td>\n",
       "                        <td id=\"T_72f37280_607f_11e9_b9f2_a0481c1189b1row9_col4\" class=\"data row9 col4\" >0.49</td>\n",
       "                        <td id=\"T_72f37280_607f_11e9_b9f2_a0481c1189b1row9_col5\" class=\"data row9 col5\" >0.072</td>\n",
       "                        <td id=\"T_72f37280_607f_11e9_b9f2_a0481c1189b1row9_col6\" class=\"data row9 col6\" >0.17</td>\n",
       "                        <td id=\"T_72f37280_607f_11e9_b9f2_a0481c1189b1row9_col7\" class=\"data row9 col7\" >-0.16</td>\n",
       "                        <td id=\"T_72f37280_607f_11e9_b9f2_a0481c1189b1row9_col8\" class=\"data row9 col8\" >0.76</td>\n",
       "                        <td id=\"T_72f37280_607f_11e9_b9f2_a0481c1189b1row9_col9\" class=\"data row9 col9\" >1</td>\n",
       "                        <td id=\"T_72f37280_607f_11e9_b9f2_a0481c1189b1row9_col10\" class=\"data row9 col10\" >-0.052</td>\n",
       "                        <td id=\"T_72f37280_607f_11e9_b9f2_a0481c1189b1row9_col11\" class=\"data row9 col11\" >0.42</td>\n",
       "                        <td id=\"T_72f37280_607f_11e9_b9f2_a0481c1189b1row9_col12\" class=\"data row9 col12\" >0.023</td>\n",
       "                        <td id=\"T_72f37280_607f_11e9_b9f2_a0481c1189b1row9_col13\" class=\"data row9 col13\" >-0.26</td>\n",
       "                        <td id=\"T_72f37280_607f_11e9_b9f2_a0481c1189b1row9_col14\" class=\"data row9 col14\" >0.029</td>\n",
       "                        <td id=\"T_72f37280_607f_11e9_b9f2_a0481c1189b1row9_col15\" class=\"data row9 col15\" >-0.0076</td>\n",
       "                        <td id=\"T_72f37280_607f_11e9_b9f2_a0481c1189b1row9_col16\" class=\"data row9 col16\" >0.73</td>\n",
       "                        <td id=\"T_72f37280_607f_11e9_b9f2_a0481c1189b1row9_col17\" class=\"data row9 col17\" >0.19</td>\n",
       "            </tr>\n",
       "            <tr>\n",
       "                        <th id=\"T_72f37280_607f_11e9_b9f2_a0481c1189b1level0_row10\" class=\"row_heading level0 row10\" >sqft_basement</th>\n",
       "                        <td id=\"T_72f37280_607f_11e9_b9f2_a0481c1189b1row10_col0\" class=\"data row10 col0\" >0.3</td>\n",
       "                        <td id=\"T_72f37280_607f_11e9_b9f2_a0481c1189b1row10_col1\" class=\"data row10 col1\" >0.33</td>\n",
       "                        <td id=\"T_72f37280_607f_11e9_b9f2_a0481c1189b1row10_col2\" class=\"data row10 col2\" >0.44</td>\n",
       "                        <td id=\"T_72f37280_607f_11e9_b9f2_a0481c1189b1row10_col3\" class=\"data row10 col3\" >0.015</td>\n",
       "                        <td id=\"T_72f37280_607f_11e9_b9f2_a0481c1189b1row10_col4\" class=\"data row10 col4\" >-0.25</td>\n",
       "                        <td id=\"T_72f37280_607f_11e9_b9f2_a0481c1189b1row10_col5\" class=\"data row10 col5\" >0.081</td>\n",
       "                        <td id=\"T_72f37280_607f_11e9_b9f2_a0481c1189b1row10_col6\" class=\"data row10 col6\" >0.28</td>\n",
       "                        <td id=\"T_72f37280_607f_11e9_b9f2_a0481c1189b1row10_col7\" class=\"data row10 col7\" >0.17</td>\n",
       "                        <td id=\"T_72f37280_607f_11e9_b9f2_a0481c1189b1row10_col8\" class=\"data row10 col8\" >0.17</td>\n",
       "                        <td id=\"T_72f37280_607f_11e9_b9f2_a0481c1189b1row10_col9\" class=\"data row10 col9\" >-0.052</td>\n",
       "                        <td id=\"T_72f37280_607f_11e9_b9f2_a0481c1189b1row10_col10\" class=\"data row10 col10\" >1</td>\n",
       "                        <td id=\"T_72f37280_607f_11e9_b9f2_a0481c1189b1row10_col11\" class=\"data row10 col11\" >-0.13</td>\n",
       "                        <td id=\"T_72f37280_607f_11e9_b9f2_a0481c1189b1row10_col12\" class=\"data row10 col12\" >0.071</td>\n",
       "                        <td id=\"T_72f37280_607f_11e9_b9f2_a0481c1189b1row10_col13\" class=\"data row10 col13\" >0.075</td>\n",
       "                        <td id=\"T_72f37280_607f_11e9_b9f2_a0481c1189b1row10_col14\" class=\"data row10 col14\" >0.13</td>\n",
       "                        <td id=\"T_72f37280_607f_11e9_b9f2_a0481c1189b1row10_col15\" class=\"data row10 col15\" >-0.0051</td>\n",
       "                        <td id=\"T_72f37280_607f_11e9_b9f2_a0481c1189b1row10_col16\" class=\"data row10 col16\" >0.2</td>\n",
       "                        <td id=\"T_72f37280_607f_11e9_b9f2_a0481c1189b1row10_col17\" class=\"data row10 col17\" >0.017</td>\n",
       "            </tr>\n",
       "            <tr>\n",
       "                        <th id=\"T_72f37280_607f_11e9_b9f2_a0481c1189b1level0_row11\" class=\"row_heading level0 row11\" >yr_built</th>\n",
       "                        <td id=\"T_72f37280_607f_11e9_b9f2_a0481c1189b1row11_col0\" class=\"data row11 col0\" >0.15</td>\n",
       "                        <td id=\"T_72f37280_607f_11e9_b9f2_a0481c1189b1row11_col1\" class=\"data row11 col1\" >0.38</td>\n",
       "                        <td id=\"T_72f37280_607f_11e9_b9f2_a0481c1189b1row11_col2\" class=\"data row11 col2\" >0.32</td>\n",
       "                        <td id=\"T_72f37280_607f_11e9_b9f2_a0481c1189b1row11_col3\" class=\"data row11 col3\" >0.053</td>\n",
       "                        <td id=\"T_72f37280_607f_11e9_b9f2_a0481c1189b1row11_col4\" class=\"data row11 col4\" >0.38</td>\n",
       "                        <td id=\"T_72f37280_607f_11e9_b9f2_a0481c1189b1row11_col5\" class=\"data row11 col5\" >-0.026</td>\n",
       "                        <td id=\"T_72f37280_607f_11e9_b9f2_a0481c1189b1row11_col6\" class=\"data row11 col6\" >-0.053</td>\n",
       "                        <td id=\"T_72f37280_607f_11e9_b9f2_a0481c1189b1row11_col7\" class=\"data row11 col7\" >-0.36</td>\n",
       "                        <td id=\"T_72f37280_607f_11e9_b9f2_a0481c1189b1row11_col8\" class=\"data row11 col8\" >0.45</td>\n",
       "                        <td id=\"T_72f37280_607f_11e9_b9f2_a0481c1189b1row11_col9\" class=\"data row11 col9\" >0.42</td>\n",
       "                        <td id=\"T_72f37280_607f_11e9_b9f2_a0481c1189b1row11_col10\" class=\"data row11 col10\" >-0.13</td>\n",
       "                        <td id=\"T_72f37280_607f_11e9_b9f2_a0481c1189b1row11_col11\" class=\"data row11 col11\" >1</td>\n",
       "                        <td id=\"T_72f37280_607f_11e9_b9f2_a0481c1189b1row11_col12\" class=\"data row11 col12\" >-0.22</td>\n",
       "                        <td id=\"T_72f37280_607f_11e9_b9f2_a0481c1189b1row11_col13\" class=\"data row11 col13\" >-0.35</td>\n",
       "                        <td id=\"T_72f37280_607f_11e9_b9f2_a0481c1189b1row11_col14\" class=\"data row11 col14\" >-0.15</td>\n",
       "                        <td id=\"T_72f37280_607f_11e9_b9f2_a0481c1189b1row11_col15\" class=\"data row11 col15\" >0.0064</td>\n",
       "                        <td id=\"T_72f37280_607f_11e9_b9f2_a0481c1189b1row11_col16\" class=\"data row11 col16\" >0.33</td>\n",
       "                        <td id=\"T_72f37280_607f_11e9_b9f2_a0481c1189b1row11_col17\" class=\"data row11 col17\" >0.071</td>\n",
       "            </tr>\n",
       "            <tr>\n",
       "                        <th id=\"T_72f37280_607f_11e9_b9f2_a0481c1189b1level0_row12\" class=\"row_heading level0 row12\" >yr_renovated</th>\n",
       "                        <td id=\"T_72f37280_607f_11e9_b9f2_a0481c1189b1row12_col0\" class=\"data row12 col0\" >0.019</td>\n",
       "                        <td id=\"T_72f37280_607f_11e9_b9f2_a0481c1189b1row12_col1\" class=\"data row12 col1\" >0.069</td>\n",
       "                        <td id=\"T_72f37280_607f_11e9_b9f2_a0481c1189b1row12_col2\" class=\"data row12 col2\" >0.055</td>\n",
       "                        <td id=\"T_72f37280_607f_11e9_b9f2_a0481c1189b1row12_col3\" class=\"data row12 col3\" >0.0076</td>\n",
       "                        <td id=\"T_72f37280_607f_11e9_b9f2_a0481c1189b1row12_col4\" class=\"data row12 col4\" >0.015</td>\n",
       "                        <td id=\"T_72f37280_607f_11e9_b9f2_a0481c1189b1row12_col5\" class=\"data row12 col5\" >0.093</td>\n",
       "                        <td id=\"T_72f37280_607f_11e9_b9f2_a0481c1189b1row12_col6\" class=\"data row12 col6\" >0.1</td>\n",
       "                        <td id=\"T_72f37280_607f_11e9_b9f2_a0481c1189b1row12_col7\" class=\"data row12 col7\" >-0.061</td>\n",
       "                        <td id=\"T_72f37280_607f_11e9_b9f2_a0481c1189b1row12_col8\" class=\"data row12 col8\" >0.014</td>\n",
       "                        <td id=\"T_72f37280_607f_11e9_b9f2_a0481c1189b1row12_col9\" class=\"data row12 col9\" >0.023</td>\n",
       "                        <td id=\"T_72f37280_607f_11e9_b9f2_a0481c1189b1row12_col10\" class=\"data row12 col10\" >0.071</td>\n",
       "                        <td id=\"T_72f37280_607f_11e9_b9f2_a0481c1189b1row12_col11\" class=\"data row12 col11\" >-0.22</td>\n",
       "                        <td id=\"T_72f37280_607f_11e9_b9f2_a0481c1189b1row12_col12\" class=\"data row12 col12\" >1</td>\n",
       "                        <td id=\"T_72f37280_607f_11e9_b9f2_a0481c1189b1row12_col13\" class=\"data row12 col13\" >0.064</td>\n",
       "                        <td id=\"T_72f37280_607f_11e9_b9f2_a0481c1189b1row12_col14\" class=\"data row12 col14\" >0.041</td>\n",
       "                        <td id=\"T_72f37280_607f_11e9_b9f2_a0481c1189b1row12_col15\" class=\"data row12 col15\" >0.006</td>\n",
       "                        <td id=\"T_72f37280_607f_11e9_b9f2_a0481c1189b1row12_col16\" class=\"data row12 col16\" >-0.0027</td>\n",
       "                        <td id=\"T_72f37280_607f_11e9_b9f2_a0481c1189b1row12_col17\" class=\"data row12 col17\" >0.0079</td>\n",
       "            </tr>\n",
       "            <tr>\n",
       "                        <th id=\"T_72f37280_607f_11e9_b9f2_a0481c1189b1level0_row13\" class=\"row_heading level0 row13\" >zipcode</th>\n",
       "                        <td id=\"T_72f37280_607f_11e9_b9f2_a0481c1189b1row13_col0\" class=\"data row13 col0\" >-0.15</td>\n",
       "                        <td id=\"T_72f37280_607f_11e9_b9f2_a0481c1189b1row13_col1\" class=\"data row13 col1\" >-0.14</td>\n",
       "                        <td id=\"T_72f37280_607f_11e9_b9f2_a0481c1189b1row13_col2\" class=\"data row13 col2\" >-0.2</td>\n",
       "                        <td id=\"T_72f37280_607f_11e9_b9f2_a0481c1189b1row13_col3\" class=\"data row13 col3\" >-0.13</td>\n",
       "                        <td id=\"T_72f37280_607f_11e9_b9f2_a0481c1189b1row13_col4\" class=\"data row13 col4\" >-0.023</td>\n",
       "                        <td id=\"T_72f37280_607f_11e9_b9f2_a0481c1189b1row13_col5\" class=\"data row13 col5\" >0.03</td>\n",
       "                        <td id=\"T_72f37280_607f_11e9_b9f2_a0481c1189b1row13_col6\" class=\"data row13 col6\" >0.085</td>\n",
       "                        <td id=\"T_72f37280_607f_11e9_b9f2_a0481c1189b1row13_col7\" class=\"data row13 col7\" >0.003</td>\n",
       "                        <td id=\"T_72f37280_607f_11e9_b9f2_a0481c1189b1row13_col8\" class=\"data row13 col8\" >-0.18</td>\n",
       "                        <td id=\"T_72f37280_607f_11e9_b9f2_a0481c1189b1row13_col9\" class=\"data row13 col9\" >-0.26</td>\n",
       "                        <td id=\"T_72f37280_607f_11e9_b9f2_a0481c1189b1row13_col10\" class=\"data row13 col10\" >0.075</td>\n",
       "                        <td id=\"T_72f37280_607f_11e9_b9f2_a0481c1189b1row13_col11\" class=\"data row13 col11\" >-0.35</td>\n",
       "                        <td id=\"T_72f37280_607f_11e9_b9f2_a0481c1189b1row13_col12\" class=\"data row13 col12\" >0.064</td>\n",
       "                        <td id=\"T_72f37280_607f_11e9_b9f2_a0481c1189b1row13_col13\" class=\"data row13 col13\" >1</td>\n",
       "                        <td id=\"T_72f37280_607f_11e9_b9f2_a0481c1189b1row13_col14\" class=\"data row13 col14\" >0.19</td>\n",
       "                        <td id=\"T_72f37280_607f_11e9_b9f2_a0481c1189b1row13_col15\" class=\"data row13 col15\" >-0.019</td>\n",
       "                        <td id=\"T_72f37280_607f_11e9_b9f2_a0481c1189b1row13_col16\" class=\"data row13 col16\" >-0.28</td>\n",
       "                        <td id=\"T_72f37280_607f_11e9_b9f2_a0481c1189b1row13_col17\" class=\"data row13 col17\" >-0.15</td>\n",
       "            </tr>\n",
       "            <tr>\n",
       "                        <th id=\"T_72f37280_607f_11e9_b9f2_a0481c1189b1level0_row14\" class=\"row_heading level0 row14\" >lat</th>\n",
       "                        <td id=\"T_72f37280_607f_11e9_b9f2_a0481c1189b1row14_col0\" class=\"data row14 col0\" >-0.00074</td>\n",
       "                        <td id=\"T_72f37280_607f_11e9_b9f2_a0481c1189b1row14_col1\" class=\"data row14 col1\" >0.088</td>\n",
       "                        <td id=\"T_72f37280_607f_11e9_b9f2_a0481c1189b1row14_col2\" class=\"data row14 col2\" >0.09</td>\n",
       "                        <td id=\"T_72f37280_607f_11e9_b9f2_a0481c1189b1row14_col3\" class=\"data row14 col3\" >-0.1</td>\n",
       "                        <td id=\"T_72f37280_607f_11e9_b9f2_a0481c1189b1row14_col4\" class=\"data row14 col4\" >0.11</td>\n",
       "                        <td id=\"T_72f37280_607f_11e9_b9f2_a0481c1189b1row14_col5\" class=\"data row14 col5\" >-0.0095</td>\n",
       "                        <td id=\"T_72f37280_607f_11e9_b9f2_a0481c1189b1row14_col6\" class=\"data row14 col6\" >0.059</td>\n",
       "                        <td id=\"T_72f37280_607f_11e9_b9f2_a0481c1189b1row14_col7\" class=\"data row14 col7\" >-0.0091</td>\n",
       "                        <td id=\"T_72f37280_607f_11e9_b9f2_a0481c1189b1row14_col8\" class=\"data row14 col8\" >0.17</td>\n",
       "                        <td id=\"T_72f37280_607f_11e9_b9f2_a0481c1189b1row14_col9\" class=\"data row14 col9\" >0.029</td>\n",
       "                        <td id=\"T_72f37280_607f_11e9_b9f2_a0481c1189b1row14_col10\" class=\"data row14 col10\" >0.13</td>\n",
       "                        <td id=\"T_72f37280_607f_11e9_b9f2_a0481c1189b1row14_col11\" class=\"data row14 col11\" >-0.15</td>\n",
       "                        <td id=\"T_72f37280_607f_11e9_b9f2_a0481c1189b1row14_col12\" class=\"data row14 col12\" >0.041</td>\n",
       "                        <td id=\"T_72f37280_607f_11e9_b9f2_a0481c1189b1row14_col13\" class=\"data row14 col13\" >0.19</td>\n",
       "                        <td id=\"T_72f37280_607f_11e9_b9f2_a0481c1189b1row14_col14\" class=\"data row14 col14\" >1</td>\n",
       "                        <td id=\"T_72f37280_607f_11e9_b9f2_a0481c1189b1row14_col15\" class=\"data row14 col15\" >0.042</td>\n",
       "                        <td id=\"T_72f37280_607f_11e9_b9f2_a0481c1189b1row14_col16\" class=\"data row14 col16\" >0.091</td>\n",
       "                        <td id=\"T_72f37280_607f_11e9_b9f2_a0481c1189b1row14_col17\" class=\"data row14 col17\" >-0.11</td>\n",
       "            </tr>\n",
       "            <tr>\n",
       "                        <th id=\"T_72f37280_607f_11e9_b9f2_a0481c1189b1level0_row15\" class=\"row_heading level0 row15\" >long</th>\n",
       "                        <td id=\"T_72f37280_607f_11e9_b9f2_a0481c1189b1row15_col0\" class=\"data row15 col0\" >-0.0082</td>\n",
       "                        <td id=\"T_72f37280_607f_11e9_b9f2_a0481c1189b1row15_col1\" class=\"data row15 col1\" >-0.006</td>\n",
       "                        <td id=\"T_72f37280_607f_11e9_b9f2_a0481c1189b1row15_col2\" class=\"data row15 col2\" >-0.0093</td>\n",
       "                        <td id=\"T_72f37280_607f_11e9_b9f2_a0481c1189b1row15_col3\" class=\"data row15 col3\" >-0.057</td>\n",
       "                        <td id=\"T_72f37280_607f_11e9_b9f2_a0481c1189b1row15_col4\" class=\"data row15 col4\" >0.018</td>\n",
       "                        <td id=\"T_72f37280_607f_11e9_b9f2_a0481c1189b1row15_col5\" class=\"data row15 col5\" >-0.08</td>\n",
       "                        <td id=\"T_72f37280_607f_11e9_b9f2_a0481c1189b1row15_col6\" class=\"data row15 col6\" >-0.022</td>\n",
       "                        <td id=\"T_72f37280_607f_11e9_b9f2_a0481c1189b1row15_col7\" class=\"data row15 col7\" >-0.013</td>\n",
       "                        <td id=\"T_72f37280_607f_11e9_b9f2_a0481c1189b1row15_col8\" class=\"data row15 col8\" >-0.0082</td>\n",
       "                        <td id=\"T_72f37280_607f_11e9_b9f2_a0481c1189b1row15_col9\" class=\"data row15 col9\" >-0.0076</td>\n",
       "                        <td id=\"T_72f37280_607f_11e9_b9f2_a0481c1189b1row15_col10\" class=\"data row15 col10\" >-0.0051</td>\n",
       "                        <td id=\"T_72f37280_607f_11e9_b9f2_a0481c1189b1row15_col11\" class=\"data row15 col11\" >0.0064</td>\n",
       "                        <td id=\"T_72f37280_607f_11e9_b9f2_a0481c1189b1row15_col12\" class=\"data row15 col12\" >0.006</td>\n",
       "                        <td id=\"T_72f37280_607f_11e9_b9f2_a0481c1189b1row15_col13\" class=\"data row15 col13\" >-0.019</td>\n",
       "                        <td id=\"T_72f37280_607f_11e9_b9f2_a0481c1189b1row15_col14\" class=\"data row15 col14\" >0.042</td>\n",
       "                        <td id=\"T_72f37280_607f_11e9_b9f2_a0481c1189b1row15_col15\" class=\"data row15 col15\" >1</td>\n",
       "                        <td id=\"T_72f37280_607f_11e9_b9f2_a0481c1189b1row15_col16\" class=\"data row15 col16\" >-0.015</td>\n",
       "                        <td id=\"T_72f37280_607f_11e9_b9f2_a0481c1189b1row15_col17\" class=\"data row15 col17\" >-0.093</td>\n",
       "            </tr>\n",
       "            <tr>\n",
       "                        <th id=\"T_72f37280_607f_11e9_b9f2_a0481c1189b1level0_row16\" class=\"row_heading level0 row16\" >sqft_living15</th>\n",
       "                        <td id=\"T_72f37280_607f_11e9_b9f2_a0481c1189b1row16_col0\" class=\"data row16 col0\" >0.39</td>\n",
       "                        <td id=\"T_72f37280_607f_11e9_b9f2_a0481c1189b1row16_col1\" class=\"data row16 col1\" >0.5</td>\n",
       "                        <td id=\"T_72f37280_607f_11e9_b9f2_a0481c1189b1row16_col2\" class=\"data row16 col2\" >0.76</td>\n",
       "                        <td id=\"T_72f37280_607f_11e9_b9f2_a0481c1189b1row16_col3\" class=\"data row16 col3\" >0.14</td>\n",
       "                        <td id=\"T_72f37280_607f_11e9_b9f2_a0481c1189b1row16_col4\" class=\"data row16 col4\" >0.24</td>\n",
       "                        <td id=\"T_72f37280_607f_11e9_b9f2_a0481c1189b1row16_col5\" class=\"data row16 col5\" >0.086</td>\n",
       "                        <td id=\"T_72f37280_607f_11e9_b9f2_a0481c1189b1row16_col6\" class=\"data row16 col6\" >0.28</td>\n",
       "                        <td id=\"T_72f37280_607f_11e9_b9f2_a0481c1189b1row16_col7\" class=\"data row16 col7\" >-0.093</td>\n",
       "                        <td id=\"T_72f37280_607f_11e9_b9f2_a0481c1189b1row16_col8\" class=\"data row16 col8\" >0.71</td>\n",
       "                        <td id=\"T_72f37280_607f_11e9_b9f2_a0481c1189b1row16_col9\" class=\"data row16 col9\" >0.73</td>\n",
       "                        <td id=\"T_72f37280_607f_11e9_b9f2_a0481c1189b1row16_col10\" class=\"data row16 col10\" >0.2</td>\n",
       "                        <td id=\"T_72f37280_607f_11e9_b9f2_a0481c1189b1row16_col11\" class=\"data row16 col11\" >0.33</td>\n",
       "                        <td id=\"T_72f37280_607f_11e9_b9f2_a0481c1189b1row16_col12\" class=\"data row16 col12\" >-0.0027</td>\n",
       "                        <td id=\"T_72f37280_607f_11e9_b9f2_a0481c1189b1row16_col13\" class=\"data row16 col13\" >-0.28</td>\n",
       "                        <td id=\"T_72f37280_607f_11e9_b9f2_a0481c1189b1row16_col14\" class=\"data row16 col14\" >0.091</td>\n",
       "                        <td id=\"T_72f37280_607f_11e9_b9f2_a0481c1189b1row16_col15\" class=\"data row16 col15\" >-0.015</td>\n",
       "                        <td id=\"T_72f37280_607f_11e9_b9f2_a0481c1189b1row16_col16\" class=\"data row16 col16\" >1</td>\n",
       "                        <td id=\"T_72f37280_607f_11e9_b9f2_a0481c1189b1row16_col17\" class=\"data row16 col17\" >0.18</td>\n",
       "            </tr>\n",
       "            <tr>\n",
       "                        <th id=\"T_72f37280_607f_11e9_b9f2_a0481c1189b1level0_row17\" class=\"row_heading level0 row17\" >sqft_lot15</th>\n",
       "                        <td id=\"T_72f37280_607f_11e9_b9f2_a0481c1189b1row17_col0\" class=\"data row17 col0\" >0.029</td>\n",
       "                        <td id=\"T_72f37280_607f_11e9_b9f2_a0481c1189b1row17_col1\" class=\"data row17 col1\" >0.087</td>\n",
       "                        <td id=\"T_72f37280_607f_11e9_b9f2_a0481c1189b1row17_col2\" class=\"data row17 col2\" >0.18</td>\n",
       "                        <td id=\"T_72f37280_607f_11e9_b9f2_a0481c1189b1row17_col3\" class=\"data row17 col3\" >0.72</td>\n",
       "                        <td id=\"T_72f37280_607f_11e9_b9f2_a0481c1189b1row17_col4\" class=\"data row17 col4\" >-0.011</td>\n",
       "                        <td id=\"T_72f37280_607f_11e9_b9f2_a0481c1189b1row17_col5\" class=\"data row17 col5\" >0.031</td>\n",
       "                        <td id=\"T_72f37280_607f_11e9_b9f2_a0481c1189b1row17_col6\" class=\"data row17 col6\" >0.073</td>\n",
       "                        <td id=\"T_72f37280_607f_11e9_b9f2_a0481c1189b1row17_col7\" class=\"data row17 col7\" >-0.0034</td>\n",
       "                        <td id=\"T_72f37280_607f_11e9_b9f2_a0481c1189b1row17_col8\" class=\"data row17 col8\" >0.12</td>\n",
       "                        <td id=\"T_72f37280_607f_11e9_b9f2_a0481c1189b1row17_col9\" class=\"data row17 col9\" >0.19</td>\n",
       "                        <td id=\"T_72f37280_607f_11e9_b9f2_a0481c1189b1row17_col10\" class=\"data row17 col10\" >0.017</td>\n",
       "                        <td id=\"T_72f37280_607f_11e9_b9f2_a0481c1189b1row17_col11\" class=\"data row17 col11\" >0.071</td>\n",
       "                        <td id=\"T_72f37280_607f_11e9_b9f2_a0481c1189b1row17_col12\" class=\"data row17 col12\" >0.0079</td>\n",
       "                        <td id=\"T_72f37280_607f_11e9_b9f2_a0481c1189b1row17_col13\" class=\"data row17 col13\" >-0.15</td>\n",
       "                        <td id=\"T_72f37280_607f_11e9_b9f2_a0481c1189b1row17_col14\" class=\"data row17 col14\" >-0.11</td>\n",
       "                        <td id=\"T_72f37280_607f_11e9_b9f2_a0481c1189b1row17_col15\" class=\"data row17 col15\" >-0.093</td>\n",
       "                        <td id=\"T_72f37280_607f_11e9_b9f2_a0481c1189b1row17_col16\" class=\"data row17 col16\" >0.18</td>\n",
       "                        <td id=\"T_72f37280_607f_11e9_b9f2_a0481c1189b1row17_col17\" class=\"data row17 col17\" >1</td>\n",
       "            </tr>\n",
       "    </tbody></table>"
      ],
      "text/plain": [
       "<pandas.io.formats.style.Styler at 0x23725232a58>"
      ]
     },
     "execution_count": 18,
     "metadata": {},
     "output_type": "execute_result"
    }
   ],
   "source": [
    "corr = df.corr()\n",
    "corr.style.background_gradient(cmap='coolwarm').set_precision(2)\n"
   ]
  },
  {
   "cell_type": "markdown",
   "metadata": {},
   "source": [
    "# High corelated above 0.6¶"
   ]
  },
  {
   "cell_type": "code",
   "execution_count": 19,
   "metadata": {},
   "outputs": [
    {
     "data": {
      "text/plain": [
       "bathrooms      sqft_living      0.701784\n",
       "sqft_living    bathrooms        0.701784\n",
       "               grade            0.762704\n",
       "               sqft_above       0.876597\n",
       "               sqft_living15    0.756420\n",
       "sqft_lot       sqft_lot15       0.718557\n",
       "grade          sqft_living      0.762704\n",
       "               sqft_above       0.755923\n",
       "               sqft_living15    0.713202\n",
       "sqft_above     sqft_living      0.876597\n",
       "               grade            0.755923\n",
       "               sqft_living15    0.731870\n",
       "sqft_living15  sqft_living      0.756420\n",
       "               grade            0.713202\n",
       "               sqft_above       0.731870\n",
       "sqft_lot15     sqft_lot         0.718557\n",
       "dtype: float64"
      ]
     },
     "execution_count": 19,
     "metadata": {},
     "output_type": "execute_result"
    }
   ],
   "source": [
    "s = corr.unstack()\n",
    "s[(abs(s)>0.6)&(abs(s)<1)]"
   ]
  },
  {
   "cell_type": "markdown",
   "metadata": {
    "_cell_guid": "26b535f0-81a8-41c8-8360-ba024773578c",
    "_uuid": "5635dd2b3408f39da22d93f3c19e4b6d276c044c"
   },
   "source": [
    "# Standardization of data"
   ]
  },
  {
   "cell_type": "code",
   "execution_count": 20,
   "metadata": {
    "_cell_guid": "42b1a9f0-815e-4fc3-9728-f25f0e124dc4",
    "_execution_state": "idle",
    "_uuid": "2534164c448d86938e63d8f048bf973630cc0036",
    "collapsed": true
   },
   "outputs": [
    {
     "name": "stdout",
     "output_type": "stream",
     "text": [
      "outer range (low) of the distribution:\n",
      "[[-1.26686039]\n",
      " [-1.25868864]\n",
      " [-1.25324081]\n",
      " [-1.2505169 ]\n",
      " [-1.24779298]\n",
      " [-1.24643103]\n",
      " [-1.24506907]\n",
      " [-1.24234515]\n",
      " [-1.23962124]\n",
      " [-1.23962124]]\n",
      "\n",
      "outer range (high) of the distribution:\n",
      "[[10.75649871]\n",
      " [10.78646177]\n",
      " [11.24407943]\n",
      " [12.45022882]\n",
      " [12.96559346]\n",
      " [13.10178919]\n",
      " [13.70105041]\n",
      " [17.28299812]\n",
      " [17.76649297]\n",
      " [19.50298853]]\n"
     ]
    }
   ],
   "source": [
    "#standardizing data to mitigate skewdness and kurtosis\n",
    "from sklearn.preprocessing import StandardScaler\n",
    "saleprice_scaled = StandardScaler().fit_transform(l['SalePrice'][:,np.newaxis]);\n",
    "low_range = saleprice_scaled[saleprice_scaled[:,0].argsort()][:10]\n",
    "high_range= saleprice_scaled[saleprice_scaled[:,0].argsort()][-10:]\n",
    "print('outer range (low) of the distribution:')\n",
    "print(low_range)\n",
    "print('\\nouter range (high) of the distribution:')\n",
    "print(high_range)"
   ]
  },
  {
   "cell_type": "markdown",
   "metadata": {
    "_cell_guid": "f913f5e6-d910-40b8-896a-bfacfc46f46c",
    "_uuid": "b5c23fbdf6d31480e7ed184cd4d45b915d3ba284"
   },
   "source": [
    "# Normalising the Saleprice and sqft_living "
   ]
  },
  {
   "cell_type": "code",
   "execution_count": 21,
   "metadata": {
    "_cell_guid": "5d83df7a-dede-4362-8144-734866f2e43a",
    "_execution_state": "idle",
    "_uuid": "238378095702f7647f8d218f68e6b7b6b7474b95",
    "collapsed": true
   },
   "outputs": [
    {
     "data": {
      "image/png": "[encoded data removed]",
      "text/plain": [
       "<Figure size 576x576 with 1 Axes>"
      ]
     },
     "metadata": {
      "needs_background": "light"
     },
     "output_type": "display_data"
    },
    {
     "data": {
      "text/plain": [
       "<Figure size 432x288 with 0 Axes>"
      ]
     },
     "metadata": {},
     "output_type": "display_data"
    },
    {
     "data": {
      "image/png": "[encoded data removed]",
      "text/plain": [
       "<Figure size 576x576 with 1 Axes>"
      ]
     },
     "metadata": {
      "needs_background": "light"
     },
     "output_type": "display_data"
    }
   ],
   "source": [
    "from scipy.stats import norm\n",
    "from scipy import stats\n",
    "f, ax = plt.subplots(figsize=(8,8))\n",
    "sns.distplot(y['SalePrice'], fit=norm, bins=50, kde=False);\n",
    "fig = plt.figure()\n",
    "f, ax = plt.subplots(figsize=(8, 8))\n",
    "res = stats.probplot(y['SalePrice'], plot=plt)\n",
    "plt.show()\n",
    "%matplotlib inline"
   ]
  },
  {
   "cell_type": "markdown",
   "metadata": {
    "_cell_guid": "958f161c-7a47-48ac-b88c-6b86e78fd379",
    "_uuid": "cdcd024247b804afbfd7e74f4dd391c590f1ce04"
   },
   "source": [
    "# Fitting the normal distribution curve"
   ]
  },
  {
   "cell_type": "markdown",
   "metadata": {},
   "source": [
    "# Applying log transformation"
   ]
  },
  {
   "cell_type": "code",
   "execution_count": 22,
   "metadata": {
    "_cell_guid": "a5a8b441-86f5-4b4d-9ffe-6f51ed0c3e10",
    "_execution_state": "idle",
    "_uuid": "ada614a7e0dea5af891afc4a35ecd8bfdb33bc1b",
    "collapsed": true
   },
   "outputs": [
    {
     "data": {
      "image/png": "[encoded data removed]",
      "text/plain": [
       "<Figure size 432x288 with 1 Axes>"
      ]
     },
     "metadata": {
      "needs_background": "light"
     },
     "output_type": "display_data"
    },
    {
     "data": {
      "image/png": "[encoded data removed]",
      "text/plain": [
       "<Figure size 432x288 with 1 Axes>"
      ]
     },
     "metadata": {
      "needs_background": "light"
     },
     "output_type": "display_data"
    }
   ],
   "source": [
    "y['SalePrice'] = np.log(y['SalePrice'])\n",
    "sns.distplot(y['SalePrice'], fit=norm,  bins=50, kde=False);\n",
    "fig = plt.figure()\n",
    "res = stats.probplot(y['SalePrice'], plot=plt)"
   ]
  },
  {
   "cell_type": "code",
   "execution_count": 23,
   "metadata": {
    "_cell_guid": "b90f6ddf-fe5f-49bb-8841-05878477d4da",
    "_execution_state": "idle",
    "_uuid": "170c3141d83129203475ff7cf1ee2f793a20cae1",
    "collapsed": true
   },
   "outputs": [
    {
     "data": {
      "image/png": "[encoded data removed]",
      "text/plain": [
       "<Figure size 432x288 with 1 Axes>"
      ]
     },
     "metadata": {
      "needs_background": "light"
     },
     "output_type": "display_data"
    },
    {
     "data": {
      "image/png": "[encoded data removed]",
      "text/plain": [
       "<Figure size 432x288 with 1 Axes>"
      ]
     },
     "metadata": {
      "needs_background": "light"
     },
     "output_type": "display_data"
    }
   ],
   "source": [
    "#histogram and normal probability plot\n",
    "sns.distplot(df['sqft_living'], fit=norm, bins=50, kde=False);\n",
    "fig = plt.figure()\n",
    "res = stats.probplot(df['sqft_living'], plot=plt)"
   ]
  },
  {
   "cell_type": "code",
   "execution_count": 24,
   "metadata": {
    "_cell_guid": "345490d2-fea9-49c7-bbd0-5f2577befd20",
    "_execution_state": "idle",
    "_uuid": "d35a6538fac643c048c64ac7690e9b78e859d31c",
    "collapsed": true
   },
   "outputs": [
    {
     "data": {
      "image/png": "[encoded data removed]",
      "text/plain": [
       "<Figure size 432x288 with 1 Axes>"
      ]
     },
     "metadata": {
      "needs_background": "light"
     },
     "output_type": "display_data"
    },
    {
     "data": {
      "image/png": "[encoded data removed]",
      "text/plain": [
       "<Figure size 432x288 with 1 Axes>"
      ]
     },
     "metadata": {
      "needs_background": "light"
     },
     "output_type": "display_data"
    }
   ],
   "source": [
    "df['sqft_living'] = np.log(df['sqft_living'])\n",
    "#transformed histogram and normal probability plot\n",
    "sns.distplot(df['sqft_living'], fit=norm, bins=50, kde=False);\n",
    "fig = plt.figure()\n",
    "res = stats.probplot(df['sqft_living'], plot=plt)"
   ]
  },
  {
   "cell_type": "markdown",
   "metadata": {},
   "source": [
    "# Scatter plot"
   ]
  },
  {
   "cell_type": "code",
   "execution_count": 25,
   "metadata": {
    "_cell_guid": "394e88a7-c73f-4c20-bcf4-cc7f23e91c83",
    "_execution_state": "idle",
    "_uuid": "ff0f1feb675a43c1b5725294c85315021ca1bdaa",
    "collapsed": true
   },
   "outputs": [
    {
     "data": {
      "image/png": "[encoded data removed]",
      "text/plain": [
       "<Figure size 432x288 with 1 Axes>"
      ]
     },
     "metadata": {
      "needs_background": "light"
     },
     "output_type": "display_data"
    }
   ],
   "source": [
    "plt.scatter(df['sqft_living'], y['SalePrice']);\n",
    "plt.xlabel('sqft_living')\n",
    "plt.ylabel('SalePrice')\n",
    "plt.show()"
   ]
  },
  {
   "cell_type": "markdown",
   "metadata": {
    "_cell_guid": "1b60936c-7eca-437a-9bd0-03b751be58fe",
    "_uuid": "e0be8978c178cc9f123202db59bc0ae638453456"
   },
   "source": [
    "#### There is a nice linear relationship between the features "
   ]
  },
  {
   "cell_type": "markdown",
   "metadata": {
    "_cell_guid": "1877a830-2dfe-49b9-8505-d7387616337b",
    "_uuid": "4f4ad8ce4b13a9e325468209e6e0b3d30932f101"
   },
   "source": [
    "## 4. Fitting Machine Learning Models"
   ]
  },
  {
   "cell_type": "code",
   "execution_count": 26,
   "metadata": {
    "_cell_guid": "abf9e32c-e20b-436b-91aa-b777f9e2e0b7",
    "_execution_state": "idle",
    "_uuid": "d25184260910df3fd2bbcbfd03099c0e03eae2f6",
    "collapsed": true
   },
   "outputs": [
    {
     "data": {
      "text/html": [
       "<div>\n",
       "<style scoped>\n",
       "    .dataframe tbody tr th:only-of-type {\n",
       "        vertical-align: middle;\n",
       "    }\n",
       "\n",
       "    .dataframe tbody tr th {\n",
       "        vertical-align: top;\n",
       "    }\n",
       "\n",
       "    .dataframe thead th {\n",
       "        text-align: right;\n",
       "    }\n",
       "</style>\n",
       "<table border=\"1\" class=\"dataframe\">\n",
       "  <thead>\n",
       "    <tr style=\"text-align: right;\">\n",
       "      <th></th>\n",
       "      <th>bedrooms</th>\n",
       "      <th>bathrooms</th>\n",
       "      <th>sqft_living</th>\n",
       "      <th>sqft_lot</th>\n",
       "      <th>floors</th>\n",
       "      <th>waterfront</th>\n",
       "      <th>view</th>\n",
       "      <th>condition</th>\n",
       "      <th>grade</th>\n",
       "      <th>sqft_above</th>\n",
       "      <th>sqft_basement</th>\n",
       "      <th>yr_built</th>\n",
       "      <th>yr_renovated</th>\n",
       "      <th>zipcode</th>\n",
       "      <th>lat</th>\n",
       "      <th>long</th>\n",
       "      <th>sqft_living15</th>\n",
       "      <th>sqft_lot15</th>\n",
       "    </tr>\n",
       "  </thead>\n",
       "  <tbody>\n",
       "    <tr>\n",
       "      <th>0</th>\n",
       "      <td>3</td>\n",
       "      <td>1.0</td>\n",
       "      <td>7.073270</td>\n",
       "      <td>5650</td>\n",
       "      <td>1.0</td>\n",
       "      <td>0</td>\n",
       "      <td>0</td>\n",
       "      <td>3</td>\n",
       "      <td>7</td>\n",
       "      <td>1180</td>\n",
       "      <td>0</td>\n",
       "      <td>1955</td>\n",
       "      <td>0</td>\n",
       "      <td>98178</td>\n",
       "      <td>48.0</td>\n",
       "      <td>-122.0</td>\n",
       "      <td>1340</td>\n",
       "      <td>5650</td>\n",
       "    </tr>\n",
       "    <tr>\n",
       "      <th>1</th>\n",
       "      <td>3</td>\n",
       "      <td>2.0</td>\n",
       "      <td>7.851661</td>\n",
       "      <td>7242</td>\n",
       "      <td>2.0</td>\n",
       "      <td>0</td>\n",
       "      <td>0</td>\n",
       "      <td>3</td>\n",
       "      <td>7</td>\n",
       "      <td>2170</td>\n",
       "      <td>400</td>\n",
       "      <td>1951</td>\n",
       "      <td>1991</td>\n",
       "      <td>98125</td>\n",
       "      <td>48.0</td>\n",
       "      <td>-122.0</td>\n",
       "      <td>1690</td>\n",
       "      <td>7639</td>\n",
       "    </tr>\n",
       "    <tr>\n",
       "      <th>2</th>\n",
       "      <td>2</td>\n",
       "      <td>1.0</td>\n",
       "      <td>6.646391</td>\n",
       "      <td>10000</td>\n",
       "      <td>1.0</td>\n",
       "      <td>0</td>\n",
       "      <td>0</td>\n",
       "      <td>3</td>\n",
       "      <td>6</td>\n",
       "      <td>770</td>\n",
       "      <td>0</td>\n",
       "      <td>1933</td>\n",
       "      <td>0</td>\n",
       "      <td>98028</td>\n",
       "      <td>48.0</td>\n",
       "      <td>-122.0</td>\n",
       "      <td>2720</td>\n",
       "      <td>8062</td>\n",
       "    </tr>\n",
       "    <tr>\n",
       "      <th>3</th>\n",
       "      <td>4</td>\n",
       "      <td>3.0</td>\n",
       "      <td>7.580700</td>\n",
       "      <td>5000</td>\n",
       "      <td>1.0</td>\n",
       "      <td>0</td>\n",
       "      <td>0</td>\n",
       "      <td>5</td>\n",
       "      <td>7</td>\n",
       "      <td>1050</td>\n",
       "      <td>910</td>\n",
       "      <td>1965</td>\n",
       "      <td>0</td>\n",
       "      <td>98136</td>\n",
       "      <td>48.0</td>\n",
       "      <td>-122.0</td>\n",
       "      <td>1360</td>\n",
       "      <td>5000</td>\n",
       "    </tr>\n",
       "    <tr>\n",
       "      <th>4</th>\n",
       "      <td>3</td>\n",
       "      <td>2.0</td>\n",
       "      <td>7.426549</td>\n",
       "      <td>8080</td>\n",
       "      <td>1.0</td>\n",
       "      <td>0</td>\n",
       "      <td>0</td>\n",
       "      <td>3</td>\n",
       "      <td>8</td>\n",
       "      <td>1680</td>\n",
       "      <td>0</td>\n",
       "      <td>1987</td>\n",
       "      <td>0</td>\n",
       "      <td>98074</td>\n",
       "      <td>48.0</td>\n",
       "      <td>-122.0</td>\n",
       "      <td>1800</td>\n",
       "      <td>7503</td>\n",
       "    </tr>\n",
       "  </tbody>\n",
       "</table>\n",
       "</div>"
      ],
      "text/plain": [
       "   bedrooms  bathrooms  sqft_living  sqft_lot  floors  waterfront  view  \\\n",
       "0         3        1.0     7.073270      5650     1.0           0     0   \n",
       "1         3        2.0     7.851661      7242     2.0           0     0   \n",
       "2         2        1.0     6.646391     10000     1.0           0     0   \n",
       "3         4        3.0     7.580700      5000     1.0           0     0   \n",
       "4         3        2.0     7.426549      8080     1.0           0     0   \n",
       "\n",
       "   condition  grade  sqft_above  sqft_basement  yr_built  yr_renovated  \\\n",
       "0          3      7        1180              0      1955             0   \n",
       "1          3      7        2170            400      1951          1991   \n",
       "2          3      6         770              0      1933             0   \n",
       "3          5      7        1050            910      1965             0   \n",
       "4          3      8        1680              0      1987             0   \n",
       "\n",
       "   zipcode   lat   long  sqft_living15  sqft_lot15  \n",
       "0    98178  48.0 -122.0           1340        5650  \n",
       "1    98125  48.0 -122.0           1690        7639  \n",
       "2    98028  48.0 -122.0           2720        8062  \n",
       "3    98136  48.0 -122.0           1360        5000  \n",
       "4    98074  48.0 -122.0           1800        7503  "
      ]
     },
     "execution_count": 26,
     "metadata": {},
     "output_type": "execute_result"
    }
   ],
   "source": [
    "df.head()"
   ]
  },
  {
   "cell_type": "code",
   "execution_count": 27,
   "metadata": {},
   "outputs": [
    {
     "data": {
      "text/plain": [
       "bathrooms      sqft_living      0.701784\n",
       "sqft_living    bathrooms        0.701784\n",
       "               grade            0.762704\n",
       "               sqft_above       0.876597\n",
       "               sqft_living15    0.756420\n",
       "sqft_lot       sqft_lot15       0.718557\n",
       "grade          sqft_living      0.762704\n",
       "               sqft_above       0.755923\n",
       "               sqft_living15    0.713202\n",
       "sqft_above     sqft_living      0.876597\n",
       "               grade            0.755923\n",
       "               sqft_living15    0.731870\n",
       "sqft_living15  sqft_living      0.756420\n",
       "               grade            0.713202\n",
       "               sqft_above       0.731870\n",
       "sqft_lot15     sqft_lot         0.718557\n",
       "dtype: float64"
      ]
     },
     "execution_count": 27,
     "metadata": {},
     "output_type": "execute_result"
    }
   ],
   "source": [
    "s = corr.unstack()\n",
    "s[(abs(s)>0.6)&(abs(s)<1)]"
   ]
  },
  {
   "cell_type": "markdown",
   "metadata": {},
   "source": [
    "'sqft_lot15','grade','zipcode', 'lat', 'long'"
   ]
  },
  {
   "cell_type": "code",
   "execution_count": 28,
   "metadata": {
    "_cell_guid": "fd2c2a80-fa03-4a2e-8abf-ec5713b81e18",
    "_execution_state": "idle",
    "_uuid": "ac15baa5904c8751c4372f6fddf82f26a178720d",
    "collapsed": true
   },
   "outputs": [],
   "source": [
    "feature_cols = ['bedrooms', 'bathrooms', 'sqft_living', 'sqft_lot', 'floors',\n",
    "       'view', 'condition', 'grade', 'sqft_above',\n",
    "       'sqft_basement', 'yr_built', 'yr_renovated','sqft_lot15','grade','zipcode', 'lat', 'long',\n",
    "       'sqft_living15']\n",
    "X=df[feature_cols]"
   ]
  },
  {
   "cell_type": "code",
   "execution_count": 29,
   "metadata": {},
   "outputs": [
    {
     "data": {
      "text/plain": [
       "(21613, 18)"
      ]
     },
     "execution_count": 29,
     "metadata": {},
     "output_type": "execute_result"
    }
   ],
   "source": [
    "X.shape"
   ]
  },
  {
   "cell_type": "code",
   "execution_count": 30,
   "metadata": {},
   "outputs": [
    {
     "data": {
      "text/html": [
       "<div>\n",
       "<style scoped>\n",
       "    .dataframe tbody tr th:only-of-type {\n",
       "        vertical-align: middle;\n",
       "    }\n",
       "\n",
       "    .dataframe tbody tr th {\n",
       "        vertical-align: top;\n",
       "    }\n",
       "\n",
       "    .dataframe thead th {\n",
       "        text-align: right;\n",
       "    }\n",
       "</style>\n",
       "<table border=\"1\" class=\"dataframe\">\n",
       "  <thead>\n",
       "    <tr style=\"text-align: right;\">\n",
       "      <th></th>\n",
       "      <th>SalePrice</th>\n",
       "    </tr>\n",
       "  </thead>\n",
       "  <tbody>\n",
       "    <tr>\n",
       "      <th>0</th>\n",
       "      <td>12.309982</td>\n",
       "    </tr>\n",
       "    <tr>\n",
       "      <th>1</th>\n",
       "      <td>13.195614</td>\n",
       "    </tr>\n",
       "    <tr>\n",
       "      <th>2</th>\n",
       "      <td>12.100712</td>\n",
       "    </tr>\n",
       "    <tr>\n",
       "      <th>3</th>\n",
       "      <td>13.311329</td>\n",
       "    </tr>\n",
       "    <tr>\n",
       "      <th>4</th>\n",
       "      <td>13.142166</td>\n",
       "    </tr>\n",
       "  </tbody>\n",
       "</table>\n",
       "</div>"
      ],
      "text/plain": [
       "   SalePrice\n",
       "0  12.309982\n",
       "1  13.195614\n",
       "2  12.100712\n",
       "3  13.311329\n",
       "4  13.142166"
      ]
     },
     "execution_count": 30,
     "metadata": {},
     "output_type": "execute_result"
    }
   ],
   "source": [
    "y.head()"
   ]
  },
  {
   "cell_type": "markdown",
   "metadata": {},
   "source": [
    "# Method1 LinearRegression"
   ]
  },
  {
   "cell_type": "code",
   "execution_count": 31,
   "metadata": {
    "_cell_guid": "cc462cb3-4ce0-48e9-bfe8-2febfae98b80",
    "_execution_state": "idle",
    "_uuid": "ccf7ca4cf55578541ef7865c7a44555c1aecb479",
    "collapsed": true
   },
   "outputs": [],
   "source": [
    "from sklearn.model_selection import train_test_split\n",
    "x_train,x_test,y_train,y_test = train_test_split(X, y, test_size=0.20,random_state=0)\n",
    "#X_train, X_val, y_train, y_val = train_test_split(x_train, y_train, test_size=0.20, random_state=0)"
   ]
  },
  {
   "cell_type": "code",
   "execution_count": 32,
   "metadata": {},
   "outputs": [
    {
     "data": {
      "text/plain": [
       "((17290, 18), (17290, 1))"
      ]
     },
     "execution_count": 32,
     "metadata": {},
     "output_type": "execute_result"
    }
   ],
   "source": [
    "x_train.shape,y_train.shape"
   ]
  },
  {
   "cell_type": "code",
   "execution_count": 33,
   "metadata": {},
   "outputs": [],
   "source": [
    "from sklearn.metrics import explained_variance_score"
   ]
  },
  {
   "cell_type": "code",
   "execution_count": 34,
   "metadata": {
    "_cell_guid": "75292b50-d77b-4b29-8bbd-d1dcc961fd29",
    "_execution_state": "idle",
    "_uuid": "ab5540179a58b6907b448a08494970180df1f3bd",
    "collapsed": true
   },
   "outputs": [
    {
     "data": {
      "text/plain": [
       "LinearRegression(copy_X=True, fit_intercept=True, n_jobs=None,\n",
       "         normalize=False)"
      ]
     },
     "execution_count": 34,
     "metadata": {},
     "output_type": "execute_result"
    }
   ],
   "source": [
    "from sklearn.linear_model import LinearRegression\n",
    "from sklearn.metrics import r2_score,mean_squared_error,mean_absolute_error\n",
    "regressor = LinearRegression()\n",
    "regressor.fit(x_train, y_train)"
   ]
  },
  {
   "cell_type": "code",
   "execution_count": 35,
   "metadata": {},
   "outputs": [],
   "source": [
    "def eroor_and_score(pre_y,y_test):\n",
    "    a = []\n",
    "    \n",
    "    b = \"R-Square result: %.2f\" %r2_score(pre_y,y_test)\n",
    "    c = \"explined variance of model: %.2f\" %explained_variance_score(pre_y,y_test,multioutput='uniform_average') \n",
    "    d = \"mean_squared_error:  %.2f\"%mean_squared_error(pre_y,y_test)\n",
    "    e = \"RMSE:  %.2f\"%np.sqrt(mean_squared_error(pre_y,y_test))\n",
    "    a.append(b)\n",
    "    a.append(c)\n",
    "    a.append(d)\n",
    "    a.append(e)\n",
    "    return a"
   ]
  },
  {
   "cell_type": "code",
   "execution_count": 36,
   "metadata": {},
   "outputs": [],
   "source": [
    "predcted_y_test =regressor.predict(x_test)\n",
    "predcted_y_train =regressor.predict(x_train)"
   ]
  },
  {
   "cell_type": "code",
   "execution_count": 37,
   "metadata": {},
   "outputs": [
    {
     "name": "stdout",
     "output_type": "stream",
     "text": [
      "Simple regression on test set : ['R-Square result: 0.73', 'explined variance of model: 0.73', 'mean_squared_error:  0.06', 'RMSE:  0.24']\n",
      "Simple regression on train set : ['R-Square result: 0.73', 'explined variance of model: 0.73', 'mean_squared_error:  0.06', 'RMSE:  0.25']\n"
     ]
    }
   ],
   "source": [
    "print(\"Simple regression on test set :\",eroor_and_score(predcted_y_test,y_test))\n",
    "print(\"Simple regression on train set :\",eroor_and_score(predcted_y_train,y_train))\n"
   ]
  },
  {
   "cell_type": "code",
   "execution_count": 38,
   "metadata": {},
   "outputs": [
    {
     "name": "stdout",
     "output_type": "stream",
     "text": [
      " Test accuracy  0.78 \n"
     ]
    }
   ],
   "source": [
    "print( \" Test accuracy  %.2f \" %regressor.score(x_test, y_test))"
   ]
  },
  {
   "cell_type": "markdown",
   "metadata": {},
   "source": [
    "# model accuracy"
   ]
  },
  {
   "cell_type": "code",
   "execution_count": 39,
   "metadata": {},
   "outputs": [
    {
     "name": "stdout",
     "output_type": "stream",
     "text": [
      "Linear model acuuracy: 78%\n"
     ]
    }
   ],
   "source": [
    "from sklearn.model_selection import cross_val_score\n",
    "\n",
    "score = cross_val_score(regressor, X, y,cv =10 )\n",
    "Accuracy = score.mean()\n",
    "print(\"Linear model acuuracy: {}%\". format(int(round(Accuracy*100))))"
   ]
  },
  {
   "cell_type": "markdown",
   "metadata": {},
   "source": [
    "# Method2: Ridge Regression"
   ]
  },
  {
   "cell_type": "code",
   "execution_count": 40,
   "metadata": {},
   "outputs": [
    {
     "data": {
      "text/plain": [
       "Ridge(alpha=0.001, copy_X=True, fit_intercept=True, max_iter=1000,\n",
       "   normalize=False, random_state=None, solver='auto', tol=0.001)"
      ]
     },
     "execution_count": 40,
     "metadata": {},
     "output_type": "execute_result"
    }
   ],
   "source": [
    "from sklearn.linear_model import Ridge\n",
    "#alpha = [0.1,0.01,0.02,0.001,0.001,0.0001,0.00001,0.0001]\n",
    "RidgeReg = Ridge(0.001,max_iter=1000)\n",
    "RidgeReg.fit(x_train, y_train)"
   ]
  },
  {
   "cell_type": "code",
   "execution_count": 41,
   "metadata": {},
   "outputs": [
    {
     "name": "stdout",
     "output_type": "stream",
     "text": [
      "Simple regression on test set : ['R-Square result: 0.73', 'explined variance of model: 0.73', 'mean_squared_error:  0.06', 'RMSE:  0.24']\n",
      "Simple regression on train set : ['R-Square result: 0.73', 'explined variance of model: 0.73', 'mean_squared_error:  0.06', 'RMSE:  0.25']\n"
     ]
    }
   ],
   "source": [
    "predcted_y_test =RidgeReg.predict(x_test)\n",
    "predcted_y_train =RidgeReg.predict(x_train)\n",
    "print(\"Simple regression on test set :\",eroor_and_score(predcted_y_test,y_test))\n",
    "print(\"Simple regression on train set :\",eroor_and_score(predcted_y_train,y_train))\n"
   ]
  },
  {
   "cell_type": "code",
   "execution_count": 42,
   "metadata": {},
   "outputs": [
    {
     "name": "stdout",
     "output_type": "stream",
     "text": [
      " Test accuracy  0.78 \n"
     ]
    }
   ],
   "source": [
    "print( \" Test accuracy  %.2f \" %RidgeReg.score(x_test, y_test))"
   ]
  },
  {
   "cell_type": "markdown",
   "metadata": {},
   "source": [
    "# Model accuracy"
   ]
  },
  {
   "cell_type": "code",
   "execution_count": 43,
   "metadata": {},
   "outputs": [
    {
     "name": "stdout",
     "output_type": "stream",
     "text": [
      "Ridge model acuuracy: 78%\n"
     ]
    }
   ],
   "source": [
    "from sklearn.model_selection import cross_val_score\n",
    "score = cross_val_score(RidgeReg, X, y,cv =10 )\n",
    "Accuracy = score.mean()\n",
    "print(\"Ridge model acuuracy: {}%\". format(int(round(Accuracy*100))))"
   ]
  },
  {
   "cell_type": "markdown",
   "metadata": {},
   "source": [
    "# Method3: Lasso Regression"
   ]
  },
  {
   "cell_type": "code",
   "execution_count": 44,
   "metadata": {},
   "outputs": [
    {
     "data": {
      "text/plain": [
       "Lasso(alpha=0.001, copy_X=True, fit_intercept=True, max_iter=1000,\n",
       "   normalize=False, positive=False, precompute=False, random_state=None,\n",
       "   selection='cyclic', tol=0.0001, warm_start=False)"
      ]
     },
     "execution_count": 44,
     "metadata": {},
     "output_type": "execute_result"
    }
   ],
   "source": [
    "from sklearn.linear_model import Lasso\n",
    "lassoReg = Lasso(alpha=0.001,max_iter=1000)\n",
    "lassoReg.fit(x_train, y_train)"
   ]
  },
  {
   "cell_type": "code",
   "execution_count": 45,
   "metadata": {},
   "outputs": [
    {
     "name": "stdout",
     "output_type": "stream",
     "text": [
      "lasso regression on test set : ['R-Square result: 0.72', 'explined variance of model: 0.72', 'mean_squared_error:  0.06', 'RMSE:  0.24']\n",
      "lasso regression on train set : ['R-Square result: 0.72', 'explined variance of model: 0.72', 'mean_squared_error:  0.06', 'RMSE:  0.25']\n"
     ]
    }
   ],
   "source": [
    "predcted_y_test =lassoReg.predict(x_test)\n",
    "predcted_y_train =lassoReg.predict(x_train)\n",
    "print(\"lasso regression on test set :\",eroor_and_score(predcted_y_test,y_test))\n",
    "print(\"lasso regression on train set :\",eroor_and_score(predcted_y_train,y_train))"
   ]
  },
  {
   "cell_type": "code",
   "execution_count": 46,
   "metadata": {},
   "outputs": [
    {
     "name": "stdout",
     "output_type": "stream",
     "text": [
      " Test accuracy  0.78 \n"
     ]
    }
   ],
   "source": [
    "print( \" Test accuracy  %.2f \" %lassoReg.score(x_test, y_test))"
   ]
  },
  {
   "cell_type": "markdown",
   "metadata": {},
   "source": [
    "# cross check"
   ]
  },
  {
   "cell_type": "code",
   "execution_count": 47,
   "metadata": {},
   "outputs": [
    {
     "name": "stdout",
     "output_type": "stream",
     "text": [
      "lasso acuuracy: 78%\n"
     ]
    }
   ],
   "source": [
    "score = cross_val_score(lassoReg, X, y,cv =10 )\n",
    "Accuracy = score.mean()\n",
    "print(\"lasso acuuracy: {}%\". format(int(round(Accuracy*100))))"
   ]
  },
  {
   "cell_type": "markdown",
   "metadata": {},
   "source": [
    "# Method4: Elastic Net"
   ]
  },
  {
   "cell_type": "code",
   "execution_count": 77,
   "metadata": {},
   "outputs": [
    {
     "data": {
      "text/plain": [
       "ElasticNet(alpha=0.01, copy_X=True, fit_intercept=True, l1_ratio=0.5,\n",
       "      max_iter=10000, normalize=False, positive=False, precompute=False,\n",
       "      random_state=None, selection='cyclic', tol=0.0001, warm_start=False)"
      ]
     },
     "execution_count": 77,
     "metadata": {},
     "output_type": "execute_result"
    }
   ],
   "source": [
    "from sklearn.linear_model import ElasticNet \n",
    "ElasticNetReg = ElasticNet(alpha=0.01,max_iter=10000)\n",
    "ElasticNetReg.fit(x_train, y_train)\n"
   ]
  },
  {
   "cell_type": "code",
   "execution_count": 78,
   "metadata": {},
   "outputs": [
    {
     "name": "stdout",
     "output_type": "stream",
     "text": [
      "Elastic regression on test set : ['R-Square result: 0.71', 'explined variance of model: 0.71', 'mean_squared_error:  0.06', 'RMSE:  0.24']\n",
      "Elastic regression on train set : ['R-Square result: 0.70', 'explined variance of model: 0.70', 'mean_squared_error:  0.06', 'RMSE:  0.25']\n"
     ]
    }
   ],
   "source": [
    "predcted_y_test =ElasticNetReg.predict(x_test)\n",
    "predcted_y_train =ElasticNetReg.predict(x_train)\n",
    "print(\"Elastic regression on test set :\",eroor_and_score(predcted_y_test,y_test))\n",
    "print(\"Elastic regression on train set :\",eroor_and_score(predcted_y_train,y_train))\n"
   ]
  },
  {
   "cell_type": "code",
   "execution_count": 79,
   "metadata": {},
   "outputs": [
    {
     "name": "stdout",
     "output_type": "stream",
     "text": [
      " Test  accuracy  0.78 \n"
     ]
    }
   ],
   "source": [
    "print( \" Test  accuracy  %.2f \" %ElasticNetReg.score(x_test, y_test))"
   ]
  },
  {
   "cell_type": "code",
   "execution_count": 80,
   "metadata": {},
   "outputs": [
    {
     "name": "stdout",
     "output_type": "stream",
     "text": [
      "Ridge model acuuracy: 77%\n"
     ]
    }
   ],
   "source": [
    "score = cross_val_score(ElasticNetReg, X, y,cv =10 )\n",
    "Accuracy = score.mean()\n",
    "print(\"Ridge model acuuracy: {}%\". format(int(round(Accuracy*100))))"
   ]
  },
  {
   "cell_type": "markdown",
   "metadata": {},
   "source": [
    "# Method5: Polynomial"
   ]
  },
  {
   "cell_type": "code",
   "execution_count": 52,
   "metadata": {},
   "outputs": [
    {
     "data": {
      "text/plain": [
       "LinearRegression(copy_X=True, fit_intercept=True, n_jobs=None,\n",
       "         normalize=False)"
      ]
     },
     "execution_count": 52,
     "metadata": {},
     "output_type": "execute_result"
    }
   ],
   "source": [
    "from sklearn.preprocessing import PolynomialFeatures\n",
    "poly_reg = PolynomialFeatures(degree = 2)\n",
    "X_poly = poly_reg.fit_transform(x_train)\n",
    "poly_reg.fit(X_poly, y_train)\n",
    "lin_reg_2 = LinearRegression()\n",
    "lin_reg_2.fit(X_poly, y_train)"
   ]
  },
  {
   "cell_type": "code",
   "execution_count": 53,
   "metadata": {},
   "outputs": [
    {
     "name": "stdout",
     "output_type": "stream",
     "text": [
      "Polynomial regression on test set : ['R-Square result: 0.77', 'explined variance of model: 0.77', 'mean_squared_error:  0.05', 'RMSE:  0.23']\n",
      "Polynomial regression on train set : ['R-Square result: 0.77', 'explined variance of model: 0.77', 'mean_squared_error:  0.05', 'RMSE:  0.23']\n"
     ]
    }
   ],
   "source": [
    "predcted_y_test = lin_reg_2.predict(poly_reg.fit_transform(x_test))\n",
    "predcted_y_train =lin_reg_2.predict(poly_reg.fit_transform(x_train))\n",
    "print(\"Polynomial regression on test set :\",eroor_and_score(predcted_y_test,y_test))\n",
    "print(\"Polynomial regression on train set :\",eroor_and_score(predcted_y_train,y_train))"
   ]
  },
  {
   "cell_type": "markdown",
   "metadata": {},
   "source": [
    "# model accuracy"
   ]
  },
  {
   "cell_type": "code",
   "execution_count": 54,
   "metadata": {},
   "outputs": [
    {
     "name": "stdout",
     "output_type": "stream",
     "text": [
      "Polynomial  model acuuracy: 78%\n"
     ]
    }
   ],
   "source": [
    "score = cross_val_score(lin_reg_2, X, y,cv =10 )\n",
    "Accuracy = score.mean()\n",
    "print(\"Polynomial  model acuuracy: {}%\". format(int(round(Accuracy*100))))"
   ]
  },
  {
   "cell_type": "markdown",
   "metadata": {},
   "source": [
    "# Decission Tree regression"
   ]
  },
  {
   "cell_type": "code",
   "execution_count": 55,
   "metadata": {},
   "outputs": [],
   "source": [
    "from sklearn.tree import DecisionTreeRegressor\n",
    "regressor = DecisionTreeRegressor(random_state=0)\n",
    "dec_tree = regressor.fit(x_train, y_train)\n"
   ]
  },
  {
   "cell_type": "code",
   "execution_count": 56,
   "metadata": {},
   "outputs": [
    {
     "name": "stdout",
     "output_type": "stream",
     "text": [
      "Decision Tree regression on test set : ['R-Square result: 0.72', 'explined variance of model: 0.72', 'mean_squared_error:  0.08', 'RMSE:  0.28']\n",
      "Decision Tree regression on train set : ['R-Square result: 1.00', 'explined variance of model: 1.00', 'mean_squared_error:  0.00', 'RMSE:  0.03']\n"
     ]
    }
   ],
   "source": [
    "predcted_y_test =dec_tree.predict(x_test)\n",
    "predcted_y_train =dec_tree.predict(x_train)\n",
    "print(\"Decision Tree regression on test set :\",eroor_and_score(predcted_y_test,y_test))\n",
    "print(\"Decision Tree regression on train set :\",eroor_and_score(predcted_y_train,y_train))"
   ]
  },
  {
   "cell_type": "code",
   "execution_count": 57,
   "metadata": {},
   "outputs": [
    {
     "name": "stdout",
     "output_type": "stream",
     "text": [
      " Decision Tree   0.71 \n"
     ]
    }
   ],
   "source": [
    "print( \" Decision Tree   %.2f \" %dec_tree.score(x_test, y_test))"
   ]
  },
  {
   "cell_type": "code",
   "execution_count": 58,
   "metadata": {},
   "outputs": [
    {
     "name": "stdout",
     "output_type": "stream",
     "text": [
      "Ridge model acuuracy: 71%\n"
     ]
    }
   ],
   "source": [
    "score = cross_val_score(dec_tree, X, y,cv =10 )\n",
    "Accuracy = score.mean()\n",
    "print(\"Ridge model acuuracy: {}%\". format(int(round(Accuracy*100))))"
   ]
  },
  {
   "cell_type": "code",
   "execution_count": 59,
   "metadata": {},
   "outputs": [],
   "source": [
    "from sklearn.ensemble import RandomTreesEmbedding\n",
    "from sklearn.ensemble import RandomForestRegressor"
   ]
  },
  {
   "cell_type": "code",
   "execution_count": 60,
   "metadata": {},
   "outputs": [],
   "source": [
    "depth = [2,4,6,10]\n",
    "features = [5,8,11,14]\n"
   ]
  },
  {
   "cell_type": "code",
   "execution_count": 64,
   "metadata": {},
   "outputs": [
    {
     "name": "stderr",
     "output_type": "stream",
     "text": [
      "C:\\Anaconda3\\lib\\site-packages\\ipykernel_launcher.py:6: DataConversionWarning: A column-vector y was passed when a 1d array was expected. Please change the shape of y to (n_samples,), for example using ravel().\n",
      "  \n",
      "C:\\Anaconda3\\lib\\site-packages\\ipykernel_launcher.py:6: DataConversionWarning: A column-vector y was passed when a 1d array was expected. Please change the shape of y to (n_samples,), for example using ravel().\n",
      "  \n",
      "C:\\Anaconda3\\lib\\site-packages\\ipykernel_launcher.py:6: DataConversionWarning: A column-vector y was passed when a 1d array was expected. Please change the shape of y to (n_samples,), for example using ravel().\n",
      "  \n",
      "C:\\Anaconda3\\lib\\site-packages\\ipykernel_launcher.py:6: DataConversionWarning: A column-vector y was passed when a 1d array was expected. Please change the shape of y to (n_samples,), for example using ravel().\n",
      "  \n",
      "C:\\Anaconda3\\lib\\site-packages\\ipykernel_launcher.py:6: DataConversionWarning: A column-vector y was passed when a 1d array was expected. Please change the shape of y to (n_samples,), for example using ravel().\n",
      "  \n",
      "C:\\Anaconda3\\lib\\site-packages\\ipykernel_launcher.py:6: DataConversionWarning: A column-vector y was passed when a 1d array was expected. Please change the shape of y to (n_samples,), for example using ravel().\n",
      "  \n",
      "C:\\Anaconda3\\lib\\site-packages\\ipykernel_launcher.py:6: DataConversionWarning: A column-vector y was passed when a 1d array was expected. Please change the shape of y to (n_samples,), for example using ravel().\n",
      "  \n",
      "C:\\Anaconda3\\lib\\site-packages\\ipykernel_launcher.py:6: DataConversionWarning: A column-vector y was passed when a 1d array was expected. Please change the shape of y to (n_samples,), for example using ravel().\n",
      "  \n",
      "C:\\Anaconda3\\lib\\site-packages\\ipykernel_launcher.py:6: DataConversionWarning: A column-vector y was passed when a 1d array was expected. Please change the shape of y to (n_samples,), for example using ravel().\n",
      "  \n",
      "C:\\Anaconda3\\lib\\site-packages\\ipykernel_launcher.py:6: DataConversionWarning: A column-vector y was passed when a 1d array was expected. Please change the shape of y to (n_samples,), for example using ravel().\n",
      "  \n",
      "C:\\Anaconda3\\lib\\site-packages\\ipykernel_launcher.py:6: DataConversionWarning: A column-vector y was passed when a 1d array was expected. Please change the shape of y to (n_samples,), for example using ravel().\n",
      "  \n",
      "C:\\Anaconda3\\lib\\site-packages\\ipykernel_launcher.py:6: DataConversionWarning: A column-vector y was passed when a 1d array was expected. Please change the shape of y to (n_samples,), for example using ravel().\n",
      "  \n",
      "C:\\Anaconda3\\lib\\site-packages\\ipykernel_launcher.py:6: DataConversionWarning: A column-vector y was passed when a 1d array was expected. Please change the shape of y to (n_samples,), for example using ravel().\n",
      "  \n",
      "C:\\Anaconda3\\lib\\site-packages\\ipykernel_launcher.py:6: DataConversionWarning: A column-vector y was passed when a 1d array was expected. Please change the shape of y to (n_samples,), for example using ravel().\n",
      "  \n",
      "C:\\Anaconda3\\lib\\site-packages\\ipykernel_launcher.py:6: DataConversionWarning: A column-vector y was passed when a 1d array was expected. Please change the shape of y to (n_samples,), for example using ravel().\n",
      "  \n",
      "C:\\Anaconda3\\lib\\site-packages\\ipykernel_launcher.py:6: DataConversionWarning: A column-vector y was passed when a 1d array was expected. Please change the shape of y to (n_samples,), for example using ravel().\n",
      "  \n"
     ]
    }
   ],
   "source": [
    "My_output = []\n",
    "for i in features:\n",
    "    for k in depth:\n",
    "        regr = RandomForestRegressor(random_state=10,max_features=i,max_depth=k,\n",
    "                              n_estimators=100,n_jobs=2)\n",
    "        regr.fit(x_train, y_train)\n",
    "        score = regr.score(x_train, y_train )\n",
    "        My_output.append((score,k,i))"
   ]
  },
  {
   "cell_type": "code",
   "execution_count": 65,
   "metadata": {},
   "outputs": [
    {
     "name": "stdout",
     "output_type": "stream",
     "text": [
      "Random Forest regression on test set : ['R-Square result: 0.79', 'explined variance of model: 0.79', 'mean_squared_error:  0.05', 'RMSE:  0.21']\n",
      "Random Forest regression on train set : ['R-Square result: 0.86', 'explined variance of model: 0.86', 'mean_squared_error:  0.03', 'RMSE:  0.18']\n"
     ]
    }
   ],
   "source": [
    "predcted_y_test =regr.predict(x_test)\n",
    "predcted_y_train =regr.predict(x_train)\n",
    "print(\"Random Forest regression on test set :\",eroor_and_score(predcted_y_test,y_test))\n",
    "print(\"Random Forest regression on train set :\",eroor_and_score(predcted_y_train,y_train))\n"
   ]
  },
  {
   "cell_type": "code",
   "execution_count": 66,
   "metadata": {},
   "outputs": [
    {
     "name": "stdout",
     "output_type": "stream",
     "text": [
      " Test  accuracy  0.83 \n"
     ]
    }
   ],
   "source": [
    "print( \" Test  accuracy  %.2f \" %regr.score(x_test, y_test))\n"
   ]
  },
  {
   "cell_type": "markdown",
   "metadata": {},
   "source": [
    "# full model accuracy"
   ]
  },
  {
   "cell_type": "code",
   "execution_count": 68,
   "metadata": {},
   "outputs": [
    {
     "name": "stderr",
     "output_type": "stream",
     "text": [
      "C:\\Anaconda3\\lib\\site-packages\\sklearn\\model_selection\\_validation.py:528: DataConversionWarning: A column-vector y was passed when a 1d array was expected. Please change the shape of y to (n_samples,), for example using ravel().\n",
      "  estimator.fit(X_train, y_train, **fit_params)\n",
      "C:\\Anaconda3\\lib\\site-packages\\sklearn\\model_selection\\_validation.py:528: DataConversionWarning: A column-vector y was passed when a 1d array was expected. Please change the shape of y to (n_samples,), for example using ravel().\n",
      "  estimator.fit(X_train, y_train, **fit_params)\n",
      "C:\\Anaconda3\\lib\\site-packages\\sklearn\\model_selection\\_validation.py:528: DataConversionWarning: A column-vector y was passed when a 1d array was expected. Please change the shape of y to (n_samples,), for example using ravel().\n",
      "  estimator.fit(X_train, y_train, **fit_params)\n",
      "C:\\Anaconda3\\lib\\site-packages\\sklearn\\model_selection\\_validation.py:528: DataConversionWarning: A column-vector y was passed when a 1d array was expected. Please change the shape of y to (n_samples,), for example using ravel().\n",
      "  estimator.fit(X_train, y_train, **fit_params)\n",
      "C:\\Anaconda3\\lib\\site-packages\\sklearn\\model_selection\\_validation.py:528: DataConversionWarning: A column-vector y was passed when a 1d array was expected. Please change the shape of y to (n_samples,), for example using ravel().\n",
      "  estimator.fit(X_train, y_train, **fit_params)\n",
      "C:\\Anaconda3\\lib\\site-packages\\sklearn\\model_selection\\_validation.py:528: DataConversionWarning: A column-vector y was passed when a 1d array was expected. Please change the shape of y to (n_samples,), for example using ravel().\n",
      "  estimator.fit(X_train, y_train, **fit_params)\n",
      "C:\\Anaconda3\\lib\\site-packages\\sklearn\\model_selection\\_validation.py:528: DataConversionWarning: A column-vector y was passed when a 1d array was expected. Please change the shape of y to (n_samples,), for example using ravel().\n",
      "  estimator.fit(X_train, y_train, **fit_params)\n",
      "C:\\Anaconda3\\lib\\site-packages\\sklearn\\model_selection\\_validation.py:528: DataConversionWarning: A column-vector y was passed when a 1d array was expected. Please change the shape of y to (n_samples,), for example using ravel().\n",
      "  estimator.fit(X_train, y_train, **fit_params)\n",
      "C:\\Anaconda3\\lib\\site-packages\\sklearn\\model_selection\\_validation.py:528: DataConversionWarning: A column-vector y was passed when a 1d array was expected. Please change the shape of y to (n_samples,), for example using ravel().\n",
      "  estimator.fit(X_train, y_train, **fit_params)\n",
      "C:\\Anaconda3\\lib\\site-packages\\sklearn\\model_selection\\_validation.py:528: DataConversionWarning: A column-vector y was passed when a 1d array was expected. Please change the shape of y to (n_samples,), for example using ravel().\n",
      "  estimator.fit(X_train, y_train, **fit_params)\n"
     ]
    },
    {
     "name": "stdout",
     "output_type": "stream",
     "text": [
      "Random Forest model acuuracy: 83%\n"
     ]
    }
   ],
   "source": [
    "score = cross_val_score(regr, X, y,cv =10 )\n",
    "Accuracy = score.mean()\n",
    "\n",
    "print(\"Random Forest model acuuracy: {}%\". format(int(round(Accuracy*100))))"
   ]
  },
  {
   "cell_type": "code",
   "execution_count": 69,
   "metadata": {},
   "outputs": [],
   "source": [
    "from sklearn import ensemble\n",
    "GBR=ensemble.GradientBoostingRegressor(n_estimators=400,max_depth=5,min_samples_split=2,learning_rate=0.1)"
   ]
  },
  {
   "cell_type": "code",
   "execution_count": 70,
   "metadata": {},
   "outputs": [
    {
     "name": "stderr",
     "output_type": "stream",
     "text": [
      "C:\\Anaconda3\\lib\\site-packages\\sklearn\\utils\\validation.py:761: DataConversionWarning: A column-vector y was passed when a 1d array was expected. Please change the shape of y to (n_samples, ), for example using ravel().\n",
      "  y = column_or_1d(y, warn=True)\n"
     ]
    },
    {
     "data": {
      "text/plain": [
       "GradientBoostingRegressor(alpha=0.9, criterion='friedman_mse', init=None,\n",
       "             learning_rate=0.1, loss='ls', max_depth=5, max_features=None,\n",
       "             max_leaf_nodes=None, min_impurity_decrease=0.0,\n",
       "             min_impurity_split=None, min_samples_leaf=1,\n",
       "             min_samples_split=2, min_weight_fraction_leaf=0.0,\n",
       "             n_estimators=400, n_iter_no_change=None, presort='auto',\n",
       "             random_state=None, subsample=1.0, tol=0.0001,\n",
       "             validation_fraction=0.1, verbose=0, warm_start=False)"
      ]
     },
     "execution_count": 70,
     "metadata": {},
     "output_type": "execute_result"
    }
   ],
   "source": [
    "GBR.fit(x_train, y_train)"
   ]
  },
  {
   "cell_type": "code",
   "execution_count": 71,
   "metadata": {},
   "outputs": [
    {
     "data": {
      "text/plain": [
       "0.8864091339139586"
      ]
     },
     "execution_count": 71,
     "metadata": {},
     "output_type": "execute_result"
    }
   ],
   "source": [
    "GBR.score(x_test,y_test)"
   ]
  },
  {
   "cell_type": "code",
   "execution_count": 72,
   "metadata": {},
   "outputs": [
    {
     "name": "stdout",
     "output_type": "stream",
     "text": [
      "Random Forest regression on test set : ['R-Square result: 0.87', 'explined variance of model: 0.87', 'mean_squared_error:  0.03', 'RMSE:  0.17']\n",
      "Random Forest regression on train set : ['R-Square result: 0.93', 'explined variance of model: 0.93', 'mean_squared_error:  0.02', 'RMSE:  0.13']\n"
     ]
    }
   ],
   "source": [
    "predcted_y_test =GBR.predict(x_test)\n",
    "predcted_y_train =GBR.predict(x_train)\n",
    "print(\"Random Forest regression on test set :\",eroor_and_score(predcted_y_test,y_test))\n",
    "print(\"Random Forest regression on train set :\",eroor_and_score(predcted_y_train,y_train))\n"
   ]
  },
  {
   "cell_type": "code",
   "execution_count": 73,
   "metadata": {},
   "outputs": [
    {
     "data": {
      "text/plain": [
       "0.9382409852686675"
      ]
     },
     "execution_count": 73,
     "metadata": {},
     "output_type": "execute_result"
    }
   ],
   "source": [
    "GBR.score(x_train,y_train)"
   ]
  },
  {
   "cell_type": "code",
   "execution_count": 75,
   "metadata": {},
   "outputs": [
    {
     "name": "stderr",
     "output_type": "stream",
     "text": [
      "C:\\Anaconda3\\lib\\site-packages\\sklearn\\utils\\validation.py:761: DataConversionWarning: A column-vector y was passed when a 1d array was expected. Please change the shape of y to (n_samples, ), for example using ravel().\n",
      "  y = column_or_1d(y, warn=True)\n",
      "C:\\Anaconda3\\lib\\site-packages\\sklearn\\utils\\validation.py:761: DataConversionWarning: A column-vector y was passed when a 1d array was expected. Please change the shape of y to (n_samples, ), for example using ravel().\n",
      "  y = column_or_1d(y, warn=True)\n",
      "C:\\Anaconda3\\lib\\site-packages\\sklearn\\utils\\validation.py:761: DataConversionWarning: A column-vector y was passed when a 1d array was expected. Please change the shape of y to (n_samples, ), for example using ravel().\n",
      "  y = column_or_1d(y, warn=True)\n",
      "C:\\Anaconda3\\lib\\site-packages\\sklearn\\utils\\validation.py:761: DataConversionWarning: A column-vector y was passed when a 1d array was expected. Please change the shape of y to (n_samples, ), for example using ravel().\n",
      "  y = column_or_1d(y, warn=True)\n",
      "C:\\Anaconda3\\lib\\site-packages\\sklearn\\utils\\validation.py:761: DataConversionWarning: A column-vector y was passed when a 1d array was expected. Please change the shape of y to (n_samples, ), for example using ravel().\n",
      "  y = column_or_1d(y, warn=True)\n",
      "C:\\Anaconda3\\lib\\site-packages\\sklearn\\utils\\validation.py:761: DataConversionWarning: A column-vector y was passed when a 1d array was expected. Please change the shape of y to (n_samples, ), for example using ravel().\n",
      "  y = column_or_1d(y, warn=True)\n",
      "C:\\Anaconda3\\lib\\site-packages\\sklearn\\utils\\validation.py:761: DataConversionWarning: A column-vector y was passed when a 1d array was expected. Please change the shape of y to (n_samples, ), for example using ravel().\n",
      "  y = column_or_1d(y, warn=True)\n",
      "C:\\Anaconda3\\lib\\site-packages\\sklearn\\utils\\validation.py:761: DataConversionWarning: A column-vector y was passed when a 1d array was expected. Please change the shape of y to (n_samples, ), for example using ravel().\n",
      "  y = column_or_1d(y, warn=True)\n",
      "C:\\Anaconda3\\lib\\site-packages\\sklearn\\utils\\validation.py:761: DataConversionWarning: A column-vector y was passed when a 1d array was expected. Please change the shape of y to (n_samples, ), for example using ravel().\n",
      "  y = column_or_1d(y, warn=True)\n",
      "C:\\Anaconda3\\lib\\site-packages\\sklearn\\utils\\validation.py:761: DataConversionWarning: A column-vector y was passed when a 1d array was expected. Please change the shape of y to (n_samples, ), for example using ravel().\n",
      "  y = column_or_1d(y, warn=True)\n"
     ]
    },
    {
     "name": "stdout",
     "output_type": "stream",
     "text": [
      "GBR: 88%\n"
     ]
    }
   ],
   "source": [
    "score = cross_val_score(GBR, X, y,cv =10 )\n",
    "Accuracy = score.mean()\n",
    "\n",
    "print(\"GBR: {}%\". format(int(round(Accuracy*100))))"
   ]
  },
  {
   "cell_type": "code",
   "execution_count": null,
   "metadata": {},
   "outputs": [],
   "source": []
  }
 ],
 "metadata": {
  "kernelspec": {
   "display_name": "Python 3",
   "language": "python",
   "name": "python3"
  },
  "language_info": {
   "codemirror_mode": {
    "name": "ipython",
    "version": 3
   },
   "file_extension": ".py",
   "mimetype": "text/x-python",
   "name": "python",
   "nbconvert_exporter": "python",
   "pygments_lexer": "ipython3",
   "version": "3.7.3"
  }
 },
 "nbformat": 4,
 "nbformat_minor": 2
}
